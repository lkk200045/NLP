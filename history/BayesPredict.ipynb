{
 "cells": [
  {
   "cell_type": "code",
   "execution_count": 16,
   "metadata": {
    "collapsed": false
   },
   "outputs": [],
   "source": [
    "import sqlite3 as lite\n",
    "import jieba\n",
    "import pandas as pd\n",
    "tags = []\n",
    "corpus = []\n",
    "titles = []\n",
    "with lite.connect('news.sqlite') as db:\n",
    "    cur = db.cursor()\n",
    "    cur.execute('select summary, title, category from news_entry;')\n",
    "    data = cur.fetchall()\n",
    "    for rec in data:\n",
    "        #if rec[2].encode('utf-8') in ['娛樂', '社會', '財經']:\n",
    "        if rec[2].encode('utf-8') in ['娛樂', '社會']:\n",
    "            corpus.append(' '.join(jieba.cut(rec[0])))\n",
    "            titles.append(rec[1])\n",
    "            if rec[2].encode('utf-8') == '娛樂':\n",
    "                tags.append(0)\n",
    "            else:\n",
    "                tags.append(1)\n"
   ]
  },
  {
   "cell_type": "code",
   "execution_count": 17,
   "metadata": {
    "collapsed": true
   },
   "outputs": [],
   "source": [
    "import jieba\n",
    "from sklearn.feature_extraction.text import CountVectorizer\n",
    "vectorizer=CountVectorizer()\n",
    "X =vectorizer.fit_transform(corpus)\n",
    "word =vectorizer.get_feature_names()\n"
   ]
  },
  {
   "cell_type": "code",
   "execution_count": 18,
   "metadata": {
    "collapsed": true
   },
   "outputs": [],
   "source": [
    "from sklearn.cross_validation import train_test_split\n",
    "train_data,test_data,train_tag,test_tag, train_title, test_title=train_test_split(X,tags,titles,test_size=0.30,random_state=42)"
   ]
  },
  {
   "cell_type": "code",
   "execution_count": 19,
   "metadata": {
    "collapsed": false
   },
   "outputs": [
    {
     "data": {
      "text/plain": [
       "MultinomialNB(alpha=0.01, class_prior=None, fit_prior=True)"
      ]
     },
     "execution_count": 19,
     "metadata": {},
     "output_type": "execute_result"
    }
   ],
   "source": [
    "from sklearn.naive_bayes import MultinomialNB\n",
    "clf= MultinomialNB(alpha=0.01)\n",
    "clf.fit(train_data,train_tag)"
   ]
  },
  {
   "cell_type": "code",
   "execution_count": 20,
   "metadata": {
    "collapsed": false
   },
   "outputs": [
    {
     "ename": "NameError",
     "evalue": "name 'csr_matrix' is not defined",
     "output_type": "error",
     "traceback": [
      "\u001b[1;31m---------------------------------------------------------------------------\u001b[0m",
      "\u001b[1;31mNameError\u001b[0m                                 Traceback (most recent call last)",
      "\u001b[1;32m<ipython-input-20-478394ce78bb>\u001b[0m in \u001b[0;36m<module>\u001b[1;34m()\u001b[0m\n\u001b[0;32m     13\u001b[0m         \u001b[1;32mpass\u001b[0m\u001b[1;33m\u001b[0m\u001b[0m\n\u001b[0;32m     14\u001b[0m \u001b[1;33m\u001b[0m\u001b[0m\n\u001b[1;32m---> 15\u001b[1;33m \u001b[0ma\u001b[0m \u001b[1;33m=\u001b[0m \u001b[0mcsr_matrix\u001b[0m\u001b[1;33m(\u001b[0m\u001b[0mnparray\u001b[0m\u001b[1;33m,\u001b[0m \u001b[0mdtype\u001b[0m\u001b[1;33m=\u001b[0m\u001b[0mnp\u001b[0m\u001b[1;33m.\u001b[0m\u001b[0mint8\u001b[0m\u001b[1;33m)\u001b[0m\u001b[1;33m\u001b[0m\u001b[0m\n\u001b[0m\u001b[0;32m     16\u001b[0m \u001b[1;32mprint\u001b[0m \u001b[0ma\u001b[0m\u001b[1;33m.\u001b[0m\u001b[0mtoarray\u001b[0m\u001b[1;33m(\u001b[0m\u001b[1;33m)\u001b[0m\u001b[1;33m[\u001b[0m\u001b[1;36m0\u001b[0m\u001b[1;33m]\u001b[0m\u001b[1;33m\u001b[0m\u001b[0m\n\u001b[0;32m     17\u001b[0m \u001b[1;33m\u001b[0m\u001b[0m\n",
      "\u001b[1;31mNameError\u001b[0m: name 'csr_matrix' is not defined"
     ]
    }
   ],
   "source": [
    "s = u'天道盟太陽會見違法詐騙行為簡單，且取得大筆金錢快速、容易，一年多前在桃園市南區成立詐騙行動中心，由23歲的黃姓男子(有多項恐嚇、傷害及毒品前科)擔任該中心行動、詐騙組組長，和騙集團合作，由海外打電話詐騙國人，並吸收多名未成少年擔任車手，在國內提款機四處取款，一年來得手詐騙金額新台幣數百萬元。'\n",
    "s1 = u'徐懷鈺「無法抄襲」Jolin 徐懷鈺'\n",
    "sentences = [s, s1]\n",
    "\n",
    "import numpy\n",
    "nparray = np.array([0] * len(vectorizer.get_feature_names()))\n",
    "ary = [ele for ele in jieba.cut(s)]\n",
    "for ele in ary:\n",
    "    try:\n",
    "        if word.index(ele.lower()) >= 0:\n",
    "            nparray[word.index(ele.lower())] = ary.count(ele)           \n",
    "    except:\n",
    "        pass\n",
    "\n",
    "a = csr_matrix(nparray, dtype=np.int8)\n",
    "print a.toarray()[0]\n",
    "\n",
    "pred=clf.predict(a[0])\n",
    "print pred[0]"
   ]
  },
  {
   "cell_type": "code",
   "execution_count": 21,
   "metadata": {
    "collapsed": false
   },
   "outputs": [],
   "source": [
    "import numpy\n",
    "def getPrediction(sentences):\n",
    "    result = []\n",
    "    for sentence in sentences:\n",
    "        nparray = np.array([0] * len(vectorizer.get_feature_names()))\n",
    "        ary = [ele for ele in jieba.cut(sentence)]\n",
    "        for ele in ary:\n",
    "            try:\n",
    "                if word.index(ele.lower()) >= 0:\n",
    "                    nparray[word.index(ele.lower())] = ary.count(ele)           \n",
    "            except:\n",
    "                pass\n",
    "        result.append(nparray)\n",
    "    return result"
   ]
  },
  {
   "cell_type": "code",
   "execution_count": 22,
   "metadata": {
    "collapsed": false
   },
   "outputs": [
    {
     "ename": "NameError",
     "evalue": "name 'csr_matrix' is not defined",
     "output_type": "error",
     "traceback": [
      "\u001b[1;31m---------------------------------------------------------------------------\u001b[0m",
      "\u001b[1;31mNameError\u001b[0m                                 Traceback (most recent call last)",
      "\u001b[1;32m<ipython-input-22-7c5e1a3f02f5>\u001b[0m in \u001b[0;36m<module>\u001b[1;34m()\u001b[0m\n\u001b[0;32m      4\u001b[0m \u001b[1;33m\u001b[0m\u001b[0m\n\u001b[0;32m      5\u001b[0m \u001b[0mresult\u001b[0m \u001b[1;33m=\u001b[0m \u001b[0mgetPrediction\u001b[0m\u001b[1;33m(\u001b[0m\u001b[0msentences\u001b[0m\u001b[1;33m)\u001b[0m\u001b[1;33m\u001b[0m\u001b[0m\n\u001b[1;32m----> 6\u001b[1;33m \u001b[0ma\u001b[0m \u001b[1;33m=\u001b[0m \u001b[0mcsr_matrix\u001b[0m\u001b[1;33m(\u001b[0m\u001b[0mresult\u001b[0m\u001b[1;33m,\u001b[0m \u001b[0mdtype\u001b[0m\u001b[1;33m=\u001b[0m\u001b[0mnp\u001b[0m\u001b[1;33m.\u001b[0m\u001b[0mint8\u001b[0m\u001b[1;33m)\u001b[0m\u001b[1;33m\u001b[0m\u001b[0m\n\u001b[0m\u001b[0;32m      7\u001b[0m \u001b[0mpred\u001b[0m\u001b[1;33m=\u001b[0m\u001b[0mclf\u001b[0m\u001b[1;33m.\u001b[0m\u001b[0mpredict\u001b[0m\u001b[1;33m(\u001b[0m\u001b[0ma\u001b[0m\u001b[1;33m)\u001b[0m\u001b[1;33m\u001b[0m\u001b[0m\n\u001b[0;32m      8\u001b[0m \u001b[1;32mprint\u001b[0m \u001b[0mpred\u001b[0m\u001b[1;33m\u001b[0m\u001b[0m\n",
      "\u001b[1;31mNameError\u001b[0m: name 'csr_matrix' is not defined"
     ]
    }
   ],
   "source": [
    "s = u'天道盟太陽會見違法詐騙行為簡單，且取得大筆金錢快速、容易，一年多前在桃園市南區成立詐騙行動中心，由23歲的黃姓男子(有多項恐嚇、傷害及毒品前科)擔任該中心行動、詐騙組組長，和騙集團合作，由海外打電話詐騙國人，並吸收多名未成少年擔任車手，在國內提款機四處取款，一年來得手詐騙金額新台幣數百萬元。'\n",
    "s1 = u'徐懷鈺「無法抄襲」Jolin 徐懷鈺'\n",
    "sentences = [s, s1]\n",
    "\n",
    "result = getPrediction(sentences)\n",
    "a = csr_matrix(result, dtype=np.int8)\n",
    "pred=clf.predict(a)\n",
    "print pred\n",
    "print pred[0]"
   ]
  },
  {
   "cell_type": "code",
   "execution_count": 23,
   "metadata": {
    "collapsed": false
   },
   "outputs": [
    {
     "name": "stdout",
     "output_type": "stream",
     "text": [
      "天道盟 太陽會 見 違法詐 騙行 為 簡單 ， 且 取得 大筆 金錢 快速 、 容易 ， 一年 多前 在 桃園 市南 區 成立 詐騙 行動 中心 ， 由 23 歲 的 黃 姓 男子 ( 有多項 恐嚇 、 傷害 及 毒品 前科 ) 擔任 該 中心 行動 、 詐騙 組組長 ， 和 騙 集團 合作 ， 由 海外 打電話 詐騙 國人 ， 並 吸收 多名 未 成 少年 擔任 車手 ， 在 國內 提款機 四處 取款 ， 一年 來 得手 詐騙 金額 新 台幣 數百萬元 。\n"
     ]
    }
   ],
   "source": [
    "#encoding=utf-8\n",
    "import jieba\n",
    "s = u'天道盟太陽會見違法詐騙行為簡單，且取得大筆金錢快速、容易，一年多前在桃園市南區成立詐騙行動中心，由23歲的黃姓男子(有多項恐嚇、傷害及毒品前科)擔任該中心行動、詐騙組組長，和騙集團合作，由海外打電話詐騙國人，並吸收多名未成少年擔任車手，在國內提款機四處取款，一年來得手詐騙金額新台幣數百萬元。'\n",
    "jieba.load_userdict('qoo.txt')\n",
    "for ele in jieba.cut(s):\n",
    "    print ele,"
   ]
  },
  {
   "cell_type": "code",
   "execution_count": 24,
   "metadata": {
    "collapsed": false
   },
   "outputs": [
    {
     "name": "stdout",
     "output_type": "stream",
     "text": [
      "Populating the interactive namespace from numpy and matplotlib\n"
     ]
    },
    {
     "name": "stderr",
     "output_type": "stream",
     "text": [
      "WARNING: pylab import has clobbered these variables: ['rec', 'clf']\n",
      "`%matplotlib` prevents importing * from pylab and numpy\n"
     ]
    }
   ],
   "source": [
    "%pylab inline"
   ]
  },
  {
   "cell_type": "code",
   "execution_count": 26,
   "metadata": {
    "collapsed": false
   },
   "outputs": [],
   "source": [
    "from sklearn.naive_bayes import MultinomialNB\n",
    "clf= MultinomialNB(alpha=0.01)\n",
    "probas_ = clf.fit(train_data,train_tag).predict_proba(test_data)"
   ]
  },
  {
   "cell_type": "code",
   "execution_count": 12,
   "metadata": {
    "collapsed": false
   },
   "outputs": [],
   "source": [
    "#print probas_"
   ]
  },
  {
   "cell_type": "code",
   "execution_count": 27,
   "metadata": {
    "collapsed": false
   },
   "outputs": [
    {
     "name": "stdout",
     "output_type": "stream",
     "text": [
      "Area under the ROC curve : 0.980038\n"
     ]
    }
   ],
   "source": [
    "from sklearn import metrics\n",
    "fpr, tpr, thresholds = metrics.roc_curve(test_tag, probas_[:, 1])\n",
    "roc_auc = metrics.auc(fpr, tpr)\n",
    "print(\"Area under the ROC curve : %f\" % roc_auc)"
   ]
  },
  {
   "cell_type": "code",
   "execution_count": 29,
   "metadata": {
    "collapsed": false
   },
   "outputs": [
    {
     "data": {
      "image/png": "[encoded data removed]",
      "text/plain": [
       "<matplotlib.figure.Figure at 0x224a96a0>"
      ]
     },
     "metadata": {},
     "output_type": "display_data"
    }
   ],
   "source": [
    "# Plot ROC curve\n",
    "import pylab as pl\n",
    "pl.clf()\n",
    "pl.plot(fpr, tpr, label='ROC curve (area = %0.2f)' % roc_auc)\n",
    "pl.plot([0, 1], [0, 1], 'k--')\n",
    "pl.xlim([0.0, 1.0])\n",
    "pl.ylim([0.0, 1.0])\n",
    "pl.xlabel('False Positive Rate')\n",
    "pl.ylabel('True Positive Rate')\n",
    "pl.title('Receiver operating characteristic example')\n",
    "pl.legend(loc=\"lower right\")\n",
    "pl.show()"
   ]
  },
  {
   "cell_type": "code",
   "execution_count": null,
   "metadata": {
    "collapsed": true
   },
   "outputs": [],
   "source": []
  }
 ],
 "metadata": {
  "kernelspec": {
   "display_name": "Python 2",
   "language": "python",
   "name": "python2"
  },
  "language_info": {
   "codemirror_mode": {
    "name": "ipython",
    "version": 2
   },
   "file_extension": ".py",
   "mimetype": "text/x-python",
   "name": "python",
   "nbconvert_exporter": "python",
   "pygments_lexer": "ipython2",
   "version": "2.7.11"
  }
 },
 "nbformat": 4,
 "nbformat_minor": 0
}
