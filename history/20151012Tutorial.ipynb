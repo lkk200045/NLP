{
 "cells": [
  {
   "cell_type": "code",
   "execution_count": 1,
   "metadata": {
    "collapsed": false
   },
   "outputs": [
    {
     "data": {
      "text/plain": [
       "5"
      ]
     },
     "execution_count": 1,
     "metadata": {},
     "output_type": "execute_result"
    }
   ],
   "source": [
    "a = 3 \n",
    "b = 2\n",
    "a + b"
   ]
  },
  {
   "cell_type": "code",
   "execution_count": 2,
   "metadata": {
    "collapsed": false
   },
   "outputs": [
    {
     "data": {
      "text/plain": [
       "3"
      ]
     },
     "execution_count": 2,
     "metadata": {},
     "output_type": "execute_result"
    }
   ],
   "source": [
    "a"
   ]
  },
  {
   "cell_type": "code",
   "execution_count": 3,
   "metadata": {
    "collapsed": false
   },
   "outputs": [
    {
     "name": "stdout",
     "output_type": "stream",
     "text": [
      "<Response [200]>\n"
     ]
    }
   ],
   "source": [
    "import requests\n",
    "res = requests.get('http://www.appledaily.com.tw/realtimenews/section/new/')\n",
    "print res"
   ]
  },
  {
   "cell_type": "code",
   "execution_count": 6,
   "metadata": {
    "collapsed": false
   },
   "outputs": [
    {
     "name": "stdout",
     "output_type": "stream",
     "text": [
      "['__attrs__', '__bool__', '__class__', '__delattr__', '__dict__', '__doc__', '__format__', '__getattribute__', '__getstate__', '__hash__', '__init__', '__iter__', '__module__', '__new__', '__nonzero__', '__reduce__', '__reduce_ex__', '__repr__', '__setattr__', '__setstate__', '__sizeof__', '__str__', '__subclasshook__', '__weakref__', '_content', '_content_consumed', 'apparent_encoding', 'close', 'connection', 'content', 'cookies', 'elapsed', 'encoding', 'headers', 'history', 'is_permanent_redirect', 'is_redirect', 'iter_content', 'iter_lines', 'json', 'links', 'ok', 'raise_for_status', 'raw', 'reason', 'request', 'status_code', 'text', 'url']\n"
     ]
    }
   ],
   "source": [
    "#print res.text\n",
    "print dir(res)"
   ]
  },
  {
   "cell_type": "code",
   "execution_count": 7,
   "metadata": {
    "collapsed": false
   },
   "outputs": [
    {
     "name": "stdout",
     "output_type": "stream",
     "text": [
      "200\n",
      "text/html; charset=utf-8\n"
     ]
    }
   ],
   "source": [
    "print res.status_code \n",
    "print res.headers['content-type']"
   ]
  },
  {
   "cell_type": "code",
   "execution_count": 8,
   "metadata": {
    "collapsed": false
   },
   "outputs": [
    {
     "name": "stdout",
     "output_type": "stream",
     "text": [
      "<Response [200]>\n"
     ]
    }
   ],
   "source": [
    "import requests\n",
    "payload = {\n",
    "'StartStation':'977abb69-413a-4ccf-a109-0272c24fd490',\n",
    "'EndStation':'fbd828d8-b1da-4b06-a3bd-680cdca4d2cd',\n",
    "'SearchDate':'2015/10/12',\n",
    "'SearchTime':'11:00',\n",
    "'SearchWay':'DepartureInMandarin'\n",
    "}\n",
    "res = requests.post('https://www.thsrc.com.tw/tw/TimeTable/SearchResult', data=payload )\n",
    "print res"
   ]
  },
  {
   "cell_type": "code",
   "execution_count": 10,
   "metadata": {
    "collapsed": false
   },
   "outputs": [],
   "source": [
    "#print res.text"
   ]
  },
  {
   "cell_type": "code",
   "execution_count": 11,
   "metadata": {
    "collapsed": false
   },
   "outputs": [
    {
     "name": "stdout",
     "output_type": "stream",
     "text": [
      "<Response [200]>\n"
     ]
    }
   ],
   "source": [
    "import requests\n",
    "res = requests.get('http://twtraffic.tra.gov.tw/twrail/SearchResult.aspx?searchtype=0&searchdate=2015/10/12&fromstation=1810&tostation=1008&trainclass=%271100%27,%271101%27,%271102%27,%271107%27,%271108%27,%271110%27,%271120%27&fromtime=0600&totime=2359')\n",
    "print res"
   ]
  },
  {
   "cell_type": "code",
   "execution_count": 13,
   "metadata": {
    "collapsed": false
   },
   "outputs": [],
   "source": [
    "import requests\n",
    "res = requests.get('http://24h.pchome.com.tw/prod/DYAM43-A9006F0UI?q=/S/DYAM43')\n",
    "#print res.text"
   ]
  },
  {
   "cell_type": "code",
   "execution_count": 14,
   "metadata": {
    "collapsed": false
   },
   "outputs": [
    {
     "name": "stdout",
     "output_type": "stream",
     "text": [
      "try{jsonp_prod_AlsoView1444620106057({\"DYAM43-A9006DVBN-000\":{\"Id\":\"DYAM43-A9006DVBN-000\",\"Name\":\"ASUS ZenPad S 8.0 Z580CA 8\\u540b\\u56db\\u6838\\u5e73\\u677f(Intel 3580\\/WiFi\\u7248\\/32G\\/\\u9ad8\\u8cb4\\u767d)\",\"Pic\":{\"B\":\"\\/pic\\/v1\\/data\\/item\\/201509\\/D\\/Y\\/A\\/M\\/4\\/3\\/DYAM43-A9006DVBN000_560b533870a75.jpg\",\"S\":\"\\/pic\\/v1\\/data\\/item\\/201508\\/D\\/Y\\/A\\/M\\/4\\/3\\/sDYAM43-A9006DVBN000_55d7038b6dea9.png\"},\"Price\":{\"M\":0,\"P\":8990},\"Store\":\"DYAM43\"},\"DYAM0H-A90068WD2-000\":{\"Id\":\"DYAM0H-A90068WD2-000\",\"Name\":\"Asus ZenPad 8.0 Z380C 8\\u540b\\u56db\\u6838\\u5e73\\u677f(Intel x3-C3200\\/WiFi\\u7248\\/16G\\/\\u9ad8\\u8cb4\\u767d)\",\"Pic\":{\"B\":\"\\/pic\\/v1\\/data\\/item\\/201507\\/D\\/Y\\/A\\/M\\/0\\/H\\/DYAM0H-A90068WD2000_55a8a16ca84fa.jpg\",\"S\":\"\\/pic\\/v1\\/data\\/item\\/201507\\/D\\/Y\\/A\\/M\\/0\\/H\\/sDYAM0H-A90068WD2000_55a8a16caa368.png\"},\"Price\":{\"M\":0,\"P\":4990},\"Store\":\"DYAM3P\"},\"DYAM26-A9006CFK9-000\":{\"Id\":\"DYAM26-A9006CFK9-000\",\"Name\":\"Samsung Galaxy Tab S2 8.0 \\u96d9\\u56db\\u68388\\u540b(WiFi\\u7248\\/32G)\",\"Pic\":{\"B\":\"\\/pic\\/v1\\/data\\/item\\/201509\\/D\\/Y\\/A\\/M\\/2\\/6\\/DYAM26-A9006CFK9000_560bbb2b6013c.jpg\",\"S\":\"\\/pic\\/v1\\/data\\/item\\/201508\\/D\\/Y\\/A\\/M\\/2\\/6\\/sDYAM26-A9006CFK9000_55d1bbffd900c.png\"},\"Price\":{\"M\":0,\"P\":12255},\"Store\":\"DYAM3W\"},\"DGBVAL-A900622R3-000\":{\"Id\":\"DGBVAL-A900622R3-000\",\"Name\":\"ACER Iconia Tab 10 (A3-A30-1375) 10\\u540b\\u56db\\u6838FHD(Z3735F\\/WiFi\\u7248\\/32G\\/\\u666e\\u9b6f\\u58eb\\u85cd)\",\"Pic\":{\"B\":\"\\/pic\\/v1\\/data\\/item\\/201509\\/D\\/G\\/B\\/V\\/A\\/L\\/DGBVAL-A900622R3000_55fa8f706174e.jpg\",\"S\":\"\\/pic\\/v1\\/data\\/item\\/201505\\/D\\/G\\/B\\/V\\/A\\/L\\/sDGBVAL-A900622R3000_5568421c9091b.png\"},\"Price\":{\"M\":9290,\"P\":8990},\"Store\":\"DYAM14\"},\"DYAM3R-A9006C2O4-000\":{\"Id\":\"DYAM3R-A9006C2O4-000\",\"Name\":\"ASUS Z\\u4e3b\\u52d5\\u96fb\\u5bb9\\u89f8\\u63a7\\u7b46\",\"Pic\":{\"B\":\"\\/pic\\/v1\\/data\\/item\\/201508\\/D\\/Y\\/A\\/M\\/3\\/R\\/DYAM3R-A9006C2O4000_55cdc1a9c9bdc.jpg\",\"S\":\"\\/pic\\/v1\\/data\\/item\\/201508\\/D\\/Y\\/A\\/M\\/3\\/R\\/sDYAM3R-A9006C2O4000_55cdc1a9ce915.png\"},\"Price\":{\"M\":0,\"P\":1190},\"Store\":\"DYAM47\"},\"DYAM06-A9006GDGH-000\":{\"Id\":\"DYAM06-A9006GDGH-000\",\"Name\":\"Google & hTC Nexus9 8.9\\u540b\\u5e73\\u677f (WIFI\\u7248\\/16G)\",\"Pic\":{\"B\":\"\\/pic\\/v1\\/data\\/item\\/201510\\/D\\/Y\\/A\\/M\\/0\\/6\\/DYAM06-A9006GDGH000_56165f000313d.jpg\",\"S\":\"\\/pic\\/v1\\/data\\/item\\/201509\\/D\\/Y\\/A\\/M\\/0\\/6\\/sDYAM06-A9006GDGH000_55e575162fee1.png\"},\"Price\":{\"M\":0,\"P\":8688},\"Store\":\"DYAM06\"},\"DYAM3R-A90069KXT-000\":{\"Id\":\"DYAM3R-A90069KXT-000\",\"Name\":\"ASUS ZenPad 10 Z300C 10.1\\u540b\\u56db\\u6838\\u5e73\\u677f(Intel x3-C3200\\/WiFi\\u7248\\/16G\\/\\u9ad8\\u8cb4\\u767d)\",\"Pic\":{\"B\":\"\\/pic\\/v1\\/data\\/item\\/201509\\/D\\/Y\\/A\\/M\\/3\\/R\\/DYAM3R-A90069KXT000_560b53585747c.jpg\",\"S\":\"\\/pic\\/v1\\/data\\/item\\/201508\\/D\\/Y\\/A\\/M\\/3\\/R\\/sDYAM3R-A90069KXT000_55db061002646.png\"},\"Price\":{\"M\":0,\"P\":6990},\"Store\":\"DYAM3R\"},\"DYAM3P-A9006BCBL-000\":{\"Id\":\"DYAM3P-A9006BCBL-000\",\"Name\":\"Asus ZenPad 8.0 Z380KL 8\\u540b\\u516b\\u6838\\u901a\\u8a71\\u5e73\\u677f LTE\\/16G\",\"Pic\":{\"B\":\"\\/pic\\/v1\\/data\\/item\\/201509\\/D\\/Y\\/A\\/M\\/3\\/P\\/DYAM3P-A9006BCBL000_5603bc0a4835f.jpg\",\"S\":\"\\/pic\\/v1\\/data\\/item\\/201507\\/D\\/Y\\/A\\/M\\/3\\/P\\/sDYAM3P-A9006BCBL000_55b0c8087875a.jpg\"},\"Price\":{\"M\":8990,\"P\":7990},\"Store\":\"DYAM3P\"},\"DGALSZ-A9005RHKX-000\":{\"Id\":\"DGALSZ-A9005RHKX-000\",\"Name\":\"Asus ZenFone PadFone S PF500KL\",\"Pic\":{\"B\":\"\\/pic\\/v1\\/data\\/item\\/201508\\/D\\/G\\/A\\/L\\/S\\/Z\\/DGALSZ-A9005RHKX000_55da7cbf5594e.jpg\",\"S\":\"\\/pic\\/v1\\/data\\/item\\/201412\\/D\\/G\\/A\\/L\\/S\\/Z\\/sDGALSZ-A9005RHKX000_54910508590d2.png\"},\"Price\":{\"M\":0,\"P\":9999},\"Store\":\"DGCC2U\"},\"DYAM3P-A90069LFS-000\":{\"Id\":\"DYAM3P-A90069LFS-000\",\"Name\":\"ASUS ZenPad 8.0 (Z380KL) \\u7279\\u52d9\\u9ed1\",\"Pic\":{\"B\":\"\\/pic\\/v1\\/data\\/item\\/201507\\/D\\/Y\\/A\\/M\\/3\\/P\\/DYAM3P-A90069LFS000_55a62175b5288.jpg\",\"S\":\"\\/pic\\/v1\\/data\\/item\\/201508\\/D\\/Y\\/A\\/M\\/3\\/P\\/sDYAM3P-A90069LFS000_55d1b8b516a45.jpg\"},\"Price\":{\"M\":8990,\"P\":7490},\"Store\":\"DYAM3P\"}});}catch(e){if(window.console){console.log(e);}}\n"
     ]
    }
   ],
   "source": [
    "import requests\n",
    "res = requests.get('http://ecapi.pchome.com.tw/ecshop/prodapi/v2/prod?id=DYAM43-A9006DVBN-000,DYAM0H-A90068WD2-000,DYAM26-A9006CFK9-000,DGBVAL-A900622R3-000,DYAM3R-A9006C2O4-000,DYAM06-A9006GDGH-000,DYAM3R-A90069KXT-000,DYAM3P-A9006BCBL-000,DGALSZ-A9005RHKX-000,DYAM3P-A90069LFS-000&fields=Id,Name,Pic,Price,Store&_callback=jsonp_prod_AlsoView1444620106057&_callback=jsonp_prod_AlsoView1444620106057')\n",
    "print res.text"
   ]
  },
  {
   "cell_type": "code",
   "execution_count": 16,
   "metadata": {
    "collapsed": false
   },
   "outputs": [
    {
     "name": "stdout",
     "output_type": "stream",
     "text": [
      "   Hello World This is link1 This is link2  \n"
     ]
    }
   ],
   "source": [
    "from bs4 import BeautifulSoup \n",
    "html_sample = ' \\\n",
    "<html> \\\n",
    " <body> \\\n",
    " <h1 id=\"title\">Hello World</h1> \\\n",
    " <a href=\"#\" class=\"link\">This is link1</a> \\\n",
    " <a href=\"# link2\" class=\"link\">This is link2</a> \\\n",
    " </body> \\\n",
    " </html>'\n",
    "\n",
    "soup = BeautifulSoup(html_sample, 'html.parser')\n",
    "print soup.text\n"
   ]
  },
  {
   "cell_type": "code",
   "execution_count": 17,
   "metadata": {
    "collapsed": false
   },
   "outputs": [
    {
     "name": "stdout",
     "output_type": "stream",
     "text": [
      "['ASCII_SPACES', 'DEFAULT_BUILDER_FEATURES', 'HTML_FORMATTERS', 'NO_PARSER_SPECIFIED_WARNING', 'ROOT_TAG_NAME', 'XML_FORMATTERS', '__call__', '__class__', '__contains__', '__copy__', '__delattr__', '__delitem__', '__dict__', '__doc__', '__eq__', '__format__', '__getattr__', '__getattribute__', '__getitem__', '__getstate__', '__hash__', '__init__', '__iter__', '__len__', '__module__', '__ne__', '__new__', '__nonzero__', '__reduce__', '__reduce_ex__', '__repr__', '__setattr__', '__setitem__', '__sizeof__', '__str__', '__subclasshook__', '__unicode__', '__weakref__', '_all_strings', '_attr_value_as_string', '_attribute_checker', '_feed', '_find_all', '_find_one', '_formatter_for_name', '_is_xml', '_lastRecursiveChild', '_last_descendant', '_most_recent_element', '_popToTag', '_select_debug', '_selector_combinators', '_should_pretty_print', '_tag_name_matches_and', 'append', 'attribselect_re', 'attrs', 'builder', 'can_be_empty_element', 'childGenerator', 'children', 'clear', 'contains_replacement_characters', 'contents', 'currentTag', 'current_data', 'declared_html_encoding', 'decode', 'decode_contents', 'decompose', 'descendants', 'encode', 'encode_contents', 'endData', 'extract', 'fetchNextSiblings', 'fetchParents', 'fetchPrevious', 'fetchPreviousSiblings', 'find', 'findAll', 'findAllNext', 'findAllPrevious', 'findChild', 'findChildren', 'findNext', 'findNextSibling', 'findNextSiblings', 'findParent', 'findParents', 'findPrevious', 'findPreviousSibling', 'findPreviousSiblings', 'find_all', 'find_all_next', 'find_all_previous', 'find_next', 'find_next_sibling', 'find_next_siblings', 'find_parent', 'find_parents', 'find_previous', 'find_previous_sibling', 'find_previous_siblings', 'format_string', 'get', 'getText', 'get_text', 'handle_data', 'handle_endtag', 'handle_starttag', 'has_attr', 'has_key', 'hidden', 'index', 'insert', 'insert_after', 'insert_before', 'isSelfClosing', 'is_empty_element', 'is_xml', 'markup', 'name', 'namespace', 'new_string', 'new_tag', 'next', 'nextGenerator', 'nextSibling', 'nextSiblingGenerator', 'next_element', 'next_elements', 'next_sibling', 'next_siblings', 'object_was_parsed', 'original_encoding', 'parent', 'parentGenerator', 'parents', 'parse_only', 'parserClass', 'parser_class', 'popTag', 'prefix', 'preserve_whitespace_tag_stack', 'prettify', 'previous', 'previousGenerator', 'previousSibling', 'previousSiblingGenerator', 'previous_element', 'previous_elements', 'previous_sibling', 'previous_siblings', 'pushTag', 'recursiveChildGenerator', 'renderContents', 'replaceWith', 'replaceWithChildren', 'replace_with', 'replace_with_children', 'reset', 'select', 'select_one', 'setup', 'string', 'strings', 'stripped_strings', 'tagStack', 'tag_name_re', 'text', 'unwrap', 'wrap']\n"
     ]
    }
   ],
   "source": [
    "print dir(soup)"
   ]
  },
  {
   "cell_type": "code",
   "execution_count": 21,
   "metadata": {
    "collapsed": false
   },
   "outputs": [
    {
     "name": "stdout",
     "output_type": "stream",
     "text": [
      "[<a class=\"link\" href=\"#\">This is link1</a>, <a class=\"link\" href=\"# link2\">This is link2</a>]\n",
      "<a class=\"link\" href=\"#\">This is link1</a>\n",
      "This is link1\n",
      "<a class=\"link\" href=\"# link2\">This is link2</a>\n",
      "This is link2\n"
     ]
    }
   ],
   "source": [
    "print soup.select('a')\n",
    "print soup.select('a')[0]\n",
    "print soup.select('a')[0].text\n",
    "\n",
    "print soup.select('a')[1]\n",
    "print soup.select('a')[1].text"
   ]
  },
  {
   "cell_type": "code",
   "execution_count": 22,
   "metadata": {
    "collapsed": false
   },
   "outputs": [
    {
     "name": "stdout",
     "output_type": "stream",
     "text": [
      "[<a class=\"link\" href=\"#\">This is link1</a>, <a class=\"link\" href=\"# link2\">This is link2</a>]\n"
     ]
    }
   ],
   "source": [
    "print soup.select('.link') # class => .\n"
   ]
  },
  {
   "cell_type": "code",
   "execution_count": 25,
   "metadata": {
    "collapsed": false
   },
   "outputs": [
    {
     "name": "stdout",
     "output_type": "stream",
     "text": [
      "[<h1 id=\"title\">Hello World</h1>]\n",
      "<h1 id=\"title\">Hello World</h1>\n",
      "Hello World\n"
     ]
    }
   ],
   "source": [
    "print soup.select('#title') # id => #\n",
    "print soup.select('#title')[0] # id => #\n",
    "print soup.select('#title')[0].text"
   ]
  },
  {
   "cell_type": "code",
   "execution_count": 27,
   "metadata": {
    "collapsed": false
   },
   "outputs": [
    {
     "name": "stderr",
     "output_type": "stream",
     "text": [
      "C:\\Python27\\lib\\site-packages\\requests\\packages\\urllib3\\connectionpool.py:768: InsecureRequestWarning: Unverified HTTPS request is being made. Adding certificate verification is strongly advised. See: https://urllib3.readthedocs.org/en/latest/security.html\n",
      "  InsecureRequestWarning)\n"
     ]
    }
   ],
   "source": [
    "import requests\n",
    "res = requests.get('https://www.ptt.cc/bbs/Tech_Job/index.html', verify=False)\n",
    "#res.text"
   ]
  },
  {
   "cell_type": "code",
   "execution_count": 45,
   "metadata": {
    "collapsed": false
   },
   "outputs": [
    {
     "name": "stdout",
     "output_type": "stream",
     "text": [
      "(本文已被刪除) [cindy1206] - 10/11\n",
      "[心得] 研替 (QNAP/群暉/Garmin/Appier/VMFive) kjs999 10/11\n",
      "Re: [討論]賣雞排賺的比工程師多？！ bkm1 10/11\n",
      "[徵才] 外商Web-based Application Development jpw 10/11\n",
      "[徵才] 外商 Software QA Engineer jpw 10/11\n",
      "[徵才] 外商 Senior Web Developer (front-end) jpw 10/11\n",
      "[情報] 【啟碁科技】2016研發替代役-校園活動T ckallen 10/11\n",
      "Re: [新聞] 台積電打趴三星　傳蘋果加碼下訂單 bambool 10/11\n",
      "Re: [新聞] 台積電打趴三星　傳蘋果加碼下訂單 lili110 10/11\n",
      "Re: [討論] 蘋果真的有下單到三星過嗎? saininniang 10/11\n",
      "[徵才]全球最大IC設計*徵Sr.Wi-Fi SW客服工程師 iamchahsuan 10/11\n",
      "[請益] 南科上下班準時的公司/職位? wugo 10/11\n",
      "[心得] 日商工廠低薪高伙心得 shipinchi 10/12\n",
      "Re: [討論]賣雞排賺的比工程師多？！ ilktw 10/12\n",
      "[新聞] 面板遭紅潮擠壓 明後年更慘 kof70380 10/12\n",
      "[討論] 系統廠測試可以轉什麼？ skitty 10/12\n",
      "[徵才] 研發替代役 ~ 開發 js / php framework tcsu 10/12\n",
      "律師為您解惑－線上勞動法免費諮詢即日為勞工 … pzs 5/26\n",
      "[公告] Tech_Job板板規 2014.03.01 mmkntust 3/01\n",
      "[公告] 置底 檢舉/推薦 文章 mmkntust 9/07\n",
      "[公告] 如何消除退文 轉自Ask板 mmkntust 3/02\n",
      "Re: [問卷] 「台灣勞工上班族國定假日與特休」調查 TUEEIT 10/08\n"
     ]
    }
   ],
   "source": [
    "from bs4 import BeautifulSoup\n",
    "soup = BeautifulSoup(res.text)\n",
    "for ent in soup.select('.r-ent'):\n",
    "    print ent.select('.title')[0].text.strip(), \\\n",
    "        ent.select('.author')[0].text.strip(), \\\n",
    "        ent.select('.date')[0].text.strip()"
   ]
  },
  {
   "cell_type": "code",
   "execution_count": 63,
   "metadata": {
    "collapsed": false
   },
   "outputs": [
    {
     "name": "stdout",
     "output_type": "stream",
     "text": [
      "財經 星展黑客松　挑戰50小時飆創意(0) 11:54 /realtimenews/article/finance/20151012/709617/星展黑客松　挑戰50小時飆創意\n",
      "體育 梅花旗開打　環球棄賽中華醫大意外成軍首勝(0) 11:54 /realtimenews/article/sports/20151012/709636/梅花旗開打　環球棄賽中華醫大意外成軍首勝\n",
      "生活 i6s標示不清　立委要NCC管一管(0) 11:54 /realtimenews/article/life/20151012/709638/i6s標示不清　立委要NCC管一管\n",
      "生活 大學新生將少一成　1998年不生的原因曝...(90133) 11:53 /realtimenews/article/life/20151012/709506/大學新生將少一成　1998年不生的原因曝光\n",
      "國際 斗膽讓普丁濕身　F1冠軍活得不耐煩了(0) 11:51 /realtimenews/article/international/20151012/709616/斗膽讓普丁濕身　F1冠軍活得不耐煩了\n",
      "瘋啥 愛瘋6s多脆弱？3天就GG　讓你崩潰3次...(426) 11:51 /realtimenews/article/3c/20151012/709631/愛瘋6s多脆弱？3天就GG　讓你崩潰3次！\n",
      "政治 傳總統將提「台海和平倡議」　夏立言：沒聽...(0) 11:50 /realtimenews/article/politics/20151012/709600/傳總統將提「台海和平倡議」　夏立言：沒聽過\n",
      "FUN 花媽為LOL加油　這張照片有驚人笑點(132) 11:50 /realtimenews/article/fun/20151012/709618/花媽為LOL加油　這張照片有驚人笑點\n",
      "生活 捷運刷卡聲歧視精障者　柯P：一定要討論！(0) 11:48 /realtimenews/article/life/20151012/709637/捷運刷卡聲歧視精障者　柯P：一定要討論！\n",
      "財經 微軟高層站台　宏碁漲幅逾5%(71) 11:48 /realtimenews/article/finance/20151012/709621/微軟高層站台　宏碁漲幅逾5\n",
      "社會 北捷工程挖斷瓦斯管　警消噴水霧戒護(1686) 11:47 /realtimenews/article/local/20151012/709587/北捷工程挖斷瓦斯管　警消噴水霧戒護\n",
      "生活 穿短裙騎腳踏車女孩　展現了台灣女孩的美　(0) 11:47 /realtimenews/article/life/20151012/709632/穿短裙騎腳踏車女孩　展現了台灣女孩的美　\n",
      "財經 CPU門發酵～該買i6s？　網友觀望(119) 11:47 /realtimenews/article/finance/20151012/709633/CPU門發酵～該買i6s？　網友觀望\n",
      "社會 真好騙！男臉書扮正妹　詐男網友百萬(545) 11:46 /realtimenews/article/local/20151012/709603/真好騙！男臉書扮正妹　詐男網友百萬\n",
      "國際 【科學月刊】捕獲氮氣 斷開鍵結的方法(271) 11:45 /realtimenews/article/international/20151012/709563/【科學月刊】捕獲氮氣斷開鍵結的方法\n",
      "財經 嘉能可將發布重訊　香港股價暫停交易(629) 11:45 /realtimenews/article/finance/20151012/709626/嘉能可將發布重訊　香港股價暫停交易\n",
      "體育 ​單場超過2失誤　沃爾損失3258元  (596) 11:44 /realtimenews/article/sports/20151012/709625/​單場超過2失誤　沃爾損失3258元\n",
      "財經 【更新】台股盤中～蘋概股領軍　大漲逾百點(1188) 11:43 /realtimenews/article/finance/20151012/709575/【更新】台股盤中～蘋概股領軍　大漲逾百點\n",
      "國際 首位華人CEO　兩度獲滙豐留任(352) 11:43 /realtimenews/article/international/20151012/709611/首位華人CEO　兩度獲滙豐留任\n",
      "政治 八仙塵爆案12死　立委：世界奇蹟(1316) 11:43 /realtimenews/article/politics/20151012/709619/八仙塵爆案12死　立委：世界奇蹟\n",
      "生活 跟朱立倫較少見面　柯P：朱現在蠟燭三頭燒(70) 11:42 /realtimenews/article/life/20151012/709629/跟朱立倫較少見面　柯P：朱現在蠟燭三頭燒\n",
      "國際 滙豐CEO王冬勝豪宅遭竊　損失逾1千萬(1052) 11:40 /realtimenews/article/international/20151012/709606/滙豐CEO王冬勝豪宅遭竊　損失逾1千萬\n",
      "生活 【更新】割喉童家長要國賠　柯：不希望有人...(6069) 11:36 /realtimenews/article/life/20151012/709607/【更新】割喉童家長要國賠　柯：不希望有人坐牢\n",
      "財經 A9效能勝三星　台積電擴量上攻(2083) 11:36 /realtimenews/article/finance/20151012/709615/A9效能勝三星　台積電擴量上攻\n",
      "娛樂 男偶像腰瘦吸驚　粉絲哭哭沒廁所上(1798) 11:30 /realtimenews/article/entertainment/20151012/709370/男偶像腰瘦吸驚　粉絲哭哭沒廁所上\n",
      "政治 【財訊】「英派」大反攻　偏藍首長紛紛靠(2833) 11:30 /realtimenews/article/politics/20151012/709584/【財訊】「英派」大反攻　偏藍首長紛紛靠\n",
      "體育 突洛維茲基3分砲　藍鳥避免直落三出局(1635) 11:30 /realtimenews/article/sports/20151012/709612/突洛維茲基3分砲　藍鳥避免直落三出局\n",
      "政治 馬英九邀餐敘　藍委：不知道還能說什麼(1828) 11:30 /realtimenews/article/politics/20151012/709609/馬英九邀餐敘　藍委：不知道還能說什麼\n",
      "財經 雲端資安認證　遠傳再鍍「金」(411) 11:28 /realtimenews/article/finance/20151012/709610/雲端資安認證　遠傳再鍍「金」\n",
      "國際 坑人！西安7兩重螃蟹　捆繩重6兩(1919) 11:28 /realtimenews/article/international/20151012/709613/坑人！西安7兩重螃蟹　捆繩重6兩\n"
     ]
    }
   ],
   "source": [
    "import requests\n",
    "from bs4 import BeautifulSoup\n",
    "res = requests.get('http://www.appledaily.com.tw/realtimenews/section/new/')\n",
    "soup = BeautifulSoup(res.text)\n",
    "for rtddt in soup.select('.rtddt'):\n",
    "    print rtddt.select('h2')[0].text , \\\n",
    "        rtddt.select('h1')[0].text , \\\n",
    "        rtddt.select('time')[0].text, \\\n",
    "        rtddt.select('a')[0]['href']"
   ]
  },
  {
   "cell_type": "code",
   "execution_count": 66,
   "metadata": {
    "collapsed": false
   },
   "outputs": [
    {
     "name": "stdout",
     "output_type": "stream",
     "text": [
      "[<a ,=\"\" href=\"qwe\" qoo=\"qqq\" qqq=\"aaa\"></a>]\n"
     ]
    }
   ],
   "source": [
    "s = '<a href=\"qwe\" qoo=\"qqq\", qqq=\"aaa\"></a>'\n",
    "soup = BeautifulSoup(s)\n",
    "print soup.select('a')"
   ]
  },
  {
   "cell_type": "code",
   "execution_count": 70,
   "metadata": {
    "collapsed": false
   },
   "outputs": [
    {
     "name": "stdout",
     "output_type": "stream",
     "text": [
      "qwe\n",
      "qqq\n",
      "aaa\n"
     ]
    }
   ],
   "source": [
    "print soup.select('a')[0]['href']\n",
    "print soup.select('a')[0]['qoo']\n",
    "print soup.select('a')[0]['qqq']"
   ]
  },
  {
   "cell_type": "code",
   "execution_count": 87,
   "metadata": {
    "collapsed": false
   },
   "outputs": [
    {
     "name": "stdout",
     "output_type": "stream",
     "text": [
      "a\n",
      "b\n",
      "b\n",
      "b\n",
      "B\n",
      "0\n",
      "0\n",
      "0912345678\n",
      "0912345678\n",
      "0912345678\n",
      "David\n",
      "David Chiu\n"
     ]
    }
   ],
   "source": [
    "import re\n",
    "print re.match('a' ,'a').group()\n",
    "print re.match('[ab]' ,'b').group()\n",
    "print re.match('[abcdefghijk]' ,'b').group()\n",
    "print re.match('[a-z]' ,'b').group()\n",
    "print re.match('[A-Z]' ,'B').group()\n",
    "print re.match('[0-9]' ,'0').group()\n",
    "print re.match('\\d' ,'0').group() # [0-9]\n",
    "print re.match('\\d{10}' ,'0912345678').group() # equals to 10\n",
    "print re.match('\\d*' ,'0912345678').group() # * more than 0\n",
    "print re.match('\\d+' ,'0912345678').group() # + more than 1\n",
    "\n",
    "print re.match('\\w+' ,'David').group() # [a-zA-Z]\n",
    "print re.match('.+' ,'David Chiu').group() # \\w , \\d"
   ]
  },
  {
   "cell_type": "code",
   "execution_count": 91,
   "metadata": {
    "collapsed": false
   },
   "outputs": [
    {
     "name": "stdout",
     "output_type": "stream",
     "text": [
      "David\n",
      "Chiu\n",
      "david\n",
      "largitdata.com\n"
     ]
    }
   ],
   "source": [
    "\n",
    "m = re.match('(\\w+) (\\w+)' ,'David Chiu')\n",
    "print m.group(1)\n",
    "print m.group(2)\n",
    "\n",
    "\n",
    "m = re.match('(\\w+)@(.+)' ,'david@largitdata.com')\n",
    "print m.group(1)\n",
    "print m.group(2)"
   ]
  },
  {
   "cell_type": "code",
   "execution_count": 94,
   "metadata": {
    "collapsed": false
   },
   "outputs": [
    {
     "name": "stdout",
     "output_type": "stream",
     "text": [
      "蚊風色變　千包粗鹽鹹死你(1042)\n",
      "蚊風色變　千包粗鹽鹹死你(\n",
      "1042\n"
     ]
    }
   ],
   "source": [
    "print re.match('(.*)'  , '蚊風色變　千包粗鹽鹹死你(1042)').group()\n",
    "m = re.match('(.*?)(\\d+)'  , '蚊風色變　千包粗鹽鹹死你(1042)')\n",
    "print m.group(1)\n",
    "print m.group(2)"
   ]
  },
  {
   "cell_type": "code",
   "execution_count": 95,
   "metadata": {
    "collapsed": false
   },
   "outputs": [
    {
     "name": "stdout",
     "output_type": "stream",
     "text": [
      "蚊風色變　千包粗鹽鹹死你\n",
      "1042\n"
     ]
    }
   ],
   "source": [
    "m = re.match('(.*?)\\((\\d+)\\)'  , '蚊風色變　千包粗鹽鹹死你(1042)')\n",
    "print m.group(1)\n",
    "print m.group(2)"
   ]
  },
  {
   "cell_type": "code",
   "execution_count": 97,
   "metadata": {
    "collapsed": false
   },
   "outputs": [
    {
     "name": "stdout",
     "output_type": "stream",
     "text": [
      "對沖廟門正氣？　BMW大7GG了 0\n",
      "F-永新上市首日股價跌　蜜月行情失靈 0\n",
      "台北市應思考跨縣市合作提升食安 0\n",
      "【更新】團餐特色餐廳　立法院康園國會餐廳... 1550\n",
      "陸男童遭砍10多刀　「小雞雞」被砍斷 246\n",
      "洪秀柱不缺階梯，只欠覺醒 136\n",
      "超商威士忌常不見　都是他酒癮犯 59\n",
      "「菲姊時尚只有我能跟得上」　王菲9歲女洩... 394\n",
      "黨國圖騰憑什麼盤踞台灣 40\n",
      "研替役可累積就業經驗　服役意願再提高  ... 0\n",
      "堅稱15萬掉龍潭大池　婦人激動要跳水 459\n",
      "買酒不付錢落跑　男半年後巧遇超商店長被逮 325\n",
      "西松高中有學生墜樓　疑因是為了成績 46\n",
      "性侵犯自剪電子腳鐐　逃亡4個月落網 838\n",
      "英女王的最愛竟然不是柯基 765\n",
      "陸股帶量上攻　上證一度漲逾4% 109\n",
      "台股大漲127點站上8千5　創2個月新高 6673\n",
      "明年新球隊二軍試水溫　中職會長吳志揚：機... 1596\n",
      "【更新】北觀醫院是弊案？　廠商及衛生局否... 1100\n",
      "【TOMO雙語爆】美欲派軍艦通過南海 挑... 0\n",
      "為撿更大顆玫瑰石　打工仔溺斃立霧溪 27499\n",
      "雙十連假看屋去　來客組數增逾2成 567\n",
      "名醫偷拍裸睡俏護　LINE情敵「我是她男... 8180\n",
      "【TOMO雙語爆】阻法國列車恐襲英雄遭刺... 0\n",
      "冷凍蝦仁超坑錢　融化後發現72%都是水 2528\n",
      "神秘！　陰晴圓缺的月亮杯 1030\n",
      "就愛穿adidas　豐臀金妹如代言人 2675\n",
      "性侵夜騎女猥褻人妻　鶯歌惡狼落網 16167\n",
      "當你進到廁所　準備就緒後竟發現... 2179\n",
      "【更新】LOL八強　ahq中籤王對決韓國... 108181\n"
     ]
    }
   ],
   "source": [
    "import requests\n",
    "from bs4 import BeautifulSoup\n",
    "res = requests.get('http://www.appledaily.com.tw/realtimenews/section/new/')\n",
    "soup = BeautifulSoup(res.text)\n",
    "for rtddt in soup.select('.rtddt'):\n",
    "    m = re.match('(.*?)\\((\\d+)\\)'  ,  rtddt.select('h1')[0].text)\n",
    "    title = m.group(1)\n",
    "    popularity =  m.group(2)\n",
    "    print title , popularity\n",
    "  "
   ]
  },
  {
   "cell_type": "code",
   "execution_count": 99,
   "metadata": {
    "collapsed": false
   },
   "outputs": [
    {
     "name": "stdout",
     "output_type": "stream",
     "text": [
      "2\n"
     ]
    }
   ],
   "source": [
    "dic = {'a':1, 'b':2, 'c':3}\n",
    "print dic['b']"
   ]
  },
  {
   "cell_type": "code",
   "execution_count": 103,
   "metadata": {
    "collapsed": false
   },
   "outputs": [],
   "source": [
    "import requests\n",
    "from bs4 import BeautifulSoup\n",
    "res = requests.get('http://www.appledaily.com.tw/realtimenews/section/new/')\n",
    "soup = BeautifulSoup(res.text)\n",
    "newsary = []\n",
    "for rtddt in soup.select('.rtddt'):\n",
    "    main  = rtddt.select('h1')[0].text\n",
    "    m = re.match('(.*?)\\((\\d+)\\)', main)\n",
    "    title = m.group(1)\n",
    "    popularity =  m.group(2)\n",
    "    category = rtddt.select('h2')[0].text         \n",
    "    time = rtddt.select('time')[0].text\n",
    "    url = rtddt.select('a')[0]['href']\n",
    "    dic = {'title': title, 'popularity':popularity,'category':category, 'time':time, 'url':url}\n",
    "    newsary.append(dic)\n",
    "#print newsary\n"
   ]
  },
  {
   "cell_type": "code",
   "execution_count": 126,
   "metadata": {
    "collapsed": false
   },
   "outputs": [],
   "source": [
    "def getNews(mainurl):\n",
    "    res = requests.get(mainurl)\n",
    "    soup = BeautifulSoup(res.text)\n",
    "    newsary = []\n",
    "    for rtddt in soup.select('.rtddt'):\n",
    "        main  = rtddt.select('h1')[0].text\n",
    "        m = re.match('(.*?)\\((\\d+)\\)', main)\n",
    "        title = m.group(1)\n",
    "        popularity =  int(m.group(2))\n",
    "        category = rtddt.select('h2')[0].text         \n",
    "        time = rtddt.select('time')[0].text\n",
    "        url = 'http://www.appledaily.com.tw' + rtddt.select('a')[0]['href']\n",
    "        dic = {'title': title, 'popularity':popularity,'category':category, 'time':time, 'url':url}\n",
    "        newsary.append(dic)\n",
    "    return newsary\n",
    "#print getNews('http://www.appledaily.com.tw/realtimenews/section/new/30')  "
   ]
  },
  {
   "cell_type": "code",
   "execution_count": 127,
   "metadata": {
    "collapsed": false
   },
   "outputs": [
    {
     "name": "stdout",
     "output_type": "stream",
     "text": [
      "http://www.appledaily.com.tw/realtimenews/section/new/1\n",
      "http://www.appledaily.com.tw/realtimenews/section/new/2\n",
      "http://www.appledaily.com.tw/realtimenews/section/new/3\n",
      "http://www.appledaily.com.tw/realtimenews/section/new/4\n",
      "http://www.appledaily.com.tw/realtimenews/section/new/5\n",
      "http://www.appledaily.com.tw/realtimenews/section/new/6\n",
      "http://www.appledaily.com.tw/realtimenews/section/new/7\n",
      "http://www.appledaily.com.tw/realtimenews/section/new/8\n",
      "http://www.appledaily.com.tw/realtimenews/section/new/9\n",
      "http://www.appledaily.com.tw/realtimenews/section/new/10\n",
      "http://www.appledaily.com.tw/realtimenews/section/new/11\n",
      "http://www.appledaily.com.tw/realtimenews/section/new/12\n",
      "http://www.appledaily.com.tw/realtimenews/section/new/13\n",
      "http://www.appledaily.com.tw/realtimenews/section/new/14\n",
      "http://www.appledaily.com.tw/realtimenews/section/new/15\n",
      "http://www.appledaily.com.tw/realtimenews/section/new/16\n",
      "http://www.appledaily.com.tw/realtimenews/section/new/17\n",
      "http://www.appledaily.com.tw/realtimenews/section/new/18\n",
      "http://www.appledaily.com.tw/realtimenews/section/new/19\n",
      "http://www.appledaily.com.tw/realtimenews/section/new/20\n",
      "http://www.appledaily.com.tw/realtimenews/section/new/21\n",
      "http://www.appledaily.com.tw/realtimenews/section/new/22\n",
      "http://www.appledaily.com.tw/realtimenews/section/new/23\n",
      "http://www.appledaily.com.tw/realtimenews/section/new/24\n",
      "http://www.appledaily.com.tw/realtimenews/section/new/25\n",
      "http://www.appledaily.com.tw/realtimenews/section/new/26\n",
      "http://www.appledaily.com.tw/realtimenews/section/new/27\n",
      "http://www.appledaily.com.tw/realtimenews/section/new/28\n",
      "http://www.appledaily.com.tw/realtimenews/section/new/29\n",
      "http://www.appledaily.com.tw/realtimenews/section/new/30\n"
     ]
    }
   ],
   "source": [
    "for i in range(1,31):\n",
    "    mainurl = 'http://www.appledaily.com.tw/realtimenews/section/new/{}'\n",
    "    print mainurl.format(i)"
   ]
  },
  {
   "cell_type": "code",
   "execution_count": 111,
   "metadata": {
    "collapsed": false
   },
   "outputs": [
    {
     "name": "stdout",
     "output_type": "stream",
     "text": [
      "{'a': 6, 'c': 3, 'b': 2, 'e': 5, 'd': 4}\n"
     ]
    }
   ],
   "source": [
    "dic = {'a':1,'b':2, 'c':3}\n",
    "dic.update({'d':4,'e':5,'a':6})\n",
    "print dic"
   ]
  },
  {
   "cell_type": "code",
   "execution_count": 113,
   "metadata": {
    "collapsed": false
   },
   "outputs": [
    {
     "name": "stdout",
     "output_type": "stream",
     "text": [
      "['1', '2', '3', '4', '5', '6']\n",
      "None\n"
     ]
    }
   ],
   "source": [
    "a = ['1','2','3']\n",
    "b = ['4','5','6']\n",
    "print a + b"
   ]
  },
  {
   "cell_type": "code",
   "execution_count": 128,
   "metadata": {
    "collapsed": false
   },
   "outputs": [],
   "source": [
    "newsary = [] \n",
    "for i in range(1,31):\n",
    "    mainurl = 'http://www.appledaily.com.tw/realtimenews/section/new/{}'\n",
    "    newsary = newsary + getNews(mainurl.format(i))"
   ]
  },
  {
   "cell_type": "code",
   "execution_count": 133,
   "metadata": {
    "collapsed": false
   },
   "outputs": [
    {
     "name": "stdout",
     "output_type": "stream",
     "text": [
      "900\n",
      "前緋聞男友摔車斷勒骨　鬼鬼簡訊問候　\n",
      "http://www.appledaily.com.tw/realtimenews/article/entertainment/20151012/709697/前緋聞男友摔車斷勒骨　鬼鬼簡訊問候　\n"
     ]
    }
   ],
   "source": [
    "print len(newsary)\n",
    "print newsary[0]['title']\n",
    "print newsary[0]['url']"
   ]
  },
  {
   "cell_type": "code",
   "execution_count": 120,
   "metadata": {
    "collapsed": true
   },
   "outputs": [],
   "source": [
    "import pandas as pd\n"
   ]
  },
  {
   "cell_type": "code",
   "execution_count": 122,
   "metadata": {
    "collapsed": false
   },
   "outputs": [
    {
     "data": {
      "text/html": [
       "<div>\n",
       "<table border=\"1\" class=\"dataframe\">\n",
       "  <thead>\n",
       "    <tr style=\"text-align: right;\">\n",
       "      <th></th>\n",
       "      <th>category</th>\n",
       "      <th>popularity</th>\n",
       "      <th>time</th>\n",
       "      <th>title</th>\n",
       "      <th>url</th>\n",
       "    </tr>\n",
       "  </thead>\n",
       "  <tbody>\n",
       "    <tr>\n",
       "      <th>0</th>\n",
       "      <td>娛樂</td>\n",
       "      <td>0</td>\n",
       "      <td>14:07</td>\n",
       "      <td>【獨家】黃立成不幸被境管　今晚赴美</td>\n",
       "      <td>/realtimenews/article/entertainment/20151012/7...</td>\n",
       "    </tr>\n",
       "    <tr>\n",
       "      <th>1</th>\n",
       "      <td>財經</td>\n",
       "      <td>20</td>\n",
       "      <td>14:04</td>\n",
       "      <td>金融科技化質變　勤業：新銀行沒包袱</td>\n",
       "      <td>/realtimenews/article/finance/20151012/709741/...</td>\n",
       "    </tr>\n",
       "    <tr>\n",
       "      <th>2</th>\n",
       "      <td>論壇</td>\n",
       "      <td>0</td>\n",
       "      <td>14:01</td>\n",
       "      <td>【台灣英文新聞】可悲的國慶文告</td>\n",
       "      <td>/realtimenews/article/forum/20151012/709743/【台...</td>\n",
       "    </tr>\n",
       "    <tr>\n",
       "      <th>3</th>\n",
       "      <td>生活</td>\n",
       "      <td>83</td>\n",
       "      <td>14:00</td>\n",
       "      <td>類風濕關節炎常伴乾燥症　新生物製劑有解</td>\n",
       "      <td>/realtimenews/article/life/20151012/709711/類風濕...</td>\n",
       "    </tr>\n",
       "    <tr>\n",
       "      <th>4</th>\n",
       "      <td>生活</td>\n",
       "      <td>18</td>\n",
       "      <td>14:00</td>\n",
       "      <td>日菸在台設廠　董氏批：台將成亞太菸毒轉運...</td>\n",
       "      <td>/realtimenews/article/life/20151012/709737/日菸在...</td>\n",
       "    </tr>\n",
       "  </tbody>\n",
       "</table>\n",
       "</div>"
      ],
      "text/plain": [
       "  category popularity   time                    title  \\\n",
       "0       娛樂          0  14:07        【獨家】黃立成不幸被境管　今晚赴美   \n",
       "1       財經         20  14:04        金融科技化質變　勤業：新銀行沒包袱   \n",
       "2       論壇          0  14:01          【台灣英文新聞】可悲的國慶文告   \n",
       "3       生活         83  14:00      類風濕關節炎常伴乾燥症　新生物製劑有解   \n",
       "4       生活         18  14:00  日菸在台設廠　董氏批：台將成亞太菸毒轉運...   \n",
       "\n",
       "                                                 url  \n",
       "0  /realtimenews/article/entertainment/20151012/7...  \n",
       "1  /realtimenews/article/finance/20151012/709741/...  \n",
       "2  /realtimenews/article/forum/20151012/709743/【台...  \n",
       "3  /realtimenews/article/life/20151012/709711/類風濕...  \n",
       "4  /realtimenews/article/life/20151012/709737/日菸在...  "
      ]
     },
     "execution_count": 122,
     "metadata": {},
     "output_type": "execute_result"
    }
   ],
   "source": [
    "df = pd.DataFrame(newsary)\n",
    "df.head()"
   ]
  },
  {
   "cell_type": "code",
   "execution_count": 129,
   "metadata": {
    "collapsed": true
   },
   "outputs": [],
   "source": [
    "newspd = pd.DataFrame(newsary)"
   ]
  },
  {
   "cell_type": "code",
   "execution_count": 130,
   "metadata": {
    "collapsed": false
   },
   "outputs": [
    {
     "data": {
      "text/html": [
       "<div>\n",
       "<table border=\"1\" class=\"dataframe\">\n",
       "  <thead>\n",
       "    <tr style=\"text-align: right;\">\n",
       "      <th></th>\n",
       "      <th>category</th>\n",
       "      <th>popularity</th>\n",
       "      <th>time</th>\n",
       "      <th>title</th>\n",
       "      <th>url</th>\n",
       "    </tr>\n",
       "  </thead>\n",
       "  <tbody>\n",
       "    <tr>\n",
       "      <th>842</th>\n",
       "      <td>生活</td>\n",
       "      <td>584311</td>\n",
       "      <td>19:05</td>\n",
       "      <td>【更新】公墓撒冥紙拍婚紗　網友說酷斃了</td>\n",
       "      <td>http://www.appledaily.com.tw/realtimenews/arti...</td>\n",
       "    </tr>\n",
       "    <tr>\n",
       "      <th>617</th>\n",
       "      <td>社會</td>\n",
       "      <td>365055</td>\n",
       "      <td>12:00</td>\n",
       "      <td>嚇到不知所措　少年起床開門看見...</td>\n",
       "      <td>http://www.appledaily.com.tw/realtimenews/arti...</td>\n",
       "    </tr>\n",
       "    <tr>\n",
       "      <th>672</th>\n",
       "      <td>娛樂</td>\n",
       "      <td>327728</td>\n",
       "      <td>07:10</td>\n",
       "      <td>孫協志離婚　孫媽震驚連打70通電話</td>\n",
       "      <td>http://www.appledaily.com.tw/realtimenews/arti...</td>\n",
       "    </tr>\n",
       "    <tr>\n",
       "      <th>665</th>\n",
       "      <td>娛樂</td>\n",
       "      <td>325233</td>\n",
       "      <td>07:44</td>\n",
       "      <td>心力交瘁　孫協志除閃離還要告落跑女團員</td>\n",
       "      <td>http://www.appledaily.com.tw/realtimenews/arti...</td>\n",
       "    </tr>\n",
       "    <tr>\n",
       "      <th>883</th>\n",
       "      <td>社會</td>\n",
       "      <td>305528</td>\n",
       "      <td>17:37</td>\n",
       "      <td>人妻10多年沒嘿咻　她選擇這樣做…</td>\n",
       "      <td>http://www.appledaily.com.tw/realtimenews/arti...</td>\n",
       "    </tr>\n",
       "  </tbody>\n",
       "</table>\n",
       "</div>"
      ],
      "text/plain": [
       "    category  popularity   time                title  \\\n",
       "842       生活      584311  19:05  【更新】公墓撒冥紙拍婚紗　網友說酷斃了   \n",
       "617       社會      365055  12:00   嚇到不知所措　少年起床開門看見...   \n",
       "672       娛樂      327728  07:10    孫協志離婚　孫媽震驚連打70通電話   \n",
       "665       娛樂      325233  07:44  心力交瘁　孫協志除閃離還要告落跑女團員   \n",
       "883       社會      305528  17:37    人妻10多年沒嘿咻　她選擇這樣做…   \n",
       "\n",
       "                                                   url  \n",
       "842  http://www.appledaily.com.tw/realtimenews/arti...  \n",
       "617  http://www.appledaily.com.tw/realtimenews/arti...  \n",
       "672  http://www.appledaily.com.tw/realtimenews/arti...  \n",
       "665  http://www.appledaily.com.tw/realtimenews/arti...  \n",
       "883  http://www.appledaily.com.tw/realtimenews/arti...  "
      ]
     },
     "execution_count": 130,
     "metadata": {},
     "output_type": "execute_result"
    }
   ],
   "source": [
    "newspd.sort(['popularity'], ascending=False).head()"
   ]
  },
  {
   "cell_type": "code",
   "execution_count": 131,
   "metadata": {
    "collapsed": false
   },
   "outputs": [
    {
     "name": "stdout",
     "output_type": "stream",
     "text": [
      "category\n",
      "娛樂     327728\n",
      "時尚      22043\n",
      "社會     365055\n",
      "財經      91845\n",
      "生活     584311\n",
      "論壇      36252\n",
      "體育      51395\n",
      "政治      85451\n",
      "國際     125685\n",
      "地產      18579\n",
      "FUN     81659\n",
      "瘋啥     130946\n",
      "動物     172449\n",
      "搜奇      94024\n",
      "正妹      39351\n",
      "Name: popularity, dtype: int64\n"
     ]
    }
   ],
   "source": [
    "df1 = newspd.groupby(['category'], sort=False)['popularity'].max()\n",
    "print df1\n"
   ]
  },
  {
   "cell_type": "code",
   "execution_count": 132,
   "metadata": {
    "collapsed": false
   },
   "outputs": [
    {
     "data": {
      "text/html": [
       "<div>\n",
       "<table border=\"1\" class=\"dataframe\">\n",
       "  <thead>\n",
       "    <tr style=\"text-align: right;\">\n",
       "      <th></th>\n",
       "      <th>category</th>\n",
       "      <th>popularity</th>\n",
       "      <th>time</th>\n",
       "      <th>title</th>\n",
       "      <th>url</th>\n",
       "    </tr>\n",
       "  </thead>\n",
       "  <tbody>\n",
       "    <tr>\n",
       "      <th>303</th>\n",
       "      <td>國際</td>\n",
       "      <td>125685</td>\n",
       "      <td>00:30</td>\n",
       "      <td>山東破獲賣淫集團　模特兒也下海</td>\n",
       "      <td>http://www.appledaily.com.tw/realtimenews/arti...</td>\n",
       "    </tr>\n",
       "    <tr>\n",
       "      <th>307</th>\n",
       "      <td>財經</td>\n",
       "      <td>91845</td>\n",
       "      <td>00:21</td>\n",
       "      <td>扯～女子帶70名牌包闖關　遭沒收竟找立委...</td>\n",
       "      <td>http://www.appledaily.com.tw/realtimenews/arti...</td>\n",
       "    </tr>\n",
       "    <tr>\n",
       "      <th>370</th>\n",
       "      <td>瘋啥</td>\n",
       "      <td>130946</td>\n",
       "      <td>23:18</td>\n",
       "      <td>【LOL】ahq加賽力退北美C9　攜手閃...</td>\n",
       "      <td>http://www.appledaily.com.tw/realtimenews/arti...</td>\n",
       "    </tr>\n",
       "    <tr>\n",
       "      <th>404</th>\n",
       "      <td>FUN</td>\n",
       "      <td>81659</td>\n",
       "      <td>21:05</td>\n",
       "      <td>台灣哪個運動最成功　1樓神回被網友大讚</td>\n",
       "      <td>http://www.appledaily.com.tw/realtimenews/arti...</td>\n",
       "    </tr>\n",
       "    <tr>\n",
       "      <th>548</th>\n",
       "      <td>搜奇</td>\n",
       "      <td>94024</td>\n",
       "      <td>15:28</td>\n",
       "      <td>不愧AV大國　日本街頭激情摳摳樂</td>\n",
       "      <td>http://www.appledaily.com.tw/realtimenews/arti...</td>\n",
       "    </tr>\n",
       "    <tr>\n",
       "      <th>617</th>\n",
       "      <td>社會</td>\n",
       "      <td>365055</td>\n",
       "      <td>12:00</td>\n",
       "      <td>嚇到不知所措　少年起床開門看見...</td>\n",
       "      <td>http://www.appledaily.com.tw/realtimenews/arti...</td>\n",
       "    </tr>\n",
       "    <tr>\n",
       "      <th>636</th>\n",
       "      <td>政治</td>\n",
       "      <td>85451</td>\n",
       "      <td>11:06</td>\n",
       "      <td>阿帕契貴婦團風波　勞乃成等三人已休職</td>\n",
       "      <td>http://www.appledaily.com.tw/realtimenews/arti...</td>\n",
       "    </tr>\n",
       "    <tr>\n",
       "      <th>672</th>\n",
       "      <td>娛樂</td>\n",
       "      <td>327728</td>\n",
       "      <td>07:10</td>\n",
       "      <td>孫協志離婚　孫媽震驚連打70通電話</td>\n",
       "      <td>http://www.appledaily.com.tw/realtimenews/arti...</td>\n",
       "    </tr>\n",
       "    <tr>\n",
       "      <th>716</th>\n",
       "      <td>論壇</td>\n",
       "      <td>36252</td>\n",
       "      <td>00:06</td>\n",
       "      <td>人渣文本：勝利女神一抱的重要性</td>\n",
       "      <td>http://www.appledaily.com.tw/realtimenews/arti...</td>\n",
       "    </tr>\n",
       "    <tr>\n",
       "      <th>762</th>\n",
       "      <td>地產</td>\n",
       "      <td>18579</td>\n",
       "      <td>21:54</td>\n",
       "      <td>房東真威！　房子不租胖子</td>\n",
       "      <td>http://www.appledaily.com.tw/realtimenews/arti...</td>\n",
       "    </tr>\n",
       "    <tr>\n",
       "      <th>842</th>\n",
       "      <td>生活</td>\n",
       "      <td>584311</td>\n",
       "      <td>19:05</td>\n",
       "      <td>【更新】公墓撒冥紙拍婚紗　網友說酷斃了</td>\n",
       "      <td>http://www.appledaily.com.tw/realtimenews/arti...</td>\n",
       "    </tr>\n",
       "    <tr>\n",
       "      <th>856</th>\n",
       "      <td>時尚</td>\n",
       "      <td>22043</td>\n",
       "      <td>18:30</td>\n",
       "      <td>這潮牌慘了　5大明星揪團提告</td>\n",
       "      <td>http://www.appledaily.com.tw/realtimenews/arti...</td>\n",
       "    </tr>\n",
       "    <tr>\n",
       "      <th>862</th>\n",
       "      <td>動物</td>\n",
       "      <td>172449</td>\n",
       "      <td>18:18</td>\n",
       "      <td>牠最後一次生日快樂歌　網友們哭慘了</td>\n",
       "      <td>http://www.appledaily.com.tw/realtimenews/arti...</td>\n",
       "    </tr>\n",
       "    <tr>\n",
       "      <th>888</th>\n",
       "      <td>正妹</td>\n",
       "      <td>39351</td>\n",
       "      <td>17:15</td>\n",
       "      <td>H奶女星練拳擊　香汗「波動拳」低胸擾敵</td>\n",
       "      <td>http://www.appledaily.com.tw/realtimenews/arti...</td>\n",
       "    </tr>\n",
       "    <tr>\n",
       "      <th>891</th>\n",
       "      <td>體育</td>\n",
       "      <td>51395</td>\n",
       "      <td>17:09</td>\n",
       "      <td>【更新】喬丹說林書豪是黃蜂最重要補強　豪...</td>\n",
       "      <td>http://www.appledaily.com.tw/realtimenews/arti...</td>\n",
       "    </tr>\n",
       "  </tbody>\n",
       "</table>\n",
       "</div>"
      ],
      "text/plain": [
       "    category  popularity   time                    title  \\\n",
       "303       國際      125685  00:30          山東破獲賣淫集團　模特兒也下海   \n",
       "307       財經       91845  00:21  扯～女子帶70名牌包闖關　遭沒收竟找立委...   \n",
       "370       瘋啥      130946  23:18  【LOL】ahq加賽力退北美C9　攜手閃...   \n",
       "404      FUN       81659  21:05      台灣哪個運動最成功　1樓神回被網友大讚   \n",
       "548       搜奇       94024  15:28         不愧AV大國　日本街頭激情摳摳樂   \n",
       "617       社會      365055  12:00       嚇到不知所措　少年起床開門看見...   \n",
       "636       政治       85451  11:06       阿帕契貴婦團風波　勞乃成等三人已休職   \n",
       "672       娛樂      327728  07:10        孫協志離婚　孫媽震驚連打70通電話   \n",
       "716       論壇       36252  00:06          人渣文本：勝利女神一抱的重要性   \n",
       "762       地產       18579  21:54             房東真威！　房子不租胖子   \n",
       "842       生活      584311  19:05      【更新】公墓撒冥紙拍婚紗　網友說酷斃了   \n",
       "856       時尚       22043  18:30           這潮牌慘了　5大明星揪團提告   \n",
       "862       動物      172449  18:18        牠最後一次生日快樂歌　網友們哭慘了   \n",
       "888       正妹       39351  17:15      H奶女星練拳擊　香汗「波動拳」低胸擾敵   \n",
       "891       體育       51395  17:09  【更新】喬丹說林書豪是黃蜂最重要補強　豪...   \n",
       "\n",
       "                                                   url  \n",
       "303  http://www.appledaily.com.tw/realtimenews/arti...  \n",
       "307  http://www.appledaily.com.tw/realtimenews/arti...  \n",
       "370  http://www.appledaily.com.tw/realtimenews/arti...  \n",
       "404  http://www.appledaily.com.tw/realtimenews/arti...  \n",
       "548  http://www.appledaily.com.tw/realtimenews/arti...  \n",
       "617  http://www.appledaily.com.tw/realtimenews/arti...  \n",
       "636  http://www.appledaily.com.tw/realtimenews/arti...  \n",
       "672  http://www.appledaily.com.tw/realtimenews/arti...  \n",
       "716  http://www.appledaily.com.tw/realtimenews/arti...  \n",
       "762  http://www.appledaily.com.tw/realtimenews/arti...  \n",
       "842  http://www.appledaily.com.tw/realtimenews/arti...  \n",
       "856  http://www.appledaily.com.tw/realtimenews/arti...  \n",
       "862  http://www.appledaily.com.tw/realtimenews/arti...  \n",
       "888  http://www.appledaily.com.tw/realtimenews/arti...  \n",
       "891  http://www.appledaily.com.tw/realtimenews/arti...  "
      ]
     },
     "execution_count": 132,
     "metadata": {},
     "output_type": "execute_result"
    }
   ],
   "source": [
    "idx = newspd.groupby(['category'])['popularity'].transform(max) == newspd['popularity']\n",
    "newspd[idx]"
   ]
  },
  {
   "cell_type": "code",
   "execution_count": 134,
   "metadata": {
    "collapsed": false
   },
   "outputs": [
    {
     "name": "stdout",
     "output_type": "stream",
     "text": [
      "{'a': 1, 'c': 3, 'b': 2}\n"
     ]
    }
   ],
   "source": [
    "dic = {'a':1,'b':2, 'c':3}\n",
    "print dic"
   ]
  },
  {
   "cell_type": "code",
   "execution_count": 135,
   "metadata": {
    "collapsed": true
   },
   "outputs": [],
   "source": [
    "dic['d'] = '123'"
   ]
  },
  {
   "cell_type": "code",
   "execution_count": 136,
   "metadata": {
    "collapsed": false
   },
   "outputs": [
    {
     "name": "stdout",
     "output_type": "stream",
     "text": [
      "{'a': 1, 'c': 3, 'b': 2, 'd': '123'}\n"
     ]
    }
   ],
   "source": [
    "print dic"
   ]
  },
  {
   "cell_type": "code",
   "execution_count": 138,
   "metadata": {
    "collapsed": false
   },
   "outputs": [
    {
     "data": {
      "text/plain": [
       "u'http://www.appledaily.com.tw/realtimenews/article/entertainment/20151012/709697/\\u524d\\u7dcb\\u805e\\u7537\\u53cb\\u6454\\u8eca\\u65b7\\u52d2\\u9aa8\\u3000\\u9b3c\\u9b3c\\u7c21\\u8a0a\\u554f\\u5019\\u3000'"
      ]
     },
     "execution_count": 138,
     "metadata": {},
     "output_type": "execute_result"
    }
   ],
   "source": [
    "#newsary[0]['url']\n",
    "#newsary[0]['summary'] = requests.get('newsary[0]['url']')...."
   ]
  },
  {
   "cell_type": "code",
   "execution_count": 140,
   "metadata": {
    "collapsed": false
   },
   "outputs": [],
   "source": [
    "for news in newsary:\n",
    "    res = requests.get(news['url'])\n",
    "    soup = BeautifulSoup(res.text)\n",
    "    news['summary'] = soup.select('#summary')[0].text"
   ]
  },
  {
   "cell_type": "code",
   "execution_count": 141,
   "metadata": {
    "collapsed": false
   },
   "outputs": [
    {
     "name": "stdout",
     "output_type": "stream",
     "text": [
      "吳映潔（鬼鬼）今天出席中視中天新劇《少年四大名捕》見面會，被問到前緋聞男友胡宇威摔車斷勒骨住院一事，她委婉地說，「只有簡訊問候」，問怎沒去探病？她說：「很怪吧！」（葉婉如/台北報導）\n"
     ]
    }
   ],
   "source": [
    "print newsary[0]['summary']"
   ]
  },
  {
   "cell_type": "code",
   "execution_count": 162,
   "metadata": {
    "collapsed": false
   },
   "outputs": [
    {
     "name": "stdout",
     "output_type": "stream",
     "text": [
      "{\"data\":[{\"created_time\":\"2015-10-12T07:42:20+0000\",\"from\":{\"name\":\"\\ud64d\\uc790\\uac74\",\"id\":\"918379581534898\"},\"message\":\"\\u9ebb\\u5409\\u5927\\u54e5\\u771f\\u8870\",\"id\":\"1137287989632908_1137312099630497\"},{\"created_time\":\"2015-10-12T07:21:40+0000\",\"from\":{\"name\":\"\\u9b6f\\u5fb7\\u5fd7\",\"id\":\"148559452145869\"},\"message\":\"\\u6a19\\u984c--\\u9ec3\\u7acb\\u6210\\u4e0d\\u4fe1\\u88ab\\u5883\\u7ba1\\u3000\\u4eca\\u665a\\u8a66\\u5716\\u95d6\\u95dc\\u8d74\\u7f8e\\n\\u5167\\u6587--\\u4ed6\\u7b11\\u8aaa\\uff1a\\u300c\\u6709\\u6539\\u6b63\\u5c31\\u597d\\u3002\\u300d\",\"id\":\"1137287989632908_1137308022964238\"},{\"created_time\":\"2015-10-12T07:19:53+0000\",\"from\":{\"name\":\"Tai-Shan Peng\",\"id\":\"10203564330131220\"},\"message\":\"\\u5993\\u8005\\u7684\\u5783\\u573e\\u6a19\\u984c! \\u6c92\\u88ab\\u5883\\u7ba1\\u4f55\\u4f86\\u95d6\\u95dc?\",\"id\":\"1137287989632908_1137307639630943\"},{\"created_time\":\"2015-10-12T06:57:11+0000\",\"from\":{\"name\":\"\\u5433\\u9451\\u5fb7\",\"id\":\"112825329067223\"},\"message\":\"\\u7d10\\u7d04\\u5c0f\\u5b50\\uff01\\u9019\\u5c0f\\u5b50\\u771f\\u6c92\\u5f04\\u6e05\\u695a\\uff01\\u5728\\u7f8e\\u570b\\n\\u9019\\u53ef\\u662f\\u6389\\u5230\\u5730\\u4e0b\\u7684\\u4e00\\u7c92\\u5c0f\\u829d\\u9ebb\\uff01\\uff08\\u6c92\\u4eba\\u6703\\u7406\\u6703\\uff09\\u4f46\\u5728\\u53f0\\u7063\\n\\u54c8\\uff01\\u54c8\\uff01\\u90a3\\u53ef\\u662f\\u6703\\u505a\\u98a8\\u98b1\\uff01\\u53ef\\u80fd\\u628a\\u5c4b\\u9802\\u90fd\\u6380\\u4e86\\uff01\",\"id\":\"1137287989632908_1137303482964692\"},{\"created_time\":\"2015-10-12T06:55:50+0000\",\"from\":{\"name\":\"Brian Lien\",\"id\":\"1624993647785034\"},\"message\":\"\\u5883\\u7ba1\\u500b\\u5c41\\uff0c\\u4ed6\\u662f\\u7528\\u7da0\\u5361\\u9084\\u5883\\u7ba1\\u310c\\u311f\\uff0c\",\"id\":\"1137287989632908_1137303202964720\"},{\"created_time\":\"2015-10-12T06:50:08+0000\",\"from\":{\"name\":\"Mike Freeman\",\"id\":\"831604010194506\"},\"message\":\"\\u8822\\u2026\\u2026\",\"id\":\"1137287989632908_1137297386298635\"},{\"created_time\":\"2015-10-12T06:38:21+0000\",\"from\":{\"name\":\"Rain Hung\",\"id\":\"553813181398542\"},\"message\":\"\\u7136\\u5f8c\\u860b\\u679c\\u99ac\\u4e0a\\u53c8\\u4e82\\u5beb\\uff5e\",\"id\":\"1137287989632908_1137295179632189\"},{\"created_time\":\"2015-10-12T06:38:19+0000\",\"from\":{\"name\":\"\\u795e\\u5dde\\u7267\\u5834\",\"id\":\"131091193732216\"},\"message\":\"\\u6a19\\u984c\\u9a19\\u9ede\\u95b1\\u7387\",\"id\":\"1137287989632908_1137295172965523\"},{\"created_time\":\"2015-10-12T06:31:29+0000\",\"from\":{\"name\":\"Manee Kuo\",\"id\":\"1431928187129749\"},\"message\":\"\\u4e0d\\u8981\\u6311\\u6230\\u570b\\u5bb6\\u7684\\u6cd5\\u5f8b\\uff01\\u5982\\u679c\\u906d\\u5230\\u5883\\u7ba1\\u9084\\u80fd\\u51fa\\u5883\\uff0c\\u90a3\\u9ebc\\u9019\\u500b\\u570b\\u5bb6\\u5c31\\u662f\\u500b\\u7b11\\u8a71\\u3002\",\"id\":\"1137287989632908_1137293659632341\"},{\"created_time\":\"2015-10-12T06:28:18+0000\",\"from\":{\"name\":\"\\u5f35\\u929c\\u6587\",\"id\":\"932080646811140\"},\"message\":\"\\u6c34\\u679c\\u65e5\\u5831\\u5c31\\u4e0d\\u80fd\\u597d\\u597d\\u5831\\u5c0e\\u55ce\\uff1f\\uff01\\u5c31\\u559c\\u6b61\\u9a19\\u9ede\\u95b1\\u7387\\u800c\\u5df2\",\"id\":\"1137287989632908_1137292986299075\"},{\"created_time\":\"2015-10-12T06:27:24+0000\",\"from\":{\"name\":\"\\u6731\\u5609\\u8587\",\"id\":\"1023857704295525\"},\"message\":\"\\u5565\\u6a19\\u984c\\u963f\\uff1f\\uff01\",\"id\":\"1137287989632908_1137292786299095\"},{\"created_time\":\"2015-10-12T06:26:18+0000\",\"from\":{\"name\":\"Su Su\",\"id\":\"183966531943977\"},\"message\":\"\\u5230\\u5e95\\u662f\\u8a18\\u8005\\u88ab\\u9650\\u5236\\u9084\\u662f\\u7576\\u4e8b\\u4eba\",\"id\":\"1137287989632908_1137292616299112\"}],\"paging\":{\"cursors\":{\"before\":\"MTgZD\",\"after\":\"NwZDZD\"}}}\n"
     ]
    }
   ],
   "source": [
    "import requests\n",
    "\n",
    "ACCESS_TOKEN = '<ACCESSTOKEN>'\n",
    "res = requests.get('https://graph.facebook.com/v2.5/1137287989632908/comments?access_token=' + ACCESS_TOKEN)\n",
    "print res.text"
   ]
  },
  {
   "cell_type": "code",
   "execution_count": 163,
   "metadata": {
    "collapsed": false
   },
   "outputs": [],
   "source": [
    "import json\n",
    "jd = json.loads(res.text)\n",
    "fbary = []\n",
    "for dt in jd['data']:\n",
    "    dic= {'name':dt['from']['name'],'id':dt['from']['id'],\\\n",
    "          'message':dt['message']}\n",
    "    fbary.append(dic)      "
   ]
  },
  {
   "cell_type": "code",
   "execution_count": 164,
   "metadata": {
    "collapsed": false
   },
   "outputs": [
    {
     "data": {
      "text/html": [
       "<div>\n",
       "<table border=\"1\" class=\"dataframe\">\n",
       "  <thead>\n",
       "    <tr style=\"text-align: right;\">\n",
       "      <th></th>\n",
       "      <th>id</th>\n",
       "      <th>message</th>\n",
       "      <th>name</th>\n",
       "    </tr>\n",
       "  </thead>\n",
       "  <tbody>\n",
       "    <tr>\n",
       "      <th>0</th>\n",
       "      <td>918379581534898</td>\n",
       "      <td>麻吉大哥真衰</td>\n",
       "      <td>홍자건</td>\n",
       "    </tr>\n",
       "    <tr>\n",
       "      <th>1</th>\n",
       "      <td>148559452145869</td>\n",
       "      <td>標題--黃立成不信被境管　今晚試圖闖關赴美\\n內文--他笑說：「有改正就好。」</td>\n",
       "      <td>魯德志</td>\n",
       "    </tr>\n",
       "    <tr>\n",
       "      <th>2</th>\n",
       "      <td>10203564330131220</td>\n",
       "      <td>妓者的垃圾標題! 沒被境管何來闖關?</td>\n",
       "      <td>Tai-Shan Peng</td>\n",
       "    </tr>\n",
       "    <tr>\n",
       "      <th>3</th>\n",
       "      <td>112825329067223</td>\n",
       "      <td>紐約小子！這小子真沒弄清楚！在美國\\n這可是掉到地下的一粒小芝麻！（沒人會理會）但在台灣\\n...</td>\n",
       "      <td>吳鑑德</td>\n",
       "    </tr>\n",
       "    <tr>\n",
       "      <th>4</th>\n",
       "      <td>1624993647785034</td>\n",
       "      <td>境管個屁，他是用綠卡還境管ㄌㄟ，</td>\n",
       "      <td>Brian Lien</td>\n",
       "    </tr>\n",
       "    <tr>\n",
       "      <th>5</th>\n",
       "      <td>831604010194506</td>\n",
       "      <td>蠢……</td>\n",
       "      <td>Mike Freeman</td>\n",
       "    </tr>\n",
       "    <tr>\n",
       "      <th>6</th>\n",
       "      <td>553813181398542</td>\n",
       "      <td>然後蘋果馬上又亂寫～</td>\n",
       "      <td>Rain Hung</td>\n",
       "    </tr>\n",
       "    <tr>\n",
       "      <th>7</th>\n",
       "      <td>131091193732216</td>\n",
       "      <td>標題騙點閱率</td>\n",
       "      <td>神州牧場</td>\n",
       "    </tr>\n",
       "    <tr>\n",
       "      <th>8</th>\n",
       "      <td>1431928187129749</td>\n",
       "      <td>不要挑戰國家的法律！如果遭到境管還能出境，那麼這個國家就是個笑話。</td>\n",
       "      <td>Manee Kuo</td>\n",
       "    </tr>\n",
       "    <tr>\n",
       "      <th>9</th>\n",
       "      <td>932080646811140</td>\n",
       "      <td>水果日報就不能好好報導嗎？！就喜歡騙點閱率而已</td>\n",
       "      <td>張銜文</td>\n",
       "    </tr>\n",
       "    <tr>\n",
       "      <th>10</th>\n",
       "      <td>1023857704295525</td>\n",
       "      <td>啥標題阿？！</td>\n",
       "      <td>朱嘉薇</td>\n",
       "    </tr>\n",
       "    <tr>\n",
       "      <th>11</th>\n",
       "      <td>183966531943977</td>\n",
       "      <td>到底是記者被限制還是當事人</td>\n",
       "      <td>Su Su</td>\n",
       "    </tr>\n",
       "  </tbody>\n",
       "</table>\n",
       "</div>"
      ],
      "text/plain": [
       "                   id                                            message  \\\n",
       "0     918379581534898                                             麻吉大哥真衰   \n",
       "1     148559452145869            標題--黃立成不信被境管　今晚試圖闖關赴美\\n內文--他笑說：「有改正就好。」   \n",
       "2   10203564330131220                                 妓者的垃圾標題! 沒被境管何來闖關?   \n",
       "3     112825329067223  紐約小子！這小子真沒弄清楚！在美國\\n這可是掉到地下的一粒小芝麻！（沒人會理會）但在台灣\\n...   \n",
       "4    1624993647785034                                   境管個屁，他是用綠卡還境管ㄌㄟ，   \n",
       "5     831604010194506                                                蠢……   \n",
       "6     553813181398542                                         然後蘋果馬上又亂寫～   \n",
       "7     131091193732216                                             標題騙點閱率   \n",
       "8    1431928187129749                  不要挑戰國家的法律！如果遭到境管還能出境，那麼這個國家就是個笑話。   \n",
       "9     932080646811140                            水果日報就不能好好報導嗎？！就喜歡騙點閱率而已   \n",
       "10   1023857704295525                                             啥標題阿？！   \n",
       "11    183966531943977                                      到底是記者被限制還是當事人   \n",
       "\n",
       "             name  \n",
       "0             홍자건  \n",
       "1             魯德志  \n",
       "2   Tai-Shan Peng  \n",
       "3             吳鑑德  \n",
       "4      Brian Lien  \n",
       "5    Mike Freeman  \n",
       "6       Rain Hung  \n",
       "7            神州牧場  \n",
       "8       Manee Kuo  \n",
       "9             張銜文  \n",
       "10            朱嘉薇  \n",
       "11          Su Su  "
      ]
     },
     "execution_count": 164,
     "metadata": {},
     "output_type": "execute_result"
    }
   ],
   "source": [
    "import pandas as pd\n",
    "df = pd.DataFrame(fbary)\n",
    "df"
   ]
  },
  {
   "cell_type": "code",
   "execution_count": 159,
   "metadata": {
    "collapsed": false
   },
   "outputs": [
    {
     "name": "stdout",
     "output_type": "stream",
     "text": [
      "麻吉大哥真衰\n",
      "標題--黃立成不信被境管　今晚試圖闖關赴美\n",
      "內文--他笑說：「有改正就好。」\n",
      "妓者的垃圾標題! 沒被境管何來闖關?\n",
      "紐約小子！這小子真沒弄清楚！在美國\n",
      "這可是掉到地下的一粒小芝麻！（沒人會理會）但在台灣\n",
      "哈！哈！那可是會做風颱！可能把屋頂都掀了！\n",
      "境管個屁，他是用綠卡還境管ㄌㄟ，\n",
      "他不是綠卡 他是美國公民\n",
      "蠢……\n",
      "然後蘋果馬上又亂寫～\n",
      "標題騙點閱率\n",
      "不要挑戰國家的法律！如果遭到境管還能出境，那麼這個國家就是個笑話。\n",
      "這個國家早就是笑話\n",
      "是啊！蔡英文 美國封她為煽動暴民 擾亂法治\n",
      " 陳水扁 全世界最貪污的總統 美國的電視臺報導過\n",
      "\n",
      "馬英九 最軟弱的總統  \n",
      "\n",
      "李登輝 賣國總統  \n",
      "\n",
      "這國家沒救了！\n",
      "水果日報就不能好好報導嗎？！就喜歡騙點閱率而已\n",
      "啥標題阿？！\n",
      "到底是記者被限制還是當事人\n",
      "有黨證嗎？有黨證就大概沒問題……假如是某人金孫，大概30分鐘就可以快速通關\n"
     ]
    }
   ],
   "source": [
    "APPID = '<ID>'\n",
    "APPSECRET = '<SECRET>'\n",
    "\n",
    "import requests\n",
    "import json\n",
    "ACCESS_TOKEN =  APPID + '|' + APPSECRET\n",
    "res = requests.get('https://graph.facebook.com/v2.5/http://www.appledaily.com.tw/realtimenews/article/entertainment/20151012/709745/%E3%80%90%E7%8D%A8%E5%AE%B6%E3%80%91%E9%BB%83%E7%AB%8B%E6%88%90%E4%B8%8D%E4%BF%A1%E8%A2%AB%E5%A2%83%E7%AE%A1%E3%80%80%E4%BB%8A%E6%99%9A%E8%A9%A6%E5%9C%96%E9%97%96%E9%97%9C%E8%B5%B4%E7%BE%8E?fields=og_object{id,comments{id,message, comments}}&access_token=' + ACCESS_TOKEN)\n",
    "#print res.text\n",
    "jd = json.loads(res.text)\n",
    "for comments in jd['og_object']['comments']['data']:\n",
    "    print comments['message']\n",
    "    if 'comments' in comments:\n",
    "        for c in comments['comments']['data']:\n",
    "            print c['message']"
   ]
  },
  {
   "cell_type": "code",
   "execution_count": 166,
   "metadata": {
    "collapsed": false
   },
   "outputs": [
    {
     "name": "stdout",
     "output_type": "stream",
     "text": [
      "吳映潔（鬼鬼）今天出席中視中天新劇《少年四大名捕》見面會，被問到前緋聞男友胡宇威摔車斷勒骨住院一事，她委婉地說，「只有簡訊問候」，問怎沒去探病？她說：「很怪吧！」（葉婉如/台北報導）\n",
      "香港「千億媳婦」徐子淇日前再為老公李家誠生下第4胎，她的公公、香港恆基兆業主席李兆基也大手筆撒出6400萬紅包給集團員工。正在坐月子的徐子淇相信也收了不少禮物，她昨就在IG上PO新照，原來是PRADA送她的新包。這款PRADA Inside Bag是品牌秋冬主打新作，以包中包的造型及兩種顏色相襯，也很適合拿來當媽媽包。不過徐子淇除了公開謝謝品牌好意，身為千億媳婦的她也呼籲大家可以把心意化成捐款，捐助給有需要的小朋友。（陳玥礽／綜合報導） \n"
     ]
    }
   ],
   "source": [
    "print newsary[0]['summary']\n",
    "print newsary[1]['summary']"
   ]
  },
  {
   "cell_type": "code",
   "execution_count": 169,
   "metadata": {
    "collapsed": false
   },
   "outputs": [],
   "source": [
    "# -*- coding: utf-8 -*- \n",
    "import sqlite3\n",
    "db = sqlite3.connect('news.sqlite') \n",
    "cur = db.cursor()\n",
    "cur.execute('''DROP TABLE IF EXISTS news_entry''')\n",
    "cur.execute('''CREATE TABLE IF NOT EXISTS news_entry(\n",
    "                id INTEGER PRIMARY KEY,\n",
    "                category TEXT,\n",
    "                popularity INTEGER,\n",
    "                time VARCHAR(32),\n",
    "                title VARCHAR(256),\n",
    "                summary TEXT,\n",
    "                url VARCHAR(1024)\n",
    "                )''')\n",
    "cur.close()\n",
    "db.close()\n"
   ]
  },
  {
   "cell_type": "code",
   "execution_count": 179,
   "metadata": {
    "collapsed": false
   },
   "outputs": [
    {
     "name": "stdout",
     "output_type": "stream",
     "text": [
      "['category', 'title', 'url', 'popularity', 'summary', 'time']\n",
      "category, title, url, popularity, summary, time\n",
      "?, ?, ?, ?, ?, ?\n",
      "insert into news_entry(category, title, url, popularity, summary, time) values(?, ?, ?, ?, ?, ?)\n",
      "insert into news_entry(category, title, url, popularity, summary, time) values(?, ?, ?, ?, ?, ?)\n",
      "[u'\\u5a1b\\u6a02', u'\\u524d\\u7dcb\\u805e\\u7537\\u53cb\\u6454\\u8eca\\u65b7\\u52d2\\u9aa8\\u3000\\u9b3c\\u9b3c\\u7c21\\u8a0a\\u554f\\u5019\\u3000', u'http://www.appledaily.com.tw/realtimenews/article/entertainment/20151012/709697/\\u524d\\u7dcb\\u805e\\u7537\\u53cb\\u6454\\u8eca\\u65b7\\u52d2\\u9aa8\\u3000\\u9b3c\\u9b3c\\u7c21\\u8a0a\\u554f\\u5019\\u3000', 0, u'\\u5433\\u6620\\u6f54\\uff08\\u9b3c\\u9b3c\\uff09\\u4eca\\u5929\\u51fa\\u5e2d\\u4e2d\\u8996\\u4e2d\\u5929\\u65b0\\u5287\\u300a\\u5c11\\u5e74\\u56db\\u5927\\u540d\\u6355\\u300b\\u898b\\u9762\\u6703\\uff0c\\u88ab\\u554f\\u5230\\u524d\\u7dcb\\u805e\\u7537\\u53cb\\u80e1\\u5b87\\u5a01\\u6454\\u8eca\\u65b7\\u52d2\\u9aa8\\u4f4f\\u9662\\u4e00\\u4e8b\\uff0c\\u5979\\u59d4\\u5a49\\u5730\\u8aaa\\uff0c\\u300c\\u53ea\\u6709\\u7c21\\u8a0a\\u554f\\u5019\\u300d\\uff0c\\u554f\\u600e\\u6c92\\u53bb\\u63a2\\u75c5\\uff1f\\u5979\\u8aaa\\uff1a\\u300c\\u5f88\\u602a\\u5427\\uff01\\u300d\\uff08\\u8449\\u5a49\\u5982/\\u53f0\\u5317\\u5831\\u5c0e\\uff09', u'14:35']\n"
     ]
    }
   ],
   "source": [
    "#newsary[0]\n",
    "# insert into table_name(colnames...) values(val1...)\n",
    "print newsary[0].keys()\n",
    "print ', '.join(newsary[0].keys())\n",
    "\n",
    "# insert into table_name(colnames...) values(?...)\n",
    "print ', '.join(len(newsary[0]) * '?')\n",
    "\n",
    "colnames = ', '.join(newsary[0].keys())\n",
    "values = ', '.join(len(newsary[0]) * '?')\n",
    "\n",
    "print 'insert into news_entry({}) values({})'.format(colnames, values)\n",
    "print 'insert into news_entry(%s) values(%s)'%(colnames, values)\n",
    "print newsary[0].values()"
   ]
  },
  {
   "cell_type": "code",
   "execution_count": 180,
   "metadata": {
    "collapsed": true
   },
   "outputs": [],
   "source": [
    "db = sqlite3.connect('news.sqlite') \n",
    "cur = db.cursor()\n",
    "\n",
    "for news in newsary:\n",
    "    col = ', ' .join(news.keys())\n",
    "    val = ','.join('?'* (len(news.keys())))\n",
    "    sql = 'insert into news_entry(%s) values(%s)'%(col, val)\n",
    "    cur.execute(sql,news.values())\n",
    "    db.commit()\n",
    "          \n",
    "cur.close()\n",
    "db.close()\n"
   ]
  },
  {
   "cell_type": "code",
   "execution_count": 182,
   "metadata": {
    "collapsed": false
   },
   "outputs": [],
   "source": [
    "db = sqlite3.connect('news.sqlite') \n",
    "cur = db.cursor()\n",
    "cur.execute('select * from news_entry')\n",
    "allNews = cur.fetchall()\n",
    "#for rec in allNews:\n",
    "#    print rec[0], rec[1], rec[2], rec[3], rec[4]\n",
    "cur.close()\n",
    "db.close()\n"
   ]
  },
  {
   "cell_type": "code",
   "execution_count": 193,
   "metadata": {
    "collapsed": false
   },
   "outputs": [
    {
     "name": "stdout",
     "output_type": "stream",
     "text": [
      "那我\n",
      "我們\n",
      "們酸\n",
      "酸民\n",
      "民婉\n",
      "婉君\n",
      "君也\n",
      "也可\n",
      "可以\n",
      "以報\n",
      "報名\n",
      "名嗎\n"
     ]
    }
   ],
   "source": [
    "input_sentence='那我們酸民婉君也可以報名嗎'\n",
    "sentence  = input_sentence.decode('utf-8')\n",
    "for i in range(0, len(sentence) - 2 + 1):\n",
    "    print sentence[i:i+2]\n"
   ]
  },
  {
   "cell_type": "code",
   "execution_count": 194,
   "metadata": {
    "collapsed": false
   },
   "outputs": [
    {
     "name": "stdout",
     "output_type": "stream",
     "text": [
      "那我們\n",
      "我們酸\n",
      "們酸民\n",
      "酸民婉\n",
      "民婉君\n",
      "婉君也\n",
      "君也可\n",
      "也可以\n",
      "可以報\n",
      "以報名\n",
      "報名嗎\n"
     ]
    }
   ],
   "source": [
    "for i in range(0, len(sentence) -3 + 1):\n",
    "    print sentence[i:i+3]"
   ]
  },
  {
   "cell_type": "code",
   "execution_count": 187,
   "metadata": {
    "collapsed": false
   },
   "outputs": [],
   "source": [
    "dic =  {}\n",
    "for news in newsary:\n",
    "    sentence  = news['title']\n",
    "    for i in range(0, len(sentence) - 2 + 1):\n",
    "        if sentence[i:i+2] not in dic:\n",
    "            dic[sentence[i:i+2]] = 1\n",
    "        else:\n",
    "            dic[sentence[i:i+2]] = dic[sentence[i:i+2]] + 1\n",
    "\n"
   ]
  },
  {
   "cell_type": "code",
   "execution_count": 196,
   "metadata": {
    "collapsed": false
   },
   "outputs": [
    {
     "name": "stdout",
     "output_type": "stream",
     "text": [
      ".. 442\n",
      "更新 71\n",
      "新】 69\n",
      "【更 68\n",
      "RF 48\n",
      "法廣 48\n",
      "FI 48\n",
      "I】 48\n",
      "廣R 48\n",
      "【法 48\n"
     ]
    }
   ],
   "source": [
    "import operator\n",
    "words_freq = sorted(dic.iteritems(),key=operator.itemgetter(1),reverse=True)\n",
    "for word in words_freq[0:10]:\n",
    "    print word[0], word[1]"
   ]
  },
  {
   "cell_type": "code",
   "execution_count": 197,
   "metadata": {
    "collapsed": true
   },
   "outputs": [],
   "source": [
    "dic =  {}\n",
    "for news in newsary:\n",
    "    sentence  = news['title']\n",
    "    for i in range(0, len(sentence) - 3 + 1):\n",
    "        if sentence[i:i+3] not in dic:\n",
    "            dic[sentence[i:i+3]] = 1\n",
    "        else:\n",
    "            dic[sentence[i:i+3]] = dic[sentence[i:i+3]] + 1\n",
    "\n"
   ]
  },
  {
   "cell_type": "code",
   "execution_count": 199,
   "metadata": {
    "collapsed": false
   },
   "outputs": [
    {
     "name": "stdout",
     "output_type": "stream",
     "text": [
      "... 222\n",
      "更新】 69\n",
      "【更新 68\n",
      "廣RF 48\n",
      "法廣R 48\n",
      "【法廣 48\n",
      "RFI 48\n",
      "FI】 48\n",
      "　網友 16\n",
      "    13\n",
      "公庫】 13\n",
      "【公庫 13\n",
      "LB】 12\n",
      "【ML 12\n",
      "MLB 12\n",
      "新聞】 10\n",
      "蔡英文 9\n",
      "土耳其 8\n",
      "OMO 8\n",
      "O雙語 8\n"
     ]
    }
   ],
   "source": [
    "import operator\n",
    "words_freq = sorted(dic.iteritems(),key=operator.itemgetter(1),reverse=True)\n",
    "for word in words_freq[0:20]:\n",
    "    print word[0], word[1]"
   ]
  },
  {
   "cell_type": "code",
   "execution_count": 200,
   "metadata": {
    "collapsed": true
   },
   "outputs": [],
   "source": [
    "def ngram(input_sentence, n = 2):\n",
    "    word_dic = {}\n",
    "    sentence  = input_sentence.decode('utf-8')\n",
    "    for i in range(0, len(sentence) - n + 1):\n",
    "        if sentence[i:i+n] not in word_dic:\n",
    "            word_dic[sentence[i:i+n]] = 1\n",
    "        else:\n",
    "            word_dic[sentence[i:i+n]] = word_dic[sentence[i:i+n]] + 1\n",
    "    return word_dic\n"
   ]
  },
  {
   "cell_type": "code",
   "execution_count": 204,
   "metadata": {
    "collapsed": true
   },
   "outputs": [],
   "source": [
    "skip_dic = '?.,、　「！】？：《」》～【'.decode('utf-8')\n",
    "def ngram(input_sentence, n = 2, skip_word= skip_dic):\n",
    "    word_dic = {}\n",
    "    sentence  = input_sentence\n",
    "    for i in range(0, len(sentence) - n + 1):\n",
    "        invalid = len([word for word in sentence[i:i+n] if word in skip_word])\n",
    "        if sentence[i:i+n] not in word_dic and invalid ==0:\n",
    "            word_dic[sentence[i:i+n]] = 1\n",
    "        elif invalid ==0:\n",
    "            word_dic[sentence[i:i+n]] = word_dic[sentence[i:i+n]] + 1\n",
    "    return word_dic\n"
   ]
  },
  {
   "cell_type": "code",
   "execution_count": 206,
   "metadata": {
    "collapsed": false
   },
   "outputs": [
    {
     "name": "stdout",
     "output_type": "stream",
     "text": [
      "簡訊\n",
      "鬼鬼\n",
      "車斷\n",
      "男友\n",
      "前緋\n",
      "聞男\n",
      "訊問\n",
      "摔車\n",
      "斷勒\n",
      "問候\n",
      "友摔\n",
      "鬼簡\n",
      "勒骨\n",
      "緋聞\n"
     ]
    }
   ],
   "source": [
    "for ele in ngram(newsary[0]['title']) :\n",
    "    print ele"
   ]
  },
  {
   "cell_type": "code",
   "execution_count": 207,
   "metadata": {
    "collapsed": true
   },
   "outputs": [],
   "source": [
    "statdic = {}\n",
    "for news in newsary:\n",
    "    dic = ngram(news['title'])\n",
    "    for ele in dic:\n",
    "        if ele not in statdic:\n",
    "            statdic[ele] = dic[ele]\n",
    "        else:\n",
    "            statdic[ele] = statdic[ele] + dic[ele]"
   ]
  },
  {
   "cell_type": "code",
   "execution_count": 208,
   "metadata": {
    "collapsed": false
   },
   "outputs": [
    {
     "name": "stdout",
     "output_type": "stream",
     "text": [
      "更新 71\n",
      "RF 48\n",
      "法廣 48\n",
      "FI 48\n",
      "廣R 48\n",
      "   31\n",
      "台灣 28\n",
      "網友 25\n",
      "10 23\n",
      "國慶 18\n",
      "中國 15\n",
      "世界 14\n",
      "日本 14\n",
      "00 14\n",
      "總統 14\n",
      "公庫 13\n",
      "ML 12\n",
      "LB 12\n",
      "新聞 12\n",
      "爆炸 11\n"
     ]
    }
   ],
   "source": [
    "import operator\n",
    "words_freq = sorted(statdic.iteritems(),key=operator.itemgetter(1),reverse=True)\n",
    "for word in words_freq[0:20]:\n",
    "    print word[0], word[1]"
   ]
  },
  {
   "cell_type": "code",
   "execution_count": 210,
   "metadata": {
    "collapsed": false
   },
   "outputs": [
    {
     "name": "stdout",
     "output_type": "stream",
     "text": [
      "廣RF 48\n",
      "法廣R 48\n",
      "RFI 48\n",
      "    13\n",
      "MLB 12\n",
      "蔡英文 9\n",
      "土耳其 8\n",
      "OMO 8\n",
      "O雙語 8\n",
      "MO雙 8\n",
      "TOM 8\n",
      "雙語爆 8\n",
      "洪秀柱 8\n",
      "國民黨 7\n",
      "位時代 6\n",
      "數位時 6\n",
      "日本人 5\n",
      "宋楚瑜 5\n",
      "LOL 5\n",
      "i6s 5\n"
     ]
    }
   ],
   "source": [
    "statdic = {}\n",
    "for news in newsary:\n",
    "    dic = ngram(news['title'], n = 3)\n",
    "    for ele in dic:\n",
    "        if ele not in statdic:\n",
    "            statdic[ele] = dic[ele]\n",
    "        else:\n",
    "            statdic[ele] = statdic[ele] + dic[ele]\n",
    "import operator\n",
    "words_freq = sorted(statdic.iteritems(),key=operator.itemgetter(1),reverse=True)\n",
    "for word in words_freq[0:20]:\n",
    "    print word[0], word[1]"
   ]
  },
  {
   "cell_type": "code",
   "execution_count": 5,
   "metadata": {
    "collapsed": false
   },
   "outputs": [
    {
     "name": "stdout",
     "output_type": "stream",
     "text": [
      "True\n",
      "True\n"
     ]
    }
   ],
   "source": [
    "sentence = '123?'\n",
    "skip_word = '.?'\n",
    "#len([word for word in sentence if word in skip_word]) > 0\n",
    "ary = []\n",
    "for word in sentence:\n",
    "    if word in skip_word:\n",
    "        ary.append(word)\n",
    "print len(ary) > 0\n",
    "\n",
    "\n",
    "print len([word for word in sentence if word in skip_word]) > 0"
   ]
  },
  {
   "cell_type": "code",
   "execution_count": 6,
   "metadata": {
    "collapsed": false
   },
   "outputs": [
    {
     "name": "stdout",
     "output_type": "stream",
     "text": [
      "True\n"
     ]
    }
   ],
   "source": [
    "a = \"高雄應用大學\"\n",
    "print \"高雄\" in a"
   ]
  },
  {
   "cell_type": "code",
   "execution_count": 47,
   "metadata": {
    "collapsed": false
   },
   "outputs": [
    {
     "name": "stdout",
     "output_type": "stream",
     "text": [
      "3年前就讀高雄應用大學二年級的陳顯佳\n",
      "為閃避跨越雙黃線來車\n",
      "撞上路邊\n",
      "摔斷頸椎\n",
      "頸部以下全癱\n",
      "嘴被插管\n",
      "父母每天去看他\n",
      "他都意識清醒\n",
      "眨眼流淚\n",
      "17天後他因頸椎受損抑制呼吸\n",
      "醫師用盡強力針與電擊都無效\n",
      "\n"
     ]
    }
   ],
   "source": [
    "import re\n",
    "delimiter = \"，|。|、\"  \n",
    "text = '3年前就讀高雄應用大學二年級的陳顯佳，為閃避跨越雙黃線來車，撞上路邊、摔斷頸椎，頸部以下全癱，嘴被插管，父母每天去看他，他都意識清醒、眨眼流淚，17天後他因頸椎受損抑制呼吸，醫師用盡強力針與電擊都無效，'\n",
    "for i in re.split(delimiter, text):\n",
    "    print i\n"
   ]
  },
  {
   "cell_type": "code",
   "execution_count": 10,
   "metadata": {
    "collapsed": false
   },
   "outputs": [
    {
     "name": "stdout",
     "output_type": "stream",
     "text": [
      "民進黨\n",
      "將公布\n",
      "民進黨將公布\n"
     ]
    }
   ],
   "source": [
    "a = '民進黨後天將公布'\n",
    "for ele in  a.split('後天'):\n",
    "    print ele\n",
    "print ''.join(a.split('後天'))"
   ]
  },
  {
   "cell_type": "code",
   "execution_count": 13,
   "metadata": {
    "collapsed": true
   },
   "outputs": [],
   "source": [
    "def removeKey(text, keyword):\n",
    "    textAry= text\n",
    "    for key in keyword:\n",
    "        textAry = ''.join(textAry.split(key))\n",
    "    return textAry\n"
   ]
  },
  {
   "cell_type": "code",
   "execution_count": 16,
   "metadata": {
    "collapsed": false
   },
   "outputs": [
    {
     "name": "stdout",
     "output_type": "stream",
     "text": [
      "民進黨將公布\n",
      "將公布\n"
     ]
    }
   ],
   "source": [
    "a = '民進黨後天將公布'\n",
    "print removeKey(a, ['後天'])\n",
    "\n",
    "\n",
    "a = '民進黨後天將公布'\n",
    "print removeKey(a, ['民進黨', '後天'])\n"
   ]
  },
  {
   "cell_type": "code",
   "execution_count": 116,
   "metadata": {
    "collapsed": false
   },
   "outputs": [],
   "source": [
    "import sqlite3\n",
    "db = sqlite3.connect('news.sqlite') \n",
    "cur = db.cursor()\n",
    "cur.execute('select * from news_entry')\n",
    "allNews = cur.fetchall()\n",
    "newsary = [] \n",
    "for rec in allNews:\n",
    "    newsary.append(rec[5])\n",
    "    #print rec[5]\n",
    "cur.close()\n",
    "db.close()\n"
   ]
  },
  {
   "cell_type": "code",
   "execution_count": 117,
   "metadata": {
    "collapsed": false
   },
   "outputs": [
    {
     "name": "stdout",
     "output_type": "stream",
     "text": [
      "900\n"
     ]
    }
   ],
   "source": [
    "print len(newsary)"
   ]
  },
  {
   "cell_type": "code",
   "execution_count": 118,
   "metadata": {
    "collapsed": true
   },
   "outputs": [],
   "source": [
    "def ngram(input_sentence, n = 2):\n",
    "    word_dic = {}\n",
    "    sentence  = input_sentence.decode('utf-8')\n",
    "    for i in range(0, len(sentence) - n + 1):\n",
    "        if sentence[i:i+n] not in word_dic:\n",
    "            word_dic[sentence[i:i+n]] = 1\n",
    "        else:\n",
    "            word_dic[sentence[i:i+n]] = word_dic[sentence[i:i+n]] + 1\n",
    "    return word_dic"
   ]
  },
  {
   "cell_type": "code",
   "execution_count": 119,
   "metadata": {
    "collapsed": true
   },
   "outputs": [],
   "source": [
    "def removeKey(text, keyword):\n",
    "    textAry= text\n",
    "    for key in keyword:\n",
    "        textAry = ''.join(textAry.split(key))\n",
    "    return textAry\n"
   ]
  },
  {
   "cell_type": "code",
   "execution_count": 127,
   "metadata": {
    "collapsed": false
   },
   "outputs": [
    {
     "name": "stdout",
     "output_type": "stream",
     "text": [
      "4544\n"
     ]
    },
    {
     "data": {
      "text/plain": [
       "\"\\n    for sentence in sentenceAry:\\n    text_list = removeKey(sentence, ['\\xe5\\x8d\\x83\\xe5\\x84\\x84'])\\n    ngram_words = ngram(text_list,4) \\n    for word in ngram_words:\\n        print word\\n\""
      ]
     },
     "execution_count": 127,
     "metadata": {},
     "output_type": "execute_result"
    }
   ],
   "source": [
    "import re\n",
    "delimiter = \"，|。|、|「|」|（|／|）\" \n",
    "sentenceAry = []\n",
    "for news in newsary[0:100]:\n",
    "    sentenceAry = sentenceAry + re.split(delimiter, news.encode('utf-8') )\n",
    "\n",
    "print len(sentenceAry)\n",
    "'''\n",
    "    for sentence in sentenceAry:\n",
    "    text_list = removeKey(sentence, ['千億'])\n",
    "    ngram_words = ngram(text_list,4) \n",
    "    for word in ngram_words:\n",
    "        print word\n",
    "'''"
   ]
  },
  {
   "cell_type": "code",
   "execution_count": 128,
   "metadata": {
    "collapsed": false
   },
   "outputs": [],
   "source": [
    "keywords=[]        \n",
    "ret_terms={}\n",
    "words_freq    = []\n",
    "for term_length in range(4,1,-1):\n",
    "    word_dic = {}\n",
    "    for sentence in sentenceAry:\n",
    "        text_list = removeKey(sentence,keywords)        \n",
    "        ngram_words = ngram(text_list,term_length) \n",
    "        for word in ngram_words:\n",
    "            if word not in word_dic:\n",
    "                word_dic[word] = 1\n",
    "            else:\n",
    "                word_dic[word] += ngram_words[word]   \n",
    "    for word in word_dic:\n",
    "        if word_dic[word] >= 10:\n",
    "            keywords.append(word.encode('utf-8'))            \n",
    "            ret_terms.update({word:word_dic[word]})\n"
   ]
  },
  {
   "cell_type": "code",
   "execution_count": 130,
   "metadata": {
    "collapsed": false
   },
   "outputs": [],
   "source": [
    "#for ele in  keywords:\n",
    "#    print ele"
   ]
  },
  {
   "cell_type": "code",
   "execution_count": 134,
   "metadata": {
    "collapsed": false
   },
   "outputs": [
    {
     "name": "stdout",
     "output_type": "stream",
     "text": [
      " the 99\n",
      "the  88\n",
      "表示 72\n",
      "台灣 64\n",
      "in 55\n",
      "發現 52\n",
      ",  48\n",
      "警方 48\n",
      "報導 47\n",
      "ing  47\n",
      "t  46\n",
      "沒有 45\n",
      " to  45\n",
      "我們 44\n",
      "e  44\n",
      "o  41\n",
      "ar 41\n",
      "it 40\n",
      "今年 40\n",
      "on 40\n",
      "ed  39\n",
      "國民黨 39\n",
      "10 39\n",
      "台北報導 37\n",
      "中心 36\n",
      "id 36\n",
      "and  35\n",
      "醫院 34\n",
      "y  34\n",
      "國歌 33\n",
      "le 33\n",
      "ra 33\n",
      "en 33\n",
      " of  32\n",
      "影片 32\n",
      "ed 32\n",
      "es 32\n",
      "me 32\n",
      "台北市 31\n",
      "可以 31\n",
      "公司 31\n",
      "11 31\n",
      "自己 30\n",
      "de 30\n",
      "ni 30\n",
      ".  29\n",
      " and 29\n",
      "一名 28\n",
      "lo 28\n",
      "認為 28\n",
      "中國 27\n",
      "女子 27\n",
      " re 26\n",
      "因此 26\n",
      "ro 26\n",
      "ri 26\n",
      "調查 26\n",
      "ab 26\n",
      "工作 25\n",
      "s  25\n",
      "兩岸 25\n",
      "進行 25\n",
      "nt 25\n",
      "el 25\n",
      "可能 25\n",
      "12 25\n",
      "a  25\n",
      "不是 25\n",
      " a 24\n",
      "超商 24\n",
      "al  24\n",
      "ie 24\n",
      "指出 24\n",
      "政府 24\n",
      "食安 24\n",
      "市場 24\n",
      "其他 23\n",
      "di 23\n",
      "no 23\n",
      "發生 23\n",
      "ea 23\n",
      "al 23\n",
      "an 23\n",
      "at 23\n",
      "媒體 23\n",
      "her  22\n",
      "us 22\n",
      "or 22\n",
      "st 22\n",
      " ha 22\n",
      "om 22\n",
      "今天 22\n",
      "os 22\n",
      "an  22\n",
      "00 22\n",
      "ly  22\n",
      "人瑞 22\n",
      "se 22\n",
      " S 21\n",
      "po 21\n"
     ]
    }
   ],
   "source": [
    "#for ele in ret_terms:\n",
    "#    print ele, ret_terms[ele]\n",
    "\n",
    "import operator\n",
    "words_freq = sorted(ret_terms.iteritems(),key=operator.itemgetter(1),reverse=True)\n",
    "for word in words_freq[0:100]:\n",
    "    print word[0], word[1]"
   ]
  },
  {
   "cell_type": "code",
   "execution_count": 136,
   "metadata": {
    "collapsed": false
   },
   "outputs": [
    {
     "name": "stdout",
     "output_type": "stream",
     "text": [
      "萌\n"
     ]
    }
   ],
   "source": [
    "import requests\n",
    "from bs4 import BeautifulSoup\n",
    "res = requests.get('https://www.moedict.tw/%E8%90%8C')\n",
    "soup = BeautifulSoup(res.text)\n",
    "print soup.select('rb')[0].text"
   ]
  },
  {
   "cell_type": "code",
   "execution_count": null,
   "metadata": {
    "collapsed": true
   },
   "outputs": [],
   "source": []
  }
 ],
 "metadata": {
  "kernelspec": {
   "display_name": "Python 2",
   "language": "python",
   "name": "python2"
  },
  "language_info": {
   "codemirror_mode": {
    "name": "ipython",
    "version": 2
   },
   "file_extension": ".py",
   "mimetype": "text/x-python",
   "name": "python",
   "nbconvert_exporter": "python",
   "pygments_lexer": "ipython2",
   "version": "2.7.10"
  }
 },
 "nbformat": 4,
 "nbformat_minor": 0
}
