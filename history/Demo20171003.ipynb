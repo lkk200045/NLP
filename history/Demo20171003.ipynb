{
 "cells": [
  {
   "cell_type": "code",
   "execution_count": 1,
   "metadata": {
    "collapsed": true
   },
   "outputs": [],
   "source": [
    "! pip freeze > requirements.txt"
   ]
  },
  {
   "cell_type": "code",
   "execution_count": null,
   "metadata": {
    "collapsed": true
   },
   "outputs": [],
   "source": [
    "! pip install -r requirements.txt"
   ]
  },
  {
   "cell_type": "markdown",
   "metadata": {},
   "source": [
    "## 英文斷詞"
   ]
  },
  {
   "cell_type": "code",
   "execution_count": 2,
   "metadata": {
    "collapsed": false
   },
   "outputs": [
    {
     "data": {
      "text/plain": [
       "['this', 'is', 'a', 'book']"
      ]
     },
     "execution_count": 2,
     "metadata": {},
     "output_type": "execute_result"
    }
   ],
   "source": [
    "s = 'this is a book'\n",
    "s.split()"
   ]
  },
  {
   "cell_type": "markdown",
   "metadata": {},
   "source": [
    "## Jieba\n",
    "- C:\\ProgramData\\Anaconda3\\Lib\\site-packages\\jieba"
   ]
  },
  {
   "cell_type": "code",
   "execution_count": 3,
   "metadata": {
    "collapsed": false
   },
   "outputs": [
    {
     "name": "stdout",
     "output_type": "stream",
     "text": [
      "Requirement already satisfied: jieba in c:\\programdata\\anaconda3\\lib\\site-packages\n"
     ]
    }
   ],
   "source": [
    "! pip install jieba"
   ]
  },
  {
   "cell_type": "code",
   "execution_count": 3,
   "metadata": {
    "collapsed": false
   },
   "outputs": [
    {
     "name": "stdout",
     "output_type": "stream",
     "text": [
      "那\n",
      "酸民\n",
      "婉君\n",
      "也\n",
      "可以\n",
      "報名\n",
      "嗎\n",
      "?\n"
     ]
    }
   ],
   "source": [
    "import jieba\n",
    "s = '那酸民婉君也可以報名嗎?'\n",
    "jieba.add_word('酸民')\n",
    "jieba.add_word('婉君')\n",
    "for w in jieba.cut(s):\n",
    "    print(w)"
   ]
  },
  {
   "cell_type": "code",
   "execution_count": 8,
   "metadata": {
    "collapsed": false
   },
   "outputs": [
    {
     "data": {
      "text/plain": [
       "['中央研究院院士',\n",
       " '我國駐WTO代表團常任代表朱敬一撰文質疑',\n",
       " '此次稅改股利分離課稅是圖利富人',\n",
       " '總統蔡英文接受中央社專訪時指出',\n",
       " '',\n",
       " '尊重他的看法',\n",
       " '',\n",
       " '財政部也會再向朱敬一說明',\n",
       " '不過稅改要看整體',\n",
       " '不能只看一部分',\n",
       " '她強調',\n",
       " '稅改要減輕一般所得者和中小企業的負擔',\n",
       " '希望讓受薪者和一般所得者',\n",
       " '生活安全感好一點',\n",
       " '',\n",
       " '但整體稅收損失不能太大',\n",
       " '']"
      ]
     },
     "execution_count": 8,
     "metadata": {},
     "output_type": "execute_result"
    }
   ],
   "source": [
    "import re\n",
    "article = '''中央研究院院士、我國駐WTO代表團常任代表朱敬一撰文質疑，此次稅改股利分離課稅是圖利富人。總統蔡英文接受中央社專訪時指出，「尊重他的看法」，財政部也會再向朱敬一說明，不過稅改要看整體，不能只看一部分。她強調，稅改要減輕一般所得者和中小企業的負擔，希望讓受薪者和一般所得者「生活安全感好一點」，但整體稅收損失不能太大。'''\n",
    "re.split('、|。|，|「|」', article)"
   ]
  },
  {
   "cell_type": "code",
   "execution_count": 1,
   "metadata": {
    "collapsed": false
   },
   "outputs": [
    {
     "name": "stderr",
     "output_type": "stream",
     "text": [
      "Building prefix dict from the default dictionary ...\n",
      "Loading model from cache C:\\Users\\User\\AppData\\Local\\Temp\\jieba.cache\n",
      "Loading model cost 4.729 seconds.\n",
      "Prefix dict has been built succesfully.\n"
     ]
    },
    {
     "name": "stdout",
     "output_type": "stream",
     "text": [
      "Full Mode: 大/ 巨蛋/ 案/ 對/ 市府/ 同仁/ 下/ 封口/ 封口令/ 口令/ / / / 柯/ P/ 否/ 認\n",
      "Default Mode: 大/ 巨蛋/ 案對/ 市府/ 同仁/ 下/ 封口令/ ？/ 　/ 柯/ P/ 否認\n"
     ]
    }
   ],
   "source": [
    "import jieba\n",
    "\n",
    "seg_list = jieba.cut(\"大巨蛋案對市府同仁下封口令？　柯P否認\", cut_all=True)\n",
    "print(\"Full Mode:\", \"/ \".join(seg_list))\n",
    "\n",
    "seg_list = jieba.cut(\"大巨蛋案對市府同仁下封口令？　柯P否認\", cut_all=False)\n",
    "print(\"Default Mode:\", \"/ \".join(seg_list))\n"
   ]
  },
  {
   "cell_type": "code",
   "execution_count": 2,
   "metadata": {
    "collapsed": true
   },
   "outputs": [],
   "source": [
    "#jieba.set_dictionary('userdict.txt')\n",
    "jieba.load_userdict('userdict.txt')"
   ]
  },
  {
   "cell_type": "code",
   "execution_count": 3,
   "metadata": {
    "collapsed": false
   },
   "outputs": [
    {
     "name": "stdout",
     "output_type": "stream",
     "text": [
      "Default Mode: 大巨蛋/ 案對/ 市府/ 同仁/ 下/ 封口令/ ？/ 　/ 柯P/ 否認\n"
     ]
    }
   ],
   "source": [
    "import jieba\n",
    "seg_list = jieba.cut(\"大巨蛋案對市府同仁下封口令？　柯P否認\", cut_all=False)\n",
    "print(\"Default Mode:\", \"/ \".join(seg_list))\n"
   ]
  },
  {
   "cell_type": "code",
   "execution_count": 6,
   "metadata": {
    "collapsed": false
   },
   "outputs": [
    {
     "name": "stdout",
     "output_type": "stream",
     "text": [
      "大巨蛋/x\n",
      "案/ng\n",
      "對/p\n",
      "市府/n\n",
      "同仁/nr\n",
      "下/f\n",
      "封口令/n\n",
      "？/x\n",
      "　/x\n",
      "柯P/x\n",
      "否認/v\n"
     ]
    }
   ],
   "source": [
    "import jieba.posseg as pseg\n",
    "jieba.load_userdict('userdict.txt')\n",
    "for w in pseg.cut(\"大巨蛋案對市府同仁下封口令？　柯P否認\"):\n",
    "    print(w)"
   ]
  },
  {
   "cell_type": "code",
   "execution_count": 7,
   "metadata": {
    "collapsed": false
   },
   "outputs": [
    {
     "name": "stdout",
     "output_type": "stream",
     "text": [
      "大巨蛋 0 3\n",
      "案對 3 5\n",
      "市府 5 7\n",
      "同仁 7 9\n",
      "下 9 10\n",
      "封口令 10 13\n",
      "？ 13 14\n",
      "　 14 15\n",
      "柯P 15 17\n",
      "否認 17 19\n"
     ]
    }
   ],
   "source": [
    "sentence = \"大巨蛋案對市府同仁下封口令？　柯P否認\"\n",
    "words = jieba.tokenize(sentence)\n",
    "\n",
    "for tw in words:\n",
    "    print(tw[0], tw[1], tw[2])"
   ]
  },
  {
   "cell_type": "markdown",
   "metadata": {},
   "source": [
    "## n-gram"
   ]
  },
  {
   "cell_type": "code",
   "execution_count": 9,
   "metadata": {
    "collapsed": false
   },
   "outputs": [
    {
     "data": {
      "text/plain": [
       "'那我'"
      ]
     },
     "execution_count": 9,
     "metadata": {},
     "output_type": "execute_result"
    }
   ],
   "source": [
    "s = '那我們酸民婉君也可以報名嗎?'\n",
    "s[0:2]"
   ]
  },
  {
   "cell_type": "code",
   "execution_count": 10,
   "metadata": {
    "collapsed": false
   },
   "outputs": [
    {
     "name": "stdout",
     "output_type": "stream",
     "text": [
      "那我\n",
      "我們\n",
      "們酸\n",
      "酸民\n",
      "民婉\n",
      "婉君\n",
      "君也\n",
      "也可\n",
      "可以\n",
      "以報\n",
      "報名\n",
      "名嗎\n",
      "嗎?\n"
     ]
    }
   ],
   "source": [
    "s = '那我們酸民婉君也可以報名嗎?'\n",
    "\n",
    "for i in range(0, len(s) - 2 + 1):\n",
    "    print(s[i:i+2])"
   ]
  },
  {
   "cell_type": "code",
   "execution_count": 11,
   "metadata": {
    "collapsed": false
   },
   "outputs": [
    {
     "name": "stdout",
     "output_type": "stream",
     "text": [
      "那我們\n",
      "我們酸\n",
      "們酸民\n",
      "酸民婉\n",
      "民婉君\n",
      "婉君也\n",
      "君也可\n",
      "也可以\n",
      "可以報\n",
      "以報名\n",
      "報名嗎\n",
      "名嗎?\n"
     ]
    }
   ],
   "source": [
    "for i in range(0, len(s) - 3 + 1):\n",
    "    print(s[i:i+3])"
   ]
  },
  {
   "cell_type": "code",
   "execution_count": 12,
   "metadata": {
    "collapsed": false
   },
   "outputs": [
    {
     "data": {
      "text/plain": [
       "Counter({'a': 2, 'b': 2, 'c': 1})"
      ]
     },
     "execution_count": 12,
     "metadata": {},
     "output_type": "execute_result"
    }
   ],
   "source": [
    "a = ['a', 'b', 'c', 'a', 'b']\n",
    "from collections import Counter\n",
    "c = Counter(a)\n",
    "c"
   ]
  },
  {
   "cell_type": "code",
   "execution_count": 13,
   "metadata": {
    "collapsed": true
   },
   "outputs": [],
   "source": [
    "from collections import Counter\n",
    "def ngram(s, n = 2):\n",
    "    words = []\n",
    "    for i in range(0, len(s) - n + 1):\n",
    "        words.append(s[i:i+n])\n",
    "    c = Counter(words)\n",
    "    return c"
   ]
  },
  {
   "cell_type": "code",
   "execution_count": 14,
   "metadata": {
    "collapsed": true
   },
   "outputs": [],
   "source": [
    "article = '''中央研究院院士、我國駐WTO代表團常任代表朱敬一撰文質疑，此次稅改股利分離課稅是圖利富人。總統蔡英文接受中央社專訪時指出，「尊重他的看法」，財政部也會再向朱敬一說明，不過稅改要看整體，不能只看一部分。她強調，稅改要減輕一般所得者和中小企業的負擔，希望讓受薪者和一般所得者「生活安全感好一點」，但整體稅收損失不能太大。\n",
    "蔡總統指出，國民黨執政時，把公司營利事業所得稅降到17%、個人所得稅往上調，造成經濟發展需要的投資人和專業人員，在所得稅上負擔比較大，因此需要調整；另外，稅改也要減輕創新和中小型企業的負擔，同時顧慮到整體稅收的損失不能太大。\n",
    "蔡總統表示，在這幾個原則下，稅改把營所稅從17%調高到20%，符合國際趨勢，不會太高；為了要讓創新和中小型企業減輕負擔，保留盈餘加徵營所稅則由10%降至5%。她說，大型企業在股市或資本市場集資比較容易，中小企業比較難，因此，讓中小企業的保留盈餘可做未來投資很重要。\n",
    "蔡總統指出，經濟發展裡需要的高級專業人才薪資很高，但他們對經濟發展效能大，因此稍微降低他們的賦稅負擔，綜所稅從45%降到40%，希望留住人才，這也大致符合國際趨勢。蔡總統還說，稅改還讓一般所得者有比較大扣除額，如果受薪者和一般所得者的稅負擔減輕，增加可支配所得，生活安全感更好一點，比較願意消費。（政治中心／台北報導）'''"
   ]
  },
  {
   "cell_type": "code",
   "execution_count": 22,
   "metadata": {
    "collapsed": false
   },
   "outputs": [
    {
     "data": {
      "text/plain": [
       "[('，稅改', 4),\n",
       " ('一般所', 4),\n",
       " ('般所得', 4),\n",
       " ('所得者', 4),\n",
       " ('負擔，', 4),\n",
       " ('蔡總統', 4),\n",
       " ('指出，', 3),\n",
       " ('和中小', 3),\n",
       " ('中小企', 3),\n",
       " ('小企業', 3)]"
      ]
     },
     "execution_count": 22,
     "metadata": {},
     "output_type": "execute_result"
    }
   ],
   "source": [
    "res = ngram(article, 3)\n",
    "res.most_common(10)"
   ]
  },
  {
   "cell_type": "code",
   "execution_count": 34,
   "metadata": {
    "collapsed": false
   },
   "outputs": [],
   "source": [
    "import re\n",
    "sentence_ary = re.split('、|，|」|「|。|；|／|\\n|（|）', article)"
   ]
  },
  {
   "cell_type": "code",
   "execution_count": 37,
   "metadata": {
    "collapsed": false
   },
   "outputs": [
    {
     "data": {
      "text/plain": [
       "'我國駐WTO代表團常任代表撰文質疑'"
      ]
     },
     "execution_count": 37,
     "metadata": {},
     "output_type": "execute_result"
    }
   ],
   "source": [
    "s = '我國駐WTO代表團常任代表朱敬一撰文質疑'\n",
    "#method 1\n",
    "s.replace('朱敬一', '')\n",
    "\n",
    "#method 2\n",
    "''.join(s.split('朱敬一'))"
   ]
  },
  {
   "cell_type": "code",
   "execution_count": 38,
   "metadata": {
    "collapsed": false
   },
   "outputs": [
    {
     "data": {
      "text/plain": [
       "'我國駐WTO常任代表撰文質疑'"
      ]
     },
     "execution_count": 38,
     "metadata": {},
     "output_type": "execute_result"
    }
   ],
   "source": [
    "def removeKey(s, keywords):\n",
    "    for keyword in keywords:\n",
    "        s = s.replace(keyword , '')\n",
    "    return s\n",
    "\n",
    "s = '我國駐WTO代表團常任代表朱敬一撰文質疑'\n",
    "removeKey(s, ['朱敬一', '代表團'])"
   ]
  },
  {
   "cell_type": "code",
   "execution_count": 40,
   "metadata": {
    "collapsed": false
   },
   "outputs": [
    {
     "data": {
      "text/plain": [
       "['我國',\n",
       " '國駐',\n",
       " '駐W',\n",
       " 'WT',\n",
       " 'TO',\n",
       " 'O代',\n",
       " '代表',\n",
       " '表團',\n",
       " '團常',\n",
       " '常任',\n",
       " '任代',\n",
       " '代表',\n",
       " '表朱',\n",
       " '朱敬',\n",
       " '敬一',\n",
       " '一撰',\n",
       " '撰文',\n",
       " '文質',\n",
       " '質疑']"
      ]
     },
     "execution_count": 40,
     "metadata": {},
     "output_type": "execute_result"
    }
   ],
   "source": [
    "def ngram(s, n = 2):\n",
    "    words = []\n",
    "    for i in range(0, len(s) - n + 1):\n",
    "        words.append(s[i:i+n])\n",
    "    return words\n",
    "s = '我國駐WTO代表團常任代表朱敬一撰文質疑'\n",
    "ngram(s, 2)"
   ]
  },
  {
   "cell_type": "code",
   "execution_count": 45,
   "metadata": {
    "collapsed": false
   },
   "outputs": [
    {
     "name": "stdout",
     "output_type": "stream",
     "text": [
      "一般所得 4\n",
      "般所得者 4\n",
      "中小企業 3\n",
      "經濟發展 3\n"
     ]
    }
   ],
   "source": [
    "from collections import Counter\n",
    "keywords = []\n",
    "\n",
    "words = []\n",
    "for sentence in sentence_ary:\n",
    "    ngram_words = ngram(sentence, 4)\n",
    "    words.extend(ngram_words)\n",
    "c = Counter(words)\n",
    "for k, v in c.items():\n",
    "    if v >= 3:\n",
    "        #print(k,v)\n",
    "        keywords.append(k)"
   ]
  },
  {
   "cell_type": "code",
   "execution_count": 48,
   "metadata": {
    "collapsed": false
   },
   "outputs": [
    {
     "data": {
      "text/plain": [
       "['稅改', '總統', '所得', '中小', '企業', '負擔', '比較']"
      ]
     },
     "execution_count": 48,
     "metadata": {},
     "output_type": "execute_result"
    }
   ],
   "source": [
    "from collections import Counter\n",
    "keywords = []\n",
    "\n",
    "for n in range(4,1,-1):\n",
    "    words = []\n",
    "    for sentence in sentence_ary:\n",
    "        sentence = removeKey(sentence, keywords)\n",
    "        ngram_words = ngram(sentence, n)\n",
    "        words.extend(ngram_words)\n",
    "    c = Counter(words)\n",
    "    for k, v in c.items():\n",
    "        if v >= 5:\n",
    "            #print(k,v)\n",
    "            keywords.append(k)\n",
    "keywords"
   ]
  },
  {
   "cell_type": "markdown",
   "metadata": {},
   "source": [
    "## 長詞優先法完整實做"
   ]
  },
  {
   "cell_type": "code",
   "execution_count": 49,
   "metadata": {
    "collapsed": true
   },
   "outputs": [],
   "source": [
    "article = '''台積電董事長張忠謀日前曾說，他反對政府的五加二產業，並指政府只要做好基礎建設就好，不要管太多。總統蔡英文接受中央社專訪時首度回應指出，五加二計畫不是創造新產業，絕對不會是那種古老時代、國家在經濟發展的初期，挑幾個產業然後就說要發展。她還說，和平電廠鐵塔倒塌、815大停電等事件，嚴格來說，不是缺電的問題，而是天災與人為疏失。\n",
    "蔡總統說，台灣過去有這樣的例子，例如，汽車產業是被挑出來的、半導體產業也是被挑出來的，有的成功，有的失敗；很多國家在經濟發展過程中，必須要把有限資源集中在幾個重要的產業上，讓它能夠快速成長，然後帶著經濟往前走，「我們確實已經脫離了那種模式，我們現在要做是在現有的產業基礎上，去讓它更有競爭力、更能夠轉型。」\n",
    "蔡總統指出，五加二的基礎產業其實都已存在，而且是有相當規模的產業，智慧機械是最明顯例子，台灣的機械產業做得很好，ICT產業也做得很好，為何不在這個基礎上，鼓勵業者把兩者結合起來，就是下一個世代的智慧機械。她也強調，「政府不是指定你只能做這個，不能做那個」，而是在現有的產業基礎上，快速地讓產業升級，讓它可以移到下個階段的競爭力。\n",
    "蔡總統表示，要發展這些產業，有些基礎工程，不是企業自己可以做得出來，那就是政府要做的，例如硬體的基礎設備、軟體的能力、數位的基礎建設，都要替企業備齊；因此，政府對於企業界在意的「五缺」（缺水、缺電、缺地、缺工、缺人才），十分重視，會積極處理，尤其對於缺電的議題。\n",
    "蔡總統指出，和平電廠鐵塔倒塌、815大停電等事件，嚴格來說，不是缺電的問題，而是天災與人為疏失，它暴露整個供電系統的問題，包括輸電系統、人員嚴謹度等問題。她說，雖然一般認為備轉容量率大概7%或8%就夠，但這事件過後，她確實有拜託經濟部去考慮，把備轉容量拉到10%。（政治中心／台北報導）'''"
   ]
  },
  {
   "cell_type": "code",
   "execution_count": 58,
   "metadata": {
    "collapsed": false
   },
   "outputs": [
    {
     "data": {
      "text/plain": [
       "['五加二',\n",
       " '缺電的',\n",
       " '的問題',\n",
       " '蔡總統',\n",
       " '的產業',\n",
       " '基礎上',\n",
       " '的基礎',\n",
       " '政府',\n",
       " '要做',\n",
       " '指出',\n",
       " '不是',\n",
       " '產業',\n",
       " '經濟',\n",
       " '發展',\n",
       " '事件',\n",
       " '問題',\n",
       " '而是',\n",
       " '出來',\n",
       " '讓它',\n",
       " '機械',\n",
       " '做得',\n",
       " '企業']"
      ]
     },
     "execution_count": 58,
     "metadata": {},
     "output_type": "execute_result"
    }
   ],
   "source": [
    "import re\n",
    "\n",
    "def ngram(s, n = 2):\n",
    "    words = []\n",
    "    for i in range(0, len(s) - n + 1):\n",
    "        words.append(s[i:i+n])\n",
    "    return words\n",
    "\n",
    "def removeKey(s, keywords):\n",
    "    for keyword in keywords:\n",
    "        s = s.replace(keyword , '')\n",
    "    return s\n",
    "\n",
    "\n",
    "\n",
    "sentence_ary = re.split('、|，|」|「|。|；|／|\\n|（|）', article)\n",
    "\n",
    "keywords = []\n",
    "for n in range(6,1,-1):\n",
    "    words = []\n",
    "    for sentence in sentence_ary:\n",
    "        sentence = removeKey(sentence, keywords)\n",
    "        ngram_words = ngram(sentence, n)\n",
    "        words.extend(ngram_words)\n",
    "    c = Counter(words)\n",
    "    for k, v in c.items():\n",
    "        if v >= 3:\n",
    "            keywords.append(k)\n",
    "keywords"
   ]
  },
  {
   "cell_type": "markdown",
   "metadata": {},
   "source": [
    "## 量化分析"
   ]
  },
  {
   "cell_type": "code",
   "execution_count": 59,
   "metadata": {
    "collapsed": true
   },
   "outputs": [],
   "source": [
    "article = '''中央研究院院士、我國駐WTO代表團常任代表朱敬一撰文質疑，此次稅改股利分離課稅是圖利富人。總統蔡英文接受中央社專訪時指出，「尊重他的看法」，財政部也會再向朱敬一說明，不過稅改要看整體，不能只看一部分。她強調，稅改要減輕一般所得者和中小企業的負擔，希望讓受薪者和一般所得者「生活安全感好一點」，但整體稅收損失不能太大。\n",
    "蔡總統指出，國民黨執政時，把公司營利事業所得稅降到17%、個人所得稅往上調，造成經濟發展需要的投資人和專業人員，在所得稅上負擔比較大，因此需要調整；另外，稅改也要減輕創新和中小型企業的負擔，同時顧慮到整體稅收的損失不能太大。\n",
    "蔡總統表示，在這幾個原則下，稅改把營所稅從17%調高到20%，符合國際趨勢，不會太高；為了要讓創新和中小型企業減輕負擔，保留盈餘加徵營所稅則由10%降至5%。她說，大型企業在股市或資本市場集資比較容易，中小企業比較難，因此，讓中小企業的保留盈餘可做未來投資很重要。\n",
    "蔡總統指出，經濟發展裡需要的高級專業人才薪資很高，但他們對經濟發展效能大，因此稍微降低他們的賦稅負擔，綜所稅從45%降到40%，希望留住人才，這也大致符合國際趨勢。蔡總統還說，稅改還讓一般所得者有比較大扣除額，如果受薪者和一般所得者的稅負擔減輕，增加可支配所得，生活安全感更好一點，比較願意消費。（政治中心／台北報導）'''"
   ]
  },
  {
   "cell_type": "code",
   "execution_count": 68,
   "metadata": {
    "collapsed": true
   },
   "outputs": [],
   "source": [
    "import jieba\n",
    "jieba.add_word('朱敬一')\n",
    "words = []\n",
    "for w in jieba.cut(article):\n",
    "    words.append(w)"
   ]
  },
  {
   "cell_type": "code",
   "execution_count": 70,
   "metadata": {
    "collapsed": false
   },
   "outputs": [
    {
     "name": "stdout",
     "output_type": "stream",
     "text": [
      "企業 6\n",
      "稅改 5\n",
      "負擔 5\n",
      "減輕 4\n",
      "一般 4\n",
      "所得者 4\n",
      "蔡總統 4\n",
      "所得 4\n",
      "指出 3\n",
      "整體 3\n",
      "不能 3\n",
      "中小 3\n",
      "經濟 3\n",
      "需要 3\n",
      "因此 3\n",
      "朱敬一 2\n"
     ]
    }
   ],
   "source": [
    "from collections import Counter\n",
    "c = Counter(words)\n",
    "for rec in c.most_common(30):\n",
    "    if len(rec[0]) >= 2:\n",
    "        print(rec[0], rec[1])"
   ]
  },
  {
   "cell_type": "code",
   "execution_count": 77,
   "metadata": {
    "collapsed": false
   },
   "outputs": [
    {
     "data": {
      "text/plain": [
       "0.0"
      ]
     },
     "execution_count": 77,
     "metadata": {},
     "output_type": "execute_result"
    }
   ],
   "source": [
    "import math\n",
    "a , abb, abc = ['a'],['a', 'b', 'b'], ['a','b', 'c']\n",
    "D = [a,abb,abc]\n",
    "#tfidf('a', a, D)\n",
    "tf  = 1/1\n",
    "idf = math.log(3/ 3)\n",
    "tf * idf "
   ]
  },
  {
   "cell_type": "code",
   "execution_count": 78,
   "metadata": {
    "collapsed": false
   },
   "outputs": [
    {
     "data": {
      "text/plain": [
       "0.0"
      ]
     },
     "execution_count": 78,
     "metadata": {},
     "output_type": "execute_result"
    }
   ],
   "source": [
    "# tfuidf('a', abb, D)\n",
    "tf = 1/3\n",
    "idf = math.log(3/3)\n",
    "tf * idf "
   ]
  },
  {
   "cell_type": "code",
   "execution_count": 81,
   "metadata": {
    "collapsed": false
   },
   "outputs": [
    {
     "name": "stdout",
     "output_type": "stream",
     "text": [
      "0.27031007207210955\n"
     ]
    }
   ],
   "source": [
    "# tfidf('b', abb, D)\n",
    "tf = 2/3\n",
    "idf = math.log(3/2)\n",
    "print(tf * idf)"
   ]
  },
  {
   "cell_type": "code",
   "execution_count": 82,
   "metadata": {
    "collapsed": false
   },
   "outputs": [
    {
     "name": "stdout",
     "output_type": "stream",
     "text": [
      "0.13515503603605478\n"
     ]
    }
   ],
   "source": [
    "# tfidf('b', abc D)\n",
    "tf = 1/3\n",
    "idf = math.log(3/2)\n",
    "print(tf * idf)"
   ]
  },
  {
   "cell_type": "code",
   "execution_count": 85,
   "metadata": {
    "collapsed": false
   },
   "outputs": [
    {
     "name": "stdout",
     "output_type": "stream",
     "text": [
      "0.3662040962227032\n"
     ]
    }
   ],
   "source": [
    "# tfidf ('c', abc, D)\n",
    "tf = 1/3\n",
    "idf = math.log(3/1)\n",
    "print(tf*idf)"
   ]
  },
  {
   "cell_type": "code",
   "execution_count": null,
   "metadata": {
    "collapsed": true
   },
   "outputs": [],
   "source": [
    "import scipy as sp\n",
    "def tfidf(t, d, D):\n",
    "    tf = float(d.count(t)) / sum(d.count(w) for w in set(d))\n",
    "    idf = sp.log(float(len(D)) / (len([doc for doc in D if t in doc])))\n",
    "    return tf * idf\n"
   ]
  },
  {
   "cell_type": "markdown",
   "metadata": {},
   "source": [
    "## 詞頻矩陣"
   ]
  },
  {
   "cell_type": "code",
   "execution_count": 86,
   "metadata": {
    "collapsed": true
   },
   "outputs": [],
   "source": [
    "import jieba\n",
    "ary = ['【更新】柯P：洪智坤洩漏公文案還沒看到公文　今處理',\n",
    "       '留洪智坤 柯：殘障求職不易',\n",
    "       '人事處議處洪智坤　柯P：不清楚議處結果']\n",
    "\n",
    "corpus = []\n",
    "for title in ary:\n",
    "    corpus.append(' '.join(jieba.cut(title)))\n"
   ]
  },
  {
   "cell_type": "code",
   "execution_count": 88,
   "metadata": {
    "collapsed": false
   },
   "outputs": [
    {
     "data": {
      "text/plain": [
       "['【 更新 】 柯P ： 洪智坤 洩漏 公文 案還 沒 看到 公文 \\u3000 今處理',\n",
       " '留 洪智坤   柯 ： 殘障 求職 不易',\n",
       " '人事處 議處 洪智坤 \\u3000 柯P ： 不 清楚 議處 結果']"
      ]
     },
     "execution_count": 88,
     "metadata": {},
     "output_type": "execute_result"
    }
   ],
   "source": [
    "corpus"
   ]
  },
  {
   "cell_type": "code",
   "execution_count": 91,
   "metadata": {
    "collapsed": false
   },
   "outputs": [
    {
     "name": "stdout",
     "output_type": "stream",
     "text": [
      "['不易', '人事處', '今處理', '公文', '更新', '柯p', '案還', '殘障', '求職', '洩漏', '洪智坤', '清楚', '看到', '結果', '議處']\n"
     ]
    },
    {
     "data": {
      "text/plain": [
       "array([[0, 0, 1, 2, 1, 1, 1, 0, 0, 1, 1, 0, 1, 0, 0],\n",
       "       [1, 0, 0, 0, 0, 0, 0, 1, 1, 0, 1, 0, 0, 0, 0],\n",
       "       [0, 1, 0, 0, 0, 1, 0, 0, 0, 0, 1, 1, 0, 1, 2]], dtype=int64)"
      ]
     },
     "execution_count": 91,
     "metadata": {},
     "output_type": "execute_result"
    }
   ],
   "source": [
    "from sklearn.feature_extraction.text import CountVectorizer\n",
    "vectorizer  = CountVectorizer()\n",
    "X = vectorizer.fit_transform(corpus)\n",
    "print(vectorizer.get_feature_names())\n",
    "X.toarray()"
   ]
  },
  {
   "cell_type": "code",
   "execution_count": 93,
   "metadata": {
    "collapsed": false
   },
   "outputs": [
    {
     "name": "stdout",
     "output_type": "stream",
     "text": [
      "['不易', '人事處', '今處理', '公文', '更新', '柯p', '案還', '殘障', '求職', '洩漏', '洪智坤', '清楚', '看到', '結果', '議處']\n"
     ]
    },
    {
     "data": {
      "text/plain": [
       "array([ 0.        ,  0.        ,  0.31738473,  0.63476946,  0.31738473,\n",
       "        0.24137927,  0.31738473,  0.        ,  0.        ,  0.31738473,\n",
       "        0.18745253,  0.        ,  0.31738473,  0.        ,  0.        ])"
      ]
     },
     "execution_count": 93,
     "metadata": {},
     "output_type": "execute_result"
    }
   ],
   "source": [
    "from sklearn.feature_extraction.text import TfidfVectorizer\n",
    "vectorizer  = TfidfVectorizer()\n",
    "X = vectorizer.fit_transform(corpus)\n",
    "print(vectorizer.get_feature_names())\n",
    "X.toarray()[0]"
   ]
  },
  {
   "cell_type": "code",
   "execution_count": 101,
   "metadata": {
    "collapsed": false
   },
   "outputs": [
    {
     "data": {
      "text/plain": [
       "2.23606797749979"
      ]
     },
     "execution_count": 101,
     "metadata": {},
     "output_type": "execute_result"
    }
   ],
   "source": [
    "import numpy as np\n",
    "import math\n",
    "from sklearn.metrics.pairwise import euclidean_distances\n",
    "v1 = [1,1,0,1,0]\n",
    "v2 = [0,0,1,0,1]\n",
    "a = np.array([v1, v2])\n",
    "euclidean_distances(a)\n",
    "a1 = np.array(v1)\n",
    "a2 = np.array(v2)\n",
    "\n",
    "math.sqrt(sum((a1 - a2) * (a1 - a2)))"
   ]
  },
  {
   "cell_type": "code",
   "execution_count": 102,
   "metadata": {
    "collapsed": false
   },
   "outputs": [
    {
     "data": {
      "text/plain": [
       "4.242640687119285"
      ]
     },
     "execution_count": 102,
     "metadata": {},
     "output_type": "execute_result"
    }
   ],
   "source": [
    "# 柯文哲 趙藤雄 ......\n",
    "v1 = [1,1,1,1,1,1,1,1,1,1,1,1,1,1,1,1,1,1,1,1]\n",
    "v2 = [1,1,0,0,0,0,0,0,0,0,0,0,0,0,0,0,0,0,0,0]\n",
    "a1 = np.array(v1)\n",
    "a2 = np.array(v2)\n",
    "math.sqrt(sum((a1 - a2) * (a1 - a2)))"
   ]
  },
  {
   "cell_type": "code",
   "execution_count": 104,
   "metadata": {
    "collapsed": false
   },
   "outputs": [
    {
     "data": {
      "text/plain": [
       "array([[ 1.,  0.],\n",
       "       [ 0.,  1.]])"
      ]
     },
     "execution_count": 104,
     "metadata": {},
     "output_type": "execute_result"
    }
   ],
   "source": [
    "from sklearn.metrics.pairwise import cosine_distances, cosine_similarity\n",
    "v1 = [1,1,0,1,0]\n",
    "v2 = [0,0,1,0,1]\n",
    "a = np.array([v1, v2])\n",
    "cosine_distances(a)\n",
    "cosine_similarity(a)"
   ]
  },
  {
   "cell_type": "code",
   "execution_count": 105,
   "metadata": {
    "collapsed": false
   },
   "outputs": [
    {
     "data": {
      "text/plain": [
       "array([[ 1.        ,  0.15075567,  0.20100756],\n",
       "       [ 0.15075567,  1.        ,  0.16666667],\n",
       "       [ 0.20100756,  0.16666667,  1.        ]])"
      ]
     },
     "execution_count": 105,
     "metadata": {},
     "output_type": "execute_result"
    }
   ],
   "source": [
    "from sklearn.feature_extraction.text import CountVectorizer\n",
    "from sklearn.metrics.pairwise import cosine_distances, cosine_similarity\n",
    "ary = ['【更新】柯P：洪智坤洩漏公文案還沒看到公文　今處理',\n",
    "       '留洪智坤 柯：殘障求職不易',\n",
    "       '人事處議處洪智坤　柯P：不清楚議處結果']\n",
    "vectorizer  = CountVectorizer()\n",
    "X = vectorizer.fit_transform(corpus)\n",
    "cosine_similarity(X.toarray())"
   ]
  },
  {
   "cell_type": "markdown",
   "metadata": {},
   "source": [
    "## 蘋果新聞搜集"
   ]
  },
  {
   "cell_type": "code",
   "execution_count": 106,
   "metadata": {
    "collapsed": true
   },
   "outputs": [],
   "source": [
    "import requests\n",
    "from bs4 import BeautifulSoup\n",
    "from datetime import datetime"
   ]
  },
  {
   "cell_type": "code",
   "execution_count": 108,
   "metadata": {
    "collapsed": true
   },
   "outputs": [],
   "source": [
    "domain = 'http://www.appledaily.com.tw'\n",
    "\n",
    "\n",
    "def getDetail(detail_url):\n",
    "    res = requests.get(detail_url)\n",
    "    soup = BeautifulSoup(res.text, 'html.parser')\n",
    "    title   = soup.select('#h1')[0].text\n",
    "    content = soup.select('#summary')[0].text\n",
    "    dt      = soup.select('.gggs time')[0].text\n",
    "    dt      = datetime.strptime(dt, '%Y年%m月%d日%H:%M')\n",
    "    clicked = soup.select('.clicked')[0].text if len(soup.select('.clicked')) > 0 else 0 \n",
    "    dic     = {'title': title, 'content': content, 'time':dt, 'clicked':clicked}\n",
    "    return dic"
   ]
  },
  {
   "cell_type": "code",
   "execution_count": 109,
   "metadata": {
    "collapsed": true
   },
   "outputs": [],
   "source": [
    "def getPage(list_url):\n",
    "    res = requests.get(list_url)\n",
    "    soup = BeautifulSoup(res.text, 'html.parser')\n",
    "\n",
    "    newsary = []\n",
    "    for rec in soup.select('.rtddt a'):\n",
    "        ret      = {}\n",
    "        #title    = rec.select('h1')[0].text\n",
    "        ret['category'] = rec.select('h2')[0].text\n",
    "        #dt       = rec.select('time')[0].text\n",
    "        link     = domain + rec['href']\n",
    "        ret['url'] = link\n",
    "        detail   = getDetail(link)\n",
    "        ret.update(detail)\n",
    "        newsary.append(ret)\n",
    "    return newsary"
   ]
  },
  {
   "cell_type": "code",
   "execution_count": 111,
   "metadata": {
    "collapsed": false
   },
   "outputs": [
    {
     "name": "stdout",
     "output_type": "stream",
     "text": [
      "1\n",
      "2\n",
      "3\n",
      "4\n",
      "5\n",
      "6\n",
      "7\n",
      "8\n",
      "9\n",
      "10\n",
      "11\n",
      "12\n",
      "13\n",
      "14\n",
      "15\n",
      "16\n",
      "17\n",
      "18\n",
      "19\n",
      "20\n",
      "21\n",
      "22\n",
      "23\n",
      "24\n",
      "25\n",
      "26\n",
      "27\n",
      "28\n",
      "29\n",
      "30\n",
      "31\n",
      "32\n",
      "33\n",
      "34\n"
     ]
    }
   ],
   "source": [
    "list_url = 'http://www.appledaily.com.tw/realtimenews/section/new/{}'\n",
    "applenews = []\n",
    "for page in range(1,35):\n",
    "    print(page)\n",
    "    ret = getPage(list_url.format(page))    \n",
    "    applenews.extend(ret)"
   ]
  },
  {
   "cell_type": "code",
   "execution_count": 112,
   "metadata": {
    "collapsed": true
   },
   "outputs": [],
   "source": [
    "import pandas\n",
    "appledf = pandas.DataFrame(applenews)\n",
    "appledf.to_excel('20171003_applenews.xlsx')"
   ]
  },
  {
   "cell_type": "markdown",
   "metadata": {},
   "source": [
    "## 讀取蘋果新聞"
   ]
  },
  {
   "cell_type": "code",
   "execution_count": 114,
   "metadata": {
    "collapsed": false
   },
   "outputs": [
    {
     "name": "stdout",
     "output_type": "stream",
     "text": [
      "<class 'pandas.core.frame.DataFrame'>\n",
      "Int64Index: 1020 entries, 0 to 1019\n",
      "Data columns (total 6 columns):\n",
      "category    1020 non-null object\n",
      "clicked     1020 non-null object\n",
      "content     1020 non-null object\n",
      "time        1020 non-null datetime64[ns]\n",
      "title       1020 non-null object\n",
      "url         1020 non-null object\n",
      "dtypes: datetime64[ns](1), object(5)\n",
      "memory usage: 55.8+ KB\n"
     ]
    }
   ],
   "source": [
    "import pandas\n",
    "df = pandas.read_excel('20171003_applenews.xlsx')\n",
    "df.info()"
   ]
  },
  {
   "cell_type": "code",
   "execution_count": 116,
   "metadata": {
    "collapsed": false
   },
   "outputs": [],
   "source": [
    "import jieba\n",
    "corpus = []\n",
    "titles = []\n",
    "\n",
    "for news in df.iterrows():\n",
    "    corpus.append(' '.join(jieba.cut(news[1].content)))\n",
    "    titles.append(news[1].title)"
   ]
  },
  {
   "cell_type": "code",
   "execution_count": 173,
   "metadata": {
    "collapsed": false
   },
   "outputs": [
    {
     "data": {
      "text/plain": [
       "array([[0, 0, 0, ..., 0, 0, 0],\n",
       "       [0, 0, 0, ..., 0, 0, 0],\n",
       "       [0, 0, 0, ..., 0, 0, 0],\n",
       "       ..., \n",
       "       [0, 0, 0, ..., 0, 0, 0],\n",
       "       [0, 0, 0, ..., 0, 0, 0],\n",
       "       [0, 0, 0, ..., 0, 0, 0]], dtype=int64)"
      ]
     },
     "execution_count": 173,
     "metadata": {},
     "output_type": "execute_result"
    }
   ],
   "source": [
    "X.toarray()"
   ]
  },
  {
   "cell_type": "code",
   "execution_count": 117,
   "metadata": {
    "collapsed": false
   },
   "outputs": [
    {
     "data": {
      "text/plain": [
       "(1020, 41918)"
      ]
     },
     "execution_count": 117,
     "metadata": {},
     "output_type": "execute_result"
    }
   ],
   "source": [
    "from sklearn.feature_extraction.text import CountVectorizer\n",
    "vectorizer  = CountVectorizer()\n",
    "X = vectorizer.fit_transform(corpus)\n",
    "\n",
    "X.shape"
   ]
  },
  {
   "cell_type": "code",
   "execution_count": 118,
   "metadata": {
    "collapsed": true
   },
   "outputs": [],
   "source": [
    "from sklearn.metrics.pairwise import cosine_distances, cosine_similarity\n",
    "cosine_similarities = cosine_similarity(X.toarray())"
   ]
  },
  {
   "cell_type": "code",
   "execution_count": 142,
   "metadata": {
    "collapsed": false
   },
   "outputs": [
    {
     "name": "stdout",
     "output_type": "stream",
     "text": [
      "查詢新聞: 快艇「歐洲球王」首出賽只得一分　隊友：他的傳球才是重點\n",
      "相關新聞 快艇「歐洲魔術師」特多希奇NBA熱身賽首秀8助攻 0.253203770771\n",
      "相關新聞 【有片】陳盈駿成為第3位在NBA熱身賽得分的台灣球員 0.230957923299\n",
      "相關新聞 就算爾文加盟　塞爾提克還是不打算任命隊長 0.194551965525\n",
      "相關新聞 有機會再奪投手三冠王　羅力：沒打季後賽很失望 0.189589733775\n",
      "相關新聞 【有片】諾佬再度降薪挺小牛　球迷感激奉上20美元請午餐 0.173718277662\n",
      "相關新聞 【有片】76人選秀狀元西蒙斯預約強勢復出 0.170232969835\n",
      "相關新聞 向中國喊話　蔡英文：19大後可思考新模式讓兩岸更活絡 0.137944106665\n",
      "相關新聞 法官首度打季後賽　拚了一整年就是為了冠軍戒 0.134966175691\n",
      "相關新聞 關鍵期獅隊2投手小拉傷　蔗總：不會讓他們硬上 0.129724403257\n"
     ]
    }
   ],
   "source": [
    "def getSimiliarNews(idx):\n",
    "    print('查詢新聞:', titles[idx])\n",
    "    for pos in cosine_similarities[idx].argsort()[::-1][1:10]:\n",
    "        print('相關新聞',titles[pos], cosine_similarities[idx][pos])\n",
    "getSimiliarNews(19)"
   ]
  },
  {
   "cell_type": "code",
   "execution_count": 144,
   "metadata": {
    "collapsed": false
   },
   "outputs": [
    {
     "name": "stdout",
     "output_type": "stream",
     "text": [
      "查詢新聞: 賭城駭人槍擊　可能是美首宗用自動槍的大規模槍擊案\n",
      "相關新聞 賭城駭人槍擊　可能是美首宗用自動槍的大規模槍擊案 1.0\n",
      "相關新聞 【不斷更新】男賭城濫射　激增至58死逾500傷 0.286112018477\n",
      "相關新聞 賭城孤狼槍手飲彈自盡　飯店房裡搜到10把槍 0.276381909548\n",
      "相關新聞 【不斷更新】賭城59死大屠殺　槍手擁42把槍如軍火庫 0.269132971142\n",
      "相關新聞 【驚悚現場】槍彈狂掃射　全場趴下不敢動 0.239266100085\n",
      "相關新聞 【有片】槍聲不斷　美槍擊案民眾驚叫逃竄 0.210321802986\n",
      "相關新聞 【快逃】「槍聲響不停」　賭城民眾驚險逃生影片曝光 0.203161880818\n"
     ]
    }
   ],
   "source": [
    "def getSimiliarNews2(idx, threshold):\n",
    "    print('查詢新聞:', titles[idx])\n",
    "    for pos in cosine_similarities[idx].argsort()[::-1]:\n",
    "        if cosine_similarities[idx][pos] > threshold:\n",
    "            print('相關新聞',titles[pos], cosine_similarities[idx][pos])\n",
    "getSimiliarNews2(30, 0.2)"
   ]
  },
  {
   "cell_type": "markdown",
   "metadata": {},
   "source": [
    "## 文章分群"
   ]
  },
  {
   "cell_type": "code",
   "execution_count": 174,
   "metadata": {
    "collapsed": true
   },
   "outputs": [],
   "source": [
    "from sklearn.feature_extraction.text import TfidfTransformer\n",
    "transformer = TfidfTransformer()\n",
    "tfidf = transformer.fit_transform(X)\n",
    "weight = tfidf.toarray() \n"
   ]
  },
  {
   "cell_type": "code",
   "execution_count": 179,
   "metadata": {
    "collapsed": false
   },
   "outputs": [],
   "source": [
    "from sklearn import cluster\n",
    "c = cluster.KMeans(n_clusters=20)\n",
    "k_data = c.fit_predict(weight)"
   ]
  },
  {
   "cell_type": "code",
   "execution_count": 180,
   "metadata": {
    "collapsed": false
   },
   "outputs": [
    {
     "data": {
      "text/plain": [
       "(1020, 41918)"
      ]
     },
     "execution_count": 180,
     "metadata": {},
     "output_type": "execute_result"
    }
   ],
   "source": [
    "X.shape"
   ]
  },
  {
   "cell_type": "code",
   "execution_count": 192,
   "metadata": {
    "collapsed": false
   },
   "outputs": [
    {
     "data": {
      "text/plain": [
       "array(['吉米基墨哽咽開場：美國被擁槍遊說團統治', '賭城駭人槍擊\\u3000可能是美首宗用自動槍的大規模槍擊案',\n",
       "       '【賭城大屠殺】古巨基親述亡命6小時\\u3000藏匿其他旅客房', '美國賭城大屠殺\\u3000外交部：已向美方表達慰問與關懷',\n",
       "       '【賭城大屠殺】生死交關5分鐘\\u3000靠「金手指」救命', '中國大老闆遇賭城大屠殺\\u3000「練跑步很有用」',\n",
       "       '「以為是鞭炮」外媒拍下槍擊現場令人鼻酸\\u3000', '\\u200b美國槍枝不管制 讓國民死在自己土地上 ',\n",
       "       '【不斷更新】賭城59死大屠殺\\u3000槍手擁42把槍如軍火庫', '臉書嘲諷槍擊案死者不值得同情\\u3000CBS高層遭炒',\n",
       "       'IS宣稱犯下賭城血案\\u3000專家指疑點重重', '曾是槍擊案受害者！連勝文聞賭城槍案這樣說',\n",
       "       '賭城大屠殺59死\\u3000王力宏籲禁槍「要多少無辜丟命」',\n",
       "       '花蝴蝶「貴妃姿勢」談賭城槍擊慘案\\u3000網友傻眼貓咪\\u3000', '賭城槍手反川普？\\u3000右翼網站操弄假新聞',\n",
       "       '美賭城槍擊案死傷慘重\\u3000蔡英文：譴責暴力', '【懺悔片】支持擁槍者親歷屠殺才後悔\\u3000「無法形容過去錯誤」',\n",
       "       '\\u200b孔令信專欄：賭城屠殺 川普被自己人打臉', '【賭城直擊】他出差遇到槍擊案\\u3000出事酒店一度封鎖',\n",
       "       '賭城槍擊案\\u3000我舊金山辦事處協尋失聯台人', '【有片】因應美國賭城槍擊案\\u3000航警局加強桃機維安',\n",
       "       '【有片】因應美國賭城槍擊案\\u3000航警局加強桃機維安', '【賭城大屠殺】加州民主黨領袖：槍管法需儘快修訂',\n",
       "       '【蘋果直擊】賭城生還者談救人：襲擊中互助令人動容', '黃金周四川團賭城驚魂\\u3000「美劇槍擊情景重現」',\n",
       "       '賭城槍擊案後\\u3000美國再掀槍枝管制論戰', '屠殺掃射速度驚人\\u3000槍手可能加了特殊裝置',\n",
       "       '賭城槍擊美史上最慘\\u3000護理師、軍警都遇害', '【集氣片】明星齊悼賭城槍擊案\\u3000民眾大排長龍踴躍捐血',\n",
       "       '【賭城大屠殺】兇嫌弟：我哥超有錢\\u3000賭一手就賺750萬', '白宮發言人談賭城哽咽\\u3000稱槍枝管制「言之過早」',\n",
       "       '【賭城大屠殺】夫捨身擋子彈\\u3000救妻一命', '退休會計師賭城屠殺59死\\u3000父親名列十大通緝犯',\n",
       "       '【譴責片】沉重譴責賭城槍擊\\u3000川普：全然邪惡之舉', '【賭城槍擊】如何幫受害者？捐血、捐物資資訊大整理',\n",
       "       '賭城槍擊\\u3000中國網友冷回：我們正享受假期', '警尋獲賭城槍手亞裔女伴\\u3000事發時不在美國',\n",
       "       '【不斷更新】男賭城濫射\\u3000激增至58死逾500傷', '【獨家】賭城大道民眾逃竄\\u3000台遊客驚呼：好像喪屍片',\n",
       "       '【獨家】賭城大道民眾逃竄\\u3000台遊客驚呼：好像喪屍片', '沉重譴責賭城槍擊\\u3000川普：全然邪惡之舉',\n",
       "       '【賭城槍擊】美博弈股全趴\\u3000這個類股卻飆漲', '【快逃】「槍聲響不停」\\u3000賭城民眾驚險逃生影片曝光',\n",
       "       '賭城孤狼槍手飲彈自盡\\u3000飯店房裡搜到10把槍', '港星古巨基賭城撞上槍擊案\\u3000報平安困守酒店',\n",
       "       '音樂會最後一場浴血\\u3000歌手未放下吉他忙逃生', '【獨家】名DJ瑪麗賭城槍擊現場驚魂！「便衣叫我們不要動」',\n",
       "       '\\u200b賭城槍擊逾50死\\u3000美國史上死傷最慘重', '【賭城槍擊】賭城酒店外一汽車疑似有炸彈',\n",
       "       '美國賭城槍響\\u3000觀光局：我國旅行團人員平安', '賭城槍擊亞裔女子或涉案\\u3000案發前有人高喊眾人去死',\n",
       "       '賭城槍擊已造成20死\\u3000外交部：尚無國人傷亡訊息', '【驚悚現場】槍彈狂掃射\\u3000全場趴下不敢動',\n",
       "       '音樂會開槍後沿賭城大道逃逸\\u3000槍手犯案地圖曝光', '賭城槍擊槍聲持續逾5分鐘\\u3000目擊者：要爬過屍體逃走',\n",
       "       '美賭城槍擊案\\u3000我外館：尚未接獲台人受傷通報', '賭城槍擊\\u3000槍手3次連環掃射\\u3000疑從高處開槍',\n",
       "       '賭城音樂會濺血\\u3000目擊者：身邊女生頭部中彈', '【有片】槍聲不斷\\u3000美槍擊案民眾驚叫逃竄',\n",
       "       '【慘不忍睹】殘忍緬軍丟手榴彈\\u3000女娃頭頂著火燒成地中海 ', '美國堪薩斯州槍擊案\\u3000已知3死2傷'], \n",
       "      dtype='<U35')"
      ]
     },
     "execution_count": 192,
     "metadata": {},
     "output_type": "execute_result"
    }
   ],
   "source": [
    "np_titles[k_data  == 1]"
   ]
  },
  {
   "cell_type": "markdown",
   "metadata": {},
   "source": [
    "## 新聞分類"
   ]
  },
  {
   "cell_type": "code",
   "execution_count": null,
   "metadata": {
    "collapsed": true
   },
   "outputs": [],
   "source": [
    "import pandas\n",
    "df = pandas.read_excel('20171003_applenews.xlsx')\n",
    "df.info()"
   ]
  },
  {
   "cell_type": "code",
   "execution_count": 224,
   "metadata": {
    "collapsed": true
   },
   "outputs": [],
   "source": [
    "import jieba\n",
    "corpus = []\n",
    "titles = []\n",
    "target = []\n",
    "for news in df.iterrows():\n",
    "    if news[1].category in ['娛樂', '社會', '財經']:\n",
    "        corpus.append(' '.join(jieba.cut(news[1].content)))\n",
    "        titles.append(news[1].title)\n",
    "        target.append(news[1].category)"
   ]
  },
  {
   "cell_type": "code",
   "execution_count": 225,
   "metadata": {
    "collapsed": true
   },
   "outputs": [],
   "source": [
    "from sklearn.feature_extraction.text import TfidfVectorizer\n",
    "transformer = TfidfVectorizer()\n",
    "tfidf = transformer.fit_transform(corpus)\n",
    "weight = tfidf.toarray() "
   ]
  },
  {
   "cell_type": "code",
   "execution_count": 253,
   "metadata": {
    "collapsed": true
   },
   "outputs": [],
   "source": [
    "?train_test_split"
   ]
  },
  {
   "cell_type": "code",
   "execution_count": 240,
   "metadata": {
    "collapsed": true
   },
   "outputs": [],
   "source": [
    "from sklearn.model_selection import train_test_split\n",
    "train_X, test_X, train_y, test_y = train_test_split(weight, target,train_size=0.9)"
   ]
  },
  {
   "cell_type": "code",
   "execution_count": 247,
   "metadata": {
    "collapsed": false
   },
   "outputs": [
    {
     "data": {
      "text/plain": [
       "88"
      ]
     },
     "execution_count": 247,
     "metadata": {},
     "output_type": "execute_result"
    }
   ],
   "source": [
    "train_X.shape\n",
    "len(train_y)\n",
    "test_X.shape\n",
    "len(test_y)"
   ]
  },
  {
   "cell_type": "code",
   "execution_count": 248,
   "metadata": {
    "collapsed": false
   },
   "outputs": [
    {
     "data": {
      "text/plain": [
       "MultinomialNB(alpha=0.01, class_prior=None, fit_prior=True)"
      ]
     },
     "execution_count": 248,
     "metadata": {},
     "output_type": "execute_result"
    }
   ],
   "source": [
    "from sklearn.naive_bayes import MultinomialNB\n",
    "\n",
    "clf = MultinomialNB(alpha=0.01)\n",
    "clf.fit(train_X,train_y)"
   ]
  },
  {
   "cell_type": "code",
   "execution_count": 243,
   "metadata": {
    "collapsed": false
   },
   "outputs": [],
   "source": [
    "predicted = clf.predict(test_X)"
   ]
  },
  {
   "cell_type": "code",
   "execution_count": 244,
   "metadata": {
    "collapsed": false
   },
   "outputs": [
    {
     "data": {
      "text/plain": [
       "0.97727272727272729"
      ]
     },
     "execution_count": 244,
     "metadata": {},
     "output_type": "execute_result"
    }
   ],
   "source": [
    "test_target = np.array(test_y)\n",
    "sum(predicted == test_target)/ len(test_target)"
   ]
  },
  {
   "cell_type": "code",
   "execution_count": 245,
   "metadata": {
    "collapsed": false
   },
   "outputs": [
    {
     "name": "stdout",
     "output_type": "stream",
     "text": [
      "['娛樂' '社會' '財經']\n"
     ]
    },
    {
     "data": {
      "text/plain": [
       "array([[31,  1,  1],\n",
       "       [ 0, 33,  0],\n",
       "       [ 0,  0, 22]])"
      ]
     },
     "execution_count": 245,
     "metadata": {},
     "output_type": "execute_result"
    }
   ],
   "source": [
    "from sklearn.metrics import confusion_matrix\n",
    "print(clf.classes_)\n",
    "confusion_matrix(predicted, test_target)"
   ]
  },
  {
   "cell_type": "code",
   "execution_count": 249,
   "metadata": {
    "collapsed": true
   },
   "outputs": [],
   "source": [
    "predicted2 = clf.predict(weight)"
   ]
  },
  {
   "cell_type": "code",
   "execution_count": 250,
   "metadata": {
    "collapsed": true
   },
   "outputs": [],
   "source": [
    "test_target2 = np.array(target)"
   ]
  },
  {
   "cell_type": "code",
   "execution_count": 252,
   "metadata": {
    "collapsed": false
   },
   "outputs": [
    {
     "name": "stdout",
     "output_type": "stream",
     "text": [
      "【K律師論點】從乃哥飆罵從從　看正義感的強弱 娛樂 社會\n",
      "JR東日本鐵道便當爭霸　特樂通邀訪日旅客​票選抽好禮 娛樂 財經\n"
     ]
    }
   ],
   "source": [
    "np_titles = np.array(titles)\n",
    "#for ele in np_titles[predicted != test_target]:\n",
    "#    print(ele)\n",
    "for idx, res in enumerate(predicted2 != test_target2):\n",
    "    if res == True:\n",
    "        print(np_titles[idx], predicted2[idx], test_target2[idx])"
   ]
  },
  {
   "cell_type": "markdown",
   "metadata": {},
   "source": [
    "## argsort"
   ]
  },
  {
   "cell_type": "code",
   "execution_count": 123,
   "metadata": {
    "collapsed": false
   },
   "outputs": [
    {
     "data": {
      "text/plain": [
       "array([0, 2, 4, 1, 3], dtype=int64)"
      ]
     },
     "execution_count": 123,
     "metadata": {},
     "output_type": "execute_result"
    }
   ],
   "source": [
    "import numpy as np\n",
    "a = np.array([180,167,173,154,172])\n",
    "a.argsort()\n",
    "a.argsort()[::-1]\n"
   ]
  }
 ],
 "metadata": {
  "kernelspec": {
   "display_name": "Python 3",
   "language": "python",
   "name": "python3"
  },
  "language_info": {
   "codemirror_mode": {
    "name": "ipython",
    "version": 3
   },
   "file_extension": ".py",
   "mimetype": "text/x-python",
   "name": "python",
   "nbconvert_exporter": "python",
   "pygments_lexer": "ipython3",
   "version": "3.6.0"
  }
 },
 "nbformat": 4,
 "nbformat_minor": 2
}
