{
 "cells": [
  {
   "cell_type": "markdown",
   "metadata": {},
   "source": [
    "# 文字探勘實作"
   ]
  },
  {
   "cell_type": "markdown",
   "metadata": {},
   "source": [
    "## 產生 2-gram"
   ]
  },
  {
   "cell_type": "code",
   "execution_count": 142,
   "metadata": {
    "collapsed": false
   },
   "outputs": [
    {
     "name": "stdout",
     "output_type": "stream",
     "text": [
      "那我\n",
      "我們\n",
      "們酸\n",
      "酸民\n",
      "民婉\n",
      "婉君\n",
      "君也\n",
      "也可\n",
      "可以\n",
      "以報\n",
      "報名\n",
      "名嗎\n"
     ]
    }
   ],
   "source": [
    "input_sentence='那我們酸民婉君也可以報名嗎'\n",
    "\n",
    "sentence  = input_sentence.decode('utf-8')\n",
    "\n",
    "for i in range(0, len(sentence) - 2 + 1):\n",
    "    print sentence[i:i+2]"
   ]
  },
  {
   "cell_type": "markdown",
   "metadata": {},
   "source": [
    "## 產生 3-gram"
   ]
  },
  {
   "cell_type": "code",
   "execution_count": 143,
   "metadata": {
    "collapsed": false
   },
   "outputs": [
    {
     "name": "stdout",
     "output_type": "stream",
     "text": [
      "那我們\n",
      "我們酸\n",
      "們酸民\n",
      "酸民婉\n",
      "民婉君\n",
      "婉君也\n",
      "君也可\n",
      "也可以\n",
      "可以報\n",
      "以報名\n",
      "報名嗎\n"
     ]
    }
   ],
   "source": [
    "for i in range(0, len(sentence) -3 + 1):\n",
    "    print sentence[i:i+3]"
   ]
  },
  {
   "cell_type": "markdown",
   "metadata": {},
   "source": [
    "## 建立 n-gram 函式"
   ]
  },
  {
   "cell_type": "code",
   "execution_count": 144,
   "metadata": {
    "collapsed": false
   },
   "outputs": [],
   "source": [
    "def ngram(input_sentence, n = 2):\n",
    "    word_dic = {}\n",
    "    sentence  = input_sentence.decode('utf-8')\n",
    "    for i in range(0, len(sentence) - n + 1):\n",
    "        if sentence[i:i+n] not in word_dic:\n",
    "            word_dic[sentence[i:i+n]] = 1\n",
    "        else:\n",
    "            word_dic[sentence[i:i+n]] = word_dic[sentence[i:i+n]] + 1\n",
    "    return word_dic"
   ]
  },
  {
   "cell_type": "markdown",
   "metadata": {},
   "source": [
    "## 測試 bigram"
   ]
  },
  {
   "cell_type": "code",
   "execution_count": 145,
   "metadata": {
    "collapsed": false
   },
   "outputs": [
    {
     "name": "stdout",
     "output_type": "stream",
     "text": [
      "婉君 報名 可以 名嗎 君也 也可 民婉 酸民 以報\n"
     ]
    }
   ],
   "source": [
    "for word in ngram('酸民婉君也可以報名嗎'):\n",
    "    print word,"
   ]
  },
  {
   "cell_type": "markdown",
   "metadata": {},
   "source": [
    "## 測試 trigram"
   ]
  },
  {
   "cell_type": "code",
   "execution_count": 146,
   "metadata": {
    "collapsed": false
   },
   "outputs": [
    {
     "name": "stdout",
     "output_type": "stream",
     "text": [
      "酸民婉\n",
      "君也可\n",
      "名嗎?\n",
      "可以報\n",
      "也可以\n",
      "們酸民\n",
      "以報名\n",
      "民婉君\n",
      "報名嗎\n",
      "那我們\n",
      "婉君也\n",
      "我們酸\n"
     ]
    }
   ],
   "source": [
    "for word in ngram('那我們酸民婉君也可以報名嗎?' ,n=3):\n",
    "    print word"
   ]
  },
  {
   "cell_type": "markdown",
   "metadata": {},
   "source": [
    "## 移除標點符號"
   ]
  },
  {
   "cell_type": "code",
   "execution_count": 147,
   "metadata": {
    "collapsed": false
   },
   "outputs": [
    {
     "data": {
      "text/plain": [
       "True"
      ]
     },
     "execution_count": 147,
     "metadata": {},
     "output_type": "execute_result"
    }
   ],
   "source": [
    "sentence = '123?'\n",
    "skip_word = '.?'\n",
    "len([word for word in sentence if word in skip_word]) > 0"
   ]
  },
  {
   "cell_type": "code",
   "execution_count": 148,
   "metadata": {
    "collapsed": false
   },
   "outputs": [],
   "source": [
    "skip_dic = '?.,、　「！】？：《」》～【'.decode('utf-8')\n",
    "def ngram(input_sentence, n = 2, skip_word= skip_dic):\n",
    "    word_dic = {}\n",
    "    sentence  = input_sentence.decode('utf-8')\n",
    "    for i in range(0, len(sentence) - n + 1):\n",
    "        invalid = len([word for word in sentence[i:i+n] if word in skip_word])\n",
    "        if sentence[i:i+n] not in word_dic and invalid ==0:\n",
    "            word_dic[sentence[i:i+n]] = 1\n",
    "        elif invalid ==0:\n",
    "            word_dic[sentence[i:i+n]] = word_dic[sentence[i:i+n]] + 1\n",
    "    return word_dic"
   ]
  },
  {
   "cell_type": "code",
   "execution_count": 149,
   "metadata": {
    "collapsed": false
   },
   "outputs": [
    {
     "name": "stdout",
     "output_type": "stream",
     "text": [
      "我們\n",
      "婉君\n",
      "報名\n",
      "們酸\n",
      "可以\n",
      "名嗎\n",
      "君也\n",
      "也可\n",
      "那我\n",
      "酸民\n",
      "以報\n"
     ]
    }
   ],
   "source": [
    "for word in ngram('那我們酸民、婉君也可以報名嗎?'):\n",
    "    print word"
   ]
  },
  {
   "cell_type": "code",
   "execution_count": 151,
   "metadata": {
    "collapsed": false
   },
   "outputs": [],
   "source": [
    "import sqlite3\n",
    "db = sqlite3.connect('news.db') \n",
    "cur = db.cursor()\n",
    "cur.execute('select * from news_entry')\n",
    "allNews = cur.fetchall()\n",
    "dic = {}\n",
    "for rec in allNews:\n",
    "    ngram_dic = ngram(rec[4].encode('utf-8'))\n",
    "    for ele in ngram_dic:\n",
    "        if ele not in dic:\n",
    "            dic[ele] = ngram_dic[ele]\n",
    "        else:\n",
    "            dic[ele] = dic[ele] + ngram_dic[ele]\n",
    "cur.close()\n",
    "db.close()"
   ]
  },
  {
   "cell_type": "code",
   "execution_count": 152,
   "metadata": {
    "collapsed": false
   },
   "outputs": [
    {
     "name": "stdout",
     "output_type": "stream",
     "text": [
      "搶先 3\n",
      "五月 3\n",
      "八日 3\n",
      "二十 3\n",
      "十八 3\n",
      "月二 3\n",
      "天找 2\n",
      "頭條 2\n",
      "警消 2\n",
      "山難 2\n",
      "先報 2\n",
      "報頭 2\n",
      "劈腿 2\n",
      "條搶 2\n",
      "各報 2\n"
     ]
    }
   ],
   "source": [
    "import operator\n",
    "words_freq = sorted(dic.iteritems(),key=operator.itemgetter(1),reverse=True)\n",
    "    \n",
    "for word in words_freq:\n",
    "    if word[1] >= 2:\n",
    "        print word[0], word[1]"
   ]
  },
  {
   "cell_type": "markdown",
   "metadata": {},
   "source": [
    "## 長詞優先演算法"
   ]
  },
  {
   "cell_type": "markdown",
   "metadata": {},
   "source": [
    "## 如何依標點符號切開字詞"
   ]
  },
  {
   "cell_type": "code",
   "execution_count": 153,
   "metadata": {
    "collapsed": false
   },
   "outputs": [
    {
     "name": "stdout",
     "output_type": "stream",
     "text": [
      "3年前就讀高雄應用大學二年級的陳顯佳\n",
      "為閃避跨越雙黃線來車\n",
      "撞上路邊\n",
      "摔斷頸椎\n",
      "頸部以下全癱\n",
      "嘴被插管\n",
      "父母每天去看他\n",
      "他都意識清醒\n",
      "眨眼流淚\n",
      "17天後他因頸椎受損抑制呼吸\n",
      "醫師用盡強力針與電擊都無效\n",
      "\n"
     ]
    }
   ],
   "source": [
    "import re\n",
    "delimiter = \"，|。|、\"  \n",
    "text = '3年前就讀高雄應用大學二年級的陳顯佳，為閃避跨越雙黃線來車，撞上路邊、摔斷頸椎，頸部以下全癱，嘴被插管，父母每天去看他，他都意識清醒、眨眼流淚，17天後他因頸椎受損抑制呼吸，醫師用盡強力針與電擊都無效，'\n",
    "for i in re.split(delimiter, text):\n",
    "    print i"
   ]
  },
  {
   "cell_type": "markdown",
   "metadata": {},
   "source": [
    "## 測試切除效果"
   ]
  },
  {
   "cell_type": "code",
   "execution_count": 154,
   "metadata": {
    "collapsed": false
   },
   "outputs": [],
   "source": [
    "def splitSentense(text, delimiter):\n",
    "    return re.split(delimiter, text)\n",
    "    \n",
    "delimiter = \"，|。|、|（|）|／|《|》|】|【|「|」|；|：\".decode('utf-8')  \n",
    "db = sqlite3.connect('news.db') \n",
    "cur = db.cursor()\n",
    "cur.execute('select * from news_entry')\n",
    "allNews = cur.fetchall()\n",
    "sentenceAry = []\n",
    "for rec in allNews:\n",
    "    text = rec[5]\n",
    "    sentenceAry += splitSentense(text,delimiter)\n",
    "cur.close()\n",
    "db.close()"
   ]
  },
  {
   "cell_type": "code",
   "execution_count": 155,
   "metadata": {
    "collapsed": false
   },
   "outputs": [
    {
     "name": "stdout",
     "output_type": "stream",
     "text": [
      "台南市區昨出現大型\n",
      "尋人啟事\n",
      "廣告牆\n",
      "看板用紅色大字寫\n",
      "市長賴清德與台南市民意已失聯\n",
      "\n",
      "\n",
      "第142天\n"
     ]
    }
   ],
   "source": [
    "for sentence in sentenceAry[0:8]:\n",
    "    print sentence"
   ]
  },
  {
   "cell_type": "markdown",
   "metadata": {},
   "source": [
    "## 移除關鍵字"
   ]
  },
  {
   "cell_type": "code",
   "execution_count": 156,
   "metadata": {
    "collapsed": false
   },
   "outputs": [
    {
     "name": "stdout",
     "output_type": "stream",
     "text": [
      "台南市區昨出現大型\n",
      "台南市區昨出現大型\n"
     ]
    }
   ],
   "source": [
    "def removeKey(text, keyword):\n",
    "    textAry= text\n",
    "    for key in keyword:\n",
    "        textAry = ''.join(textAry.split(key.decode('utf-8')))\n",
    "    return textAry\n",
    "print sentenceAry[0]\n",
    "print removeKey(sentenceAry[0], ['民進黨', '後天'])"
   ]
  },
  {
   "cell_type": "code",
   "execution_count": 157,
   "metadata": {
    "collapsed": false
   },
   "outputs": [
    {
     "data": {
      "text/plain": [
       "u'\\u5c07\\u516c\\u5e03'"
      ]
     },
     "execution_count": 157,
     "metadata": {},
     "output_type": "execute_result"
    }
   ],
   "source": [
    "a = '民進黨後天將公布'.decode('utf-8')\n",
    "removeKey(a, ['民進黨', '後天'])"
   ]
  },
  {
   "cell_type": "markdown",
   "metadata": {},
   "source": [
    "## 修改ngram 處理函式"
   ]
  },
  {
   "cell_type": "code",
   "execution_count": 158,
   "metadata": {
    "collapsed": true
   },
   "outputs": [],
   "source": [
    "def ngram(input_sentence, n = 2):\n",
    "    word_dic = {}\n",
    "    sentence  = input_sentence\n",
    "    for i in range(0, len(sentence) - n + 1):        \n",
    "        if sentence[i:i+n] not in word_dic:\n",
    "            word_dic[sentence[i:i+n]] = 1\n",
    "        else:\n",
    "            word_dic[sentence[i:i+n]] = word_dic[sentence[i:i+n]] + 1\n",
    "    return word_dic"
   ]
  },
  {
   "cell_type": "markdown",
   "metadata": {},
   "source": [
    "## 依長詞優先產生關鍵字"
   ]
  },
  {
   "cell_type": "code",
   "execution_count": 159,
   "metadata": {
    "collapsed": false,
    "scrolled": false
   },
   "outputs": [
    {
     "name": "stdout",
     "output_type": "stream",
     "text": [
      "報導 18\n",
      "表示 17\n",
      "景氣 15\n",
      "美國 14\n",
      "台灣 14\n",
      "一個 13\n",
      "萬元 13\n",
      "警方 13\n",
      "綜合 13\n",
      "藍燈 13\n",
      "國賠 12\n",
      "綜合報導 12\n",
      "時間 12\n",
      "26 11\n",
      "難民 11\n",
      "外電報導 10\n",
      "搜救 10\n",
      "山難搜救 10\n",
      "夜店 10\n",
      "今年 10\n",
      "合外電報 10\n",
      "襲擊 10\n",
      "手機 10\n",
      "男子 10\n",
      "生產 10\n",
      "綜合外電 10\n",
      "今日出版 9\n",
      "逮捕 9\n",
      "日出版的 9\n",
      "以色列 9\n"
     ]
    }
   ],
   "source": [
    "keywords=[]        \n",
    "ret_terms={}\n",
    "words_freq    = []\n",
    "for term_length in range(4,1,-1):\n",
    "    word_dic = {}\n",
    "    for sentence in sentenceAry:\n",
    "        text_list = removeKey(sentence,keywords)        \n",
    "        ngram_words = ngram(text_list,term_length) \n",
    "        for word in ngram_words:\n",
    "            if word not in word_dic:\n",
    "                word_dic[word] = 1\n",
    "            else:\n",
    "                word_dic[word] += ngram_words[word]   \n",
    "    for word in word_dic:\n",
    "        if word_dic[word] >= 5:\n",
    "            keywords.append(word.encode('utf-8'))            \n",
    "            ret_terms.update({word:word_dic[word]})\n",
    "\n",
    "sorted_terms = sorted(ret_terms.iteritems(),key=operator.itemgetter(1),reverse=True) \n",
    "for term in sorted_terms[0:30]:\n",
    "    print term[0], term[1]"
   ]
  },
  {
   "cell_type": "markdown",
   "metadata": {},
   "source": [
    "## 使用jieba"
   ]
  },
  {
   "cell_type": "code",
   "execution_count": 385,
   "metadata": {
    "collapsed": false
   },
   "outputs": [
    {
     "name": "stdout",
     "output_type": "stream",
     "text": [
      "大巨蛋\n",
      "案對\n",
      "市府\n",
      "同仁\n",
      "下\n",
      "封口令\n",
      "？\n",
      "　\n",
      "柯P\n",
      "否認\n"
     ]
    }
   ],
   "source": [
    "import jieba\n",
    "\n",
    "sentence = \"大巨蛋案對市府同仁下封口令？　柯P否認\"\n",
    "words = jieba.cut(sentence, cut_all=False)\n",
    "for word in words:\n",
    "    print word"
   ]
  },
  {
   "cell_type": "markdown",
   "metadata": {},
   "source": [
    "## 使用jieba 分詞"
   ]
  },
  {
   "cell_type": "code",
   "execution_count": 386,
   "metadata": {
    "collapsed": false
   },
   "outputs": [
    {
     "name": "stdout",
     "output_type": "stream",
     "text": [
      "Full Mode: 大巨蛋/ 巨蛋/ 案/ 對/ 市府/ 同仁/ 下/ 封口/ 封口令/ 口令/ / / / 柯/ P/ 否/ 認\n",
      "Default Mode: 大巨蛋/ 案對/ 市府/ 同仁/ 下/ 封口令/ ？/ 　/ 柯P/ 否認\n"
     ]
    }
   ],
   "source": [
    "#encoding=utf-8\n",
    "import jieba\n",
    "\n",
    "seg_list = jieba.cut(\"大巨蛋案對市府同仁下封口令？　柯P否認\", cut_all=True)\n",
    "print \"Full Mode:\", \"/ \".join(seg_list) \n",
    "\n",
    "seg_list = jieba.cut(\"大巨蛋案對市府同仁下封口令？　柯P否認\", cut_all=False)\n",
    "print \"Default Mode:\", \"/ \".join(seg_list) "
   ]
  },
  {
   "cell_type": "markdown",
   "metadata": {},
   "source": [
    "## 使用自訂辭典"
   ]
  },
  {
   "cell_type": "code",
   "execution_count": null,
   "metadata": {
    "collapsed": true
   },
   "outputs": [],
   "source": [
    "import jieba\n",
    "\n",
    "jieba.load_userdict(\"userdict.txt\")"
   ]
  },
  {
   "cell_type": "markdown",
   "metadata": {},
   "source": [
    "## 新增或刪除字詞"
   ]
  },
  {
   "cell_type": "code",
   "execution_count": 162,
   "metadata": {
    "collapsed": true
   },
   "outputs": [],
   "source": [
    "import jieba\n",
    "jieba.add_word('柯P',100, 'nr')\n",
    "jieba.del_word('柯P')"
   ]
  },
  {
   "cell_type": "markdown",
   "metadata": {},
   "source": [
    "## 表列詞性"
   ]
  },
  {
   "cell_type": "code",
   "execution_count": 387,
   "metadata": {
    "collapsed": false
   },
   "outputs": [
    {
     "name": "stdout",
     "output_type": "stream",
     "text": [
      "大巨蛋 ns\n",
      "案 ng\n",
      "對 p\n",
      "市府 n\n",
      "同仁 nr\n",
      "下 f\n",
      "封口令 n\n",
      "？ x\n",
      "　x\n",
      "柯P nr\n",
      "否認 v\n"
     ]
    }
   ],
   "source": [
    "import jieba.posseg as pseg\n",
    "words = pseg.cut(\"大巨蛋案對市府同仁下封口令？　柯P否認\")\n",
    "for w in words:\n",
    "    print w.word, w.flag"
   ]
  },
  {
   "cell_type": "markdown",
   "metadata": {},
   "source": [
    "## 列出關鍵字所在"
   ]
  },
  {
   "cell_type": "code",
   "execution_count": 166,
   "metadata": {
    "collapsed": false
   },
   "outputs": [
    {
     "name": "stdout",
     "output_type": "stream",
     "text": [
      "大巨蛋 0 3\n",
      "案對 3 5\n",
      "市府 5 7\n",
      "同仁 7 9\n",
      "下 9 10\n",
      "封口令 10 13\n",
      "？ 13 14\n",
      "　14 15\n",
      "柯P 15 17\n",
      "否認 17 19\n"
     ]
    }
   ],
   "source": [
    "words = jieba.tokenize(unicode(sentence, 'utf-8'))\n",
    "\n",
    "for tw in words:\n",
    "    print tw[0], tw[1], tw[2]"
   ]
  },
  {
   "cell_type": "markdown",
   "metadata": {},
   "source": [
    "## 依詞性切出關鍵詞"
   ]
  },
  {
   "cell_type": "code",
   "execution_count": 167,
   "metadata": {
    "collapsed": false
   },
   "outputs": [
    {
     "name": "stdout",
     "output_type": "stream",
     "text": [
      "柯P\n"
     ]
    }
   ],
   "source": [
    "import jieba.analyse\n",
    "tags = jieba.analyse.extract_tags(sentence, 1, allowPOS = ['nr'])\n",
    "print \",\".join(tags)\n"
   ]
  },
  {
   "cell_type": "markdown",
   "metadata": {},
   "source": [
    "## 列出斷詞位置"
   ]
  },
  {
   "cell_type": "code",
   "execution_count": 173,
   "metadata": {
    "collapsed": false
   },
   "outputs": [
    {
     "name": "stdout",
     "output_type": "stream",
     "text": [
      "大巨蛋 0 3\n",
      "案對 3 5\n",
      "市府 5 7\n",
      "同仁 7 9\n",
      "下 9 10\n",
      "封口令 10 13\n",
      "？ 13 14\n",
      "　14 15\n",
      "柯P 15 17\n",
      "否認 17 19\n"
     ]
    }
   ],
   "source": [
    "words = jieba.tokenize(unicode(sentence, 'utf-8'))\n",
    "\n",
    "for tw in words:\n",
    "    print tw[0], tw[1], tw[2]"
   ]
  },
  {
   "cell_type": "markdown",
   "metadata": {},
   "source": [
    "## 表列關鍵詞"
   ]
  },
  {
   "cell_type": "code",
   "execution_count": 91,
   "metadata": {
    "collapsed": false
   },
   "outputs": [
    {
     "name": "stdout",
     "output_type": "stream",
     "text": [
      "歐洲/電商/組織/包裹/物流/一來/領域/遞送/緊密/Europe/市場/順暢/根據/決電商/服務/集團/總共結合/障礙/積極/目標\n"
     ]
    }
   ],
   "source": [
    "import jieba.analyse\n",
    "sentence = \"根據歐洲電商組織(Ecommerce Europe) 最新消息得知，\\\n",
    "該集團積極讓歐洲的包裹遞送服務與電商領域有更緊密結合。如此一來，\\\n",
    "便可解決電商物流的障礙。此組織總共結合歐洲 16 國的電商協會，\\\n",
    "目標整合歐洲的包裹物流市場，讓商品跨境更為順暢\"\n",
    "tags = jieba.analyse.extract_tags(sentence)\n",
    "print '/'.join(tags)\n",
    "\n",
    "jieba.analyse.set_stop_words(\"stopword.txt\")"
   ]
  },
  {
   "cell_type": "markdown",
   "metadata": {},
   "source": [
    "## 生成文字雲"
   ]
  },
  {
   "cell_type": "code",
   "execution_count": 93,
   "metadata": {
    "collapsed": false
   },
   "outputs": [],
   "source": [
    "import requests\n",
    "from bs4 import BeautifulSoup\n",
    "import re\n",
    "import jieba\n",
    "section = requests.get('http://www.appledaily.com.tw/realtimenews/section/new/1')\n",
    "soup = BeautifulSoup(section.text)\n",
    "domain = 'http://www.appledaily.com.tw'\n",
    "worddic = {}\n",
    "for news in soup.select('.rtddt'):    \n",
    "    main = news.select('h1')[0].text\n",
    "    m = re.match('(.*)\\((\\d+)\\)',main)\n",
    "    if m:\n",
    "        title = m.group(1)\n",
    "        popularity = int(m.group(2))\n",
    "    for wd in jieba.cut(title):\n",
    "        if wd not in worddic:\n",
    "            worddic[wd] = 1\n",
    "        else:\n",
    "            worddic[wd] = worddic[wd] + 1\n"
   ]
  },
  {
   "cell_type": "code",
   "execution_count": 96,
   "metadata": {
    "collapsed": false
   },
   "outputs": [
    {
     "data": {
      "image/png": "[encoded data removed]",
      "text/plain": [
       "<IPython.core.display.Image object>"
      ]
     },
     "execution_count": 96,
     "metadata": {},
     "output_type": "execute_result"
    }
   ],
   "source": [
    "from pytagcloud import create_tag_image, make_tags\n",
    "from IPython.display import Image\n",
    "from operator import itemgetter\n",
    "swd = sorted(worddic.iteritems(), key=itemgetter(1), reverse=True)\n",
    "swd = [w for w in swd[1:50] if w[0] not in '【】...'.decode('utf-8')]\n",
    "\n",
    "tags = make_tags(swd, maxsize=120)\n",
    "create_tag_image(tags, 'wc.png', size=(600,400), fontname='SimHei')\n",
    "Image(filename='wc.png') \n"
   ]
  },
  {
   "cell_type": "code",
   "execution_count": 98,
   "metadata": {
    "collapsed": true
   },
   "outputs": [],
   "source": [
    "import requests\n",
    "from bs4 import BeautifulSoup\n",
    "import re\n",
    "import jieba\n",
    "section = requests.get('http://www.appledaily.com.tw/realtimenews/section/new/1')\n",
    "soup = BeautifulSoup(section.text)\n",
    "domain = 'http://www.appledaily.com.tw'\n",
    "worddic = {}\n",
    "for news in soup.select('.rtddt'):    \n",
    "    main = news.select('h1')[0].text\n",
    "    m = re.match('(.*)\\((\\d+)\\)',main)\n",
    "    if m:\n",
    "        title = m.group(1)\n",
    "        popularity = int(m.group(2))\n",
    "    for wd in jieba.analyse.extract_tags(title):\n",
    "        if wd not in worddic:\n",
    "            worddic[wd] = 1\n",
    "        else:\n",
    "            worddic[wd] = worddic[wd] + 1\n"
   ]
  },
  {
   "cell_type": "markdown",
   "metadata": {},
   "source": [
    "## 使用pytagcloud"
   ]
  },
  {
   "cell_type": "code",
   "execution_count": 100,
   "metadata": {
    "collapsed": false
   },
   "outputs": [
    {
     "data": {
      "image/png": "[encoded data removed]",
      "text/plain": [
       "<IPython.core.display.Image object>"
      ]
     },
     "execution_count": 100,
     "metadata": {},
     "output_type": "execute_result"
    }
   ],
   "source": [
    "from pytagcloud import create_tag_image, make_tags\n",
    "from IPython.display import Image\n",
    "from operator import itemgetter\n",
    "swd = sorted(worddic.iteritems(), key=itemgetter(1), reverse=True)\n",
    "swd = [w for w in swd[1:50]]\n",
    "\n",
    "tags = make_tags(swd, maxsize=120)\n",
    "create_tag_image(tags, 'wc.png', size=(600,400), fontname='SimHei')\n",
    "Image(filename='wc.png') \n"
   ]
  },
  {
   "cell_type": "code",
   "execution_count": 101,
   "metadata": {
    "collapsed": false
   },
   "outputs": [
    {
     "name": "stdout",
     "output_type": "stream",
     "text": [
      "[(u'\\u516c\\u5eab', 7), (u'\\u66f4\\u65b0', 5), (u'\\u4e16\\u8db3', 2), (u'\\u8cc7\\u683c\\u8cfd', 2), (u'\\u61b2\\u6539', 2), (u'\\u4eba\\u6c11', 2), (u'\\u838e\\u6728', 1), (u'\\u756b\\u6280', 1), (u'\\u4e3b\\u4efb', 1), (u'\\u51b7\\u4e0d\\u9632', 1), (u'\\u5b89\\u6253', 1), (u'\\u52fe\\u5973', 1), (u'\\u653f\\u9ee8', 1), (u'\\u570b\\u6c11\\u9ee8\\u5834', 1), (u'\\u5c48\\u4e2d\\u6046', 1), (u'24', 1), (u'\\u544a\\u767d', 1), (u'\\u771f\\u60c5', 1), (u'\\u6700\\u5927', 1), (u'23', 1), (u'\\u9451\\u5b9a', 1), (u'\\u827e\\u6bd4', 1), (u'\\u8102\\u80aa', 1), (u'\\u6c34\\u9f8d\\u982d', 1), (u'\\u9b27\\u5287', 1), (u'\\u6843\\u733f', 1), (u'\\u6700\\u5f37', 1), (u'\\u7d10\\u7d04', 1), (u'\\u6316\\u51fa', 1), (u'\\u8354\\u679d', 1), (u'\\u8f38\\u5f97', 1), (u'\\u6731\\u9394\\u57fa\\u611b\\u5c07', 1), (u'\\u963f\\u59b9', 1), (u'\\u7aef\\u5348', 1), (u'\\u7206\\u68da', 1), (u'\\u5b78\\u6821', 1), (u'12', 1), (u'\\u52d5\\u756b', 1), (u'\\u6253\\u5361', 1), (u'\\u5c0f\\u6f32', 1), (u'Sam', 1), (u'\\u6545\\u969c', 1), (u'\\u5343\\u842c', 1), (u'\\u932f\\u8aa4', 1), (u'\\u99d5\\u99db\\u56de', 1), (u'\\u6d77\\u57df', 1), (u'\\u5973\\u7ae5', 1), (u'FDA', 1), (u'\\u5b9a\\u6027', 1)]\n"
     ]
    }
   ],
   "source": [
    "from pytagcloud import create_tag_image, make_tags\n",
    "from IPython.display import Image\n",
    "from operator import itemgetter\n",
    "swd = sorted(worddic.iteritems(), key=itemgetter(1), reverse=True)\n",
    "swd = [w for w in swd[1:50]]"
   ]
  },
  {
   "cell_type": "markdown",
   "metadata": {},
   "source": [
    "## 使用 tagcanvas"
   ]
  },
  {
   "cell_type": "code",
   "execution_count": 117,
   "metadata": {
    "collapsed": false
   },
   "outputs": [
    {
     "data": {
      "text/html": [
       "\n",
       "  <head>\n",
       "    <title>Word Cloud</title>\n",
       "    <script src=\"tagcanvas.min.js\" type=\"text/javascript\"></script>\n",
       "  </head>\n",
       "  <body>\n",
       "    <h1>Word Cloud</h1>\n",
       "    <div id=\"myCanvasContainer\">\n",
       "      <canvas width=\"300\" height=\"300\" id=\"myCanvas\">\n",
       "        <p>Anything in here will be replaced on browsers that support the canvas element</p>\n",
       "      </canvas>\n",
       "    </div>\n",
       "    <div id=\"tags\"><ul id=\"weightTags\"><li><a data-weight=\"10\" style=\"font-size: 7ex\">公庫</a></li><li><a data-weight=\"10\" style=\"font-size: 5ex\">更新</a></li><li><a data-weight=\"10\" style=\"font-size: 2ex\">世足</a></li><li><a data-weight=\"10\" style=\"font-size: 2ex\">資格賽</a></li><li><a data-weight=\"10\" style=\"font-size: 2ex\">憲改</a></li><li><a data-weight=\"10\" style=\"font-size: 2ex\">人民</a></li><li><a data-weight=\"10\" style=\"font-size: 1ex\">莎木</a></li><li><a data-weight=\"10\" style=\"font-size: 1ex\">畫技</a></li><li><a data-weight=\"10\" style=\"font-size: 1ex\">主任</a></li><li><a data-weight=\"10\" style=\"font-size: 1ex\">冷不防</a></li><li><a data-weight=\"10\" style=\"font-size: 1ex\">安打</a></li><li><a data-weight=\"10\" style=\"font-size: 1ex\">勾女</a></li><li><a data-weight=\"10\" style=\"font-size: 1ex\">政黨</a></li><li><a data-weight=\"10\" style=\"font-size: 1ex\">國民黨場</a></li><li><a data-weight=\"10\" style=\"font-size: 1ex\">屈中恆</a></li><li><a data-weight=\"10\" style=\"font-size: 1ex\">24</a></li><li><a data-weight=\"10\" style=\"font-size: 1ex\">告白</a></li><li><a data-weight=\"10\" style=\"font-size: 1ex\">真情</a></li><li><a data-weight=\"10\" style=\"font-size: 1ex\">最大</a></li><li><a data-weight=\"10\" style=\"font-size: 1ex\">23</a></li><li><a data-weight=\"10\" style=\"font-size: 1ex\">鑑定</a></li><li><a data-weight=\"10\" style=\"font-size: 1ex\">艾比</a></li><li><a data-weight=\"10\" style=\"font-size: 1ex\">脂肪</a></li><li><a data-weight=\"10\" style=\"font-size: 1ex\">水龍頭</a></li><li><a data-weight=\"10\" style=\"font-size: 1ex\">鬧劇</a></li><li><a data-weight=\"10\" style=\"font-size: 1ex\">桃猿</a></li><li><a data-weight=\"10\" style=\"font-size: 1ex\">最強</a></li><li><a data-weight=\"10\" style=\"font-size: 1ex\">紐約</a></li><li><a data-weight=\"10\" style=\"font-size: 1ex\">挖出</a></li><li><a data-weight=\"10\" style=\"font-size: 1ex\">荔枝</a></li><li><a data-weight=\"10\" style=\"font-size: 1ex\">輸得</a></li><li><a data-weight=\"10\" style=\"font-size: 1ex\">朱鎔基愛將</a></li><li><a data-weight=\"10\" style=\"font-size: 1ex\">阿妹</a></li><li><a data-weight=\"10\" style=\"font-size: 1ex\">端午</a></li><li><a data-weight=\"10\" style=\"font-size: 1ex\">爆棚</a></li><li><a data-weight=\"10\" style=\"font-size: 1ex\">學校</a></li><li><a data-weight=\"10\" style=\"font-size: 1ex\">12</a></li><li><a data-weight=\"10\" style=\"font-size: 1ex\">動畫</a></li><li><a data-weight=\"10\" style=\"font-size: 1ex\">打卡</a></li><li><a data-weight=\"10\" style=\"font-size: 1ex\">小漲</a></li><li><a data-weight=\"10\" style=\"font-size: 1ex\">Sam</a></li><li><a data-weight=\"10\" style=\"font-size: 1ex\">故障</a></li><li><a data-weight=\"10\" style=\"font-size: 1ex\">千萬</a></li><li><a data-weight=\"10\" style=\"font-size: 1ex\">錯誤</a></li><li><a data-weight=\"10\" style=\"font-size: 1ex\">駕駛回</a></li><li><a data-weight=\"10\" style=\"font-size: 1ex\">海域</a></li><li><a data-weight=\"10\" style=\"font-size: 1ex\">女童</a></li><li><a data-weight=\"10\" style=\"font-size: 1ex\">FDA</a></li><li><a data-weight=\"10\" style=\"font-size: 1ex\">定性</a></li></ul></div>\n",
       "  </body>\n"
      ]
     },
     "metadata": {},
     "output_type": "display_data"
    },
    {
     "data": {
      "application/javascript": [
       "$.getScript(\"tagcanvas.min.js\", function () {\n",
       "\n",
       "TagCanvas.Start('myCanvas','weightTags', {\n",
       " textFont: null,\n",
       " textColour: null,\n",
       " weight: true,\n",
       " weightMode: 'both',\n",
       " textFont: 'Impact,\"Arial Black\",sans-serif',\n",
       " /* more options */\n",
       " \n",
       "});\n",
       "$('#tags').css('display','None');\n",
       "});\n"
      ]
     },
     "metadata": {},
     "output_type": "display_data"
    }
   ],
   "source": [
    "from IPython.display import display, HTML \n",
    "\n",
    "page= '''\n",
    "  <head>\n",
    "    <title>Word Cloud</title>\n",
    "    <script src=\"tagcanvas.min.js\" type=\"text/javascript\"></script>\n",
    "  </head>\n",
    "  <body>\n",
    "    <h1>Word Cloud</h1>\n",
    "    <div id=\"myCanvasContainer\">\n",
    "      <canvas width=\"300\" height=\"300\" id=\"myCanvas\">\n",
    "        <p>Anything in here will be replaced on browsers that support the canvas element</p>\n",
    "      </canvas>\n",
    "    </div>\n",
    "    <div id=\"tags\"><ul id=\"weightTags\">%s</ul></div>\n",
    "  </body>\n",
    "'''\n",
    "\n",
    "js = '''\n",
    "TagCanvas.Start('myCanvas','weightTags', {\n",
    " textFont: null,\n",
    " textColour: null,\n",
    " weight: true,\n",
    " weightMode: 'both',\n",
    " textFont: 'Impact,\"Arial Black\",sans-serif',\n",
    " /* more options */\n",
    " \n",
    "});\n",
    "$('#tags').css('display','None');\n",
    "'''\n",
    "\n",
    "import IPython\n",
    "from IPython.core.display import display_html, display_javascript, Javascript\n",
    "\n",
    "js_libs = ['tagcanvas.min.js']\n",
    "li_str = ''\n",
    "for li in swd:\n",
    "    li_str += '<li><a data-weight=\"10\" style=\"font-size: %dex\">%s</a></li>'%(li[1] , li[0])\n",
    "    \n",
    "display_html(IPython.core.display.HTML(data=page%(li_str)))\n",
    "display_javascript( Javascript(data=js, lib= js_libs))"
   ]
  },
  {
   "cell_type": "markdown",
   "metadata": {},
   "source": [
    "## TF-IDF"
   ]
  },
  {
   "cell_type": "code",
   "execution_count": 390,
   "metadata": {
    "collapsed": true
   },
   "outputs": [],
   "source": [
    "import jieba\n",
    "ary = ['【更新】柯P：洪智坤洩漏公文案還沒看到公文　今處理',\n",
    "'留洪智坤 柯：殘障求職不易',\n",
    "'人事處議處洪智坤　柯P：不清楚議處結果']\n",
    "corpus = []\n",
    "for title in ary:\n",
    "    corpus.append(' '.join(jieba.cut(title)))\n",
    "\n",
    "#jieba.add_word('洪智坤',100, 'nr')"
   ]
  },
  {
   "cell_type": "code",
   "execution_count": 392,
   "metadata": {
    "collapsed": false
   },
   "outputs": [
    {
     "name": "stdout",
     "output_type": "stream",
     "text": [
      "【 更新 】 柯P ： 洪智坤 洩漏 公文 案還 沒 看到 公文 　 今處理 留 洪智坤   柯 ： 殘障 求職 不易 人事 處議 處 洪智坤 　 柯P ： 不 清楚 議處 結果\n"
     ]
    }
   ],
   "source": [
    "for ele in corpus:\n",
    "    print ele,"
   ]
  },
  {
   "cell_type": "code",
   "execution_count": 394,
   "metadata": {
    "collapsed": false
   },
   "outputs": [
    {
     "name": "stdout",
     "output_type": "stream",
     "text": [
      "不易 人事 今處理 公文 更新 柯p 案還 殘障 求職 洩漏 洪智坤 清楚 看到 結果 處議 議處 [[0 1 0]\n",
      " [0 0 1]\n",
      " [1 0 0]\n",
      " [2 0 0]\n",
      " [1 0 0]\n",
      " [1 0 1]\n",
      " [1 0 0]\n",
      " [0 1 0]\n",
      " [0 1 0]\n",
      " [1 0 0]\n",
      " [1 1 1]\n",
      " [0 0 1]\n",
      " [1 0 0]\n",
      " [0 0 1]\n",
      " [0 0 1]\n",
      " [0 0 1]]\n"
     ]
    }
   ],
   "source": [
    "from sklearn.feature_extraction.text import CountVectorizer\n",
    "vectorizer = CountVectorizer() \n",
    "X = vectorizer.fit_transform(corpus)\n",
    "\n",
    "word = vectorizer.get_feature_names() \n",
    "for w in word:\n",
    "    print w,\n",
    "    \n",
    "print X.transpose().toarray()"
   ]
  },
  {
   "cell_type": "code",
   "execution_count": 395,
   "metadata": {
    "collapsed": false
   },
   "outputs": [
    {
     "name": "stdout",
     "output_type": "stream",
     "text": [
      "[[ 0.          0.          0.31738473  0.63476946  0.31738473  0.24137927\n",
      "   0.31738473  0.          0.          0.31738473  0.18745253  0.\n",
      "   0.31738473  0.          0.          0.        ]\n",
      " [ 0.54645401  0.          0.          0.          0.          0.          0.\n",
      "   0.54645401  0.54645401  0.          0.32274454  0.          0.          0.\n",
      "   0.          0.        ]\n",
      " [ 0.          0.41074684  0.          0.          0.          0.31238356\n",
      "   0.          0.          0.          0.          0.2425937   0.41074684\n",
      "   0.          0.41074684  0.41074684  0.41074684]]\n"
     ]
    }
   ],
   "source": [
    "from sklearn.feature_extraction.text import TfidfTransformer\n",
    "transformer = TfidfTransformer()\n",
    "tfidf = transformer.fit_transform(X)\n",
    "weight = tfidf.toarray()    \n",
    "print weight\n"
   ]
  },
  {
   "cell_type": "markdown",
   "metadata": {},
   "source": [
    "## 計算Cosine Similarity"
   ]
  },
  {
   "cell_type": "code",
   "execution_count": 396,
   "metadata": {
    "collapsed": false
   },
   "outputs": [
    {
     "name": "stdout",
     "output_type": "stream",
     "text": [
      "[ 1.          0.06049928  0.12087772]\n"
     ]
    }
   ],
   "source": [
    "from sklearn.metrics.pairwise import linear_kernel\n",
    "cosine_similarities = linear_kernel(tfidf[0], tfidf).flatten()\n",
    "print cosine_similarities"
   ]
  },
  {
   "cell_type": "markdown",
   "metadata": {},
   "source": [
    "## 列出最相關文章"
   ]
  },
  {
   "cell_type": "code",
   "execution_count": 397,
   "metadata": {
    "collapsed": false
   },
   "outputs": [
    {
     "name": "stdout",
     "output_type": "stream",
     "text": [
      "【更新】柯P：洪智坤洩漏公文案還沒看到公文　今處理\n",
      "人事處議處洪智坤　柯P：不清楚議處結果\n"
     ]
    }
   ],
   "source": [
    "related_docs_indices = cosine_similarities.argsort()[:-3:-1]\n",
    "related_docs_indices\n",
    "for index in related_docs_indices:\n",
    "    print ary[index]"
   ]
  },
  {
   "cell_type": "markdown",
   "metadata": {},
   "source": [
    "## 分析6/17 新聞內容"
   ]
  },
  {
   "cell_type": "code",
   "execution_count": 1,
   "metadata": {
    "collapsed": false
   },
   "outputs": [
    {
     "name": "stderr",
     "output_type": "stream",
     "text": [
      "Building prefix dict from C:\\Python27\\lib\\site-packages\\jieba\\dict.txt ...\n",
      "DEBUG:jieba:Building prefix dict from C:\\Python27\\lib\\site-packages\\jieba\\dict.txt ...\n",
      "Loading model from cache c:\\users\\david\\appdata\\local\\temp\\jieba.cache\n",
      "DEBUG:jieba:Loading model from cache c:\\users\\david\\appdata\\local\\temp\\jieba.cache\n",
      "Loading model cost 1.77000021935 seconds.\n",
      "DEBUG:jieba:Loading model cost 1.77000021935 seconds.\n",
      "Prefix dict has been built succesfully.\n",
      "DEBUG:jieba:Prefix dict has been built succesfully.\n"
     ]
    },
    {
     "name": "stdout",
     "output_type": "stream",
     "text": [
      "靈匣網\n",
      "民報\n",
      "NOWnews\n",
      "蘋果日報\n",
      "中央社\n",
      "時報資訊\n",
      "中廣新聞網\n",
      "風傳媒\n",
      "新頭殼\n",
      "match生活網\n"
     ]
    }
   ],
   "source": [
    "from xml.dom import minidom\n",
    "from xml.etree import ElementTree\n",
    "import jieba.analyse\n",
    "\n",
    "f = open('1435449602.xml', 'r')\n",
    "events=ElementTree.fromstring(f.read())\n",
    "f.close()\n",
    "corpus = []\n",
    "ary= []\n",
    "src = []\n",
    "for elem in events.findall('./channel/item'):\n",
    "    guid = elem.find('guid').text\n",
    "    title = elem.find('title').text\n",
    "    description = elem.find('description').text\n",
    "    pubDate = elem.find('pubDate').text\n",
    "    source = elem.find('source').text\n",
    "    src.append(source)\n",
    "    ary.append(title)\n",
    "    corpus.append(' '.join(jieba.analyse.extract_tags(description, 20)))\n",
    "dict1 = {}\n",
    "for ele in src:    \n",
    "    dict1[ele] = ele\n",
    "for ele in dict1.keys():\n",
    "    print ele"
   ]
  },
  {
   "cell_type": "code",
   "execution_count": 26,
   "metadata": {
    "collapsed": true
   },
   "outputs": [],
   "source": [
    "from xml.dom import minidom\n",
    "from xml.etree import ElementTree\n",
    "import jieba.analyse\n",
    "\n",
    "f = open('1435449602.xml', 'r')\n",
    "events=ElementTree.fromstring(f.read())\n",
    "f.close()\n",
    "corpus = []\n",
    "ary= []\n",
    "for elem in events.findall('./channel/item'):\n",
    "    title = elem.find('title').text\n",
    "    description = elem.find('description').text\n",
    "    source = elem.find('source').text\n",
    "    ary.append(title)\n",
    "    corpus.append(' '.join(jieba.analyse.extract_tags(description, 20)))"
   ]
  },
  {
   "cell_type": "code",
   "execution_count": 27,
   "metadata": {
    "collapsed": false
   },
   "outputs": [
    {
     "name": "stdout",
     "output_type": "stream",
     "text": [
      "br 現場 樂園 八仙 檢警 人員 新北市 了解 昨晚 空間 引發 偵辦 已經 這次 活動 粉塵 主辦 地檢署 舞台 士林\n",
      "醫院 br 病患 受傷 超過 統計 腳部 治療 50 人數 淡水 插管 台北 引發 粉塵要 院長 噴灑 樂園 相當 27\n",
      "br 櫃員機 希臘 千部 資金 銀行 債務 他們 估計 當局 現金 金供 資金持續 全國 違約 擔心 協調 明顯 業界 三間\n",
      "br 台鐵 南站 基隆 車站 新車 旅客 北站 完工 啟用 減少 鐵工局 出入口 一分 只要 千度 整建 外觀 必須 總經費\n",
      "樂園 現場 八仙 粉塵 瞬間 煉獄 新北市 舞台 爆炸 彩色 玉米粉 民眾 人間 遊客 宛如 昨晚 火海 生粉 水上 一樣\n",
      "基改 法國人 消費者 標示 食品 美食 蘇菲 法國 食材 資訊 超市 成分 東西 很難 態度 含基改 市場 巴黎 食物 基因\n",
      "因為 醫院 一場 家長 急診室 驚恐 爆炸 病患 意外 進醫院 27 現場 不斷 傷者 傷名 這起 救護車 婦女 樂園 仍待\n",
      "比賽 艾德蒙 分鐘 岩淵 加拿大 日本 勝球 Cup 真奈 節奏 場雙方 攻進 致勝 強賽 補上 挺進 頓舉行 隊主導 27 分鐘攻\n",
      "開池 蓋屋 出火 豎柱 納采 移徙 合木 安香 入宅 動土 安門 訂盟 起基 開市 冠笄 好運來 嫁娶 旺旺 拆卸 祈福\n",
      "br 金曲 江蕙 特別 辛苦 努力 謝謝 強調 機前 因為 時詢問 爺對 其實 還特別 台視 這個獎 獎到 封麥 拿獎 介紹\n",
      "br 高溫 地區 半部 影響 機會 各地 及東 天氣 指標 暫陣雨 高壓 出現 暫雷陣 過後 天數 山區 等級 炎熱 六月\n",
      "br 樂園 八仙 28 協助 生粉 27 燙傷 毛治國 傷患 洪秀柱 加強 影響 原訂 運送 活動 鹿野 決定 舉辦 觀光產業\n",
      "希臘 歐元區 協議 30 達成 救助 公投 瓦魯法 財政部長 債務 一個 逐漸 然後再 爭取 延長 計劃 英國 貨幣 拒絕 經濟\n",
      "志祥 金曲 表演 蔡依林 26 難免 壓力 台北 看到 巨蛋 舞王 問到羅志祥 台淚 嘉賓 指剛 丟掉 因為 27 獨舞 獎頒獎\n",
      "專輯 蔡依林 金曲 感動 得獎 國語 最佳 舞曲 真的 開心 26 這張 錦榮 傳訊息 領獎 問到 這麼 典禮 恭喜 台北\n",
      "br 中資 中國 企業 台灣 掛牌 外資 投資 美國 問題 認為 管理 還是 股權 資金 這些 認定 阿里巴巴 上市 持股\n",
      "樂園 新北市 八仙 人數 關園 救護車 醫及 統計 調查 暫停 受傷 嚴格 27 衛生局 28 營業 根據 日晚 性粉 導致\n",
      "大雕 行動 情侶 挪威 騰斯堡 還會 機構 宣傳 van 宣導 這樣 Eck 碎紙 顯示 Philip 對路 現身 RFSU 噴射 隨機\n",
      "高溫 天氣 半部 雖然 地區 br 影響 山區 各地 大雨 注意 局部 特別 及東 氣象局 區域 風過 有強 高壓 陸地\n",
      "德國 反應 br 核子 再生能源 關閉 已經 政策 這個 商業 一個 逐漸 2050 從現 推動 成電力 爐設 改採 巴伐利 將關閉\n",
      "br 最佳 獲得 歌王 金曲 蔡依林 專輯獎 國語 歌曲 則是 島嶼 繼續 專輯 張惠妹 首歌 天光 火器 副歌 今年 年度\n",
      "閃燃 傷亡 br color 玉米粉 周卓 發生 空間 play 靜電 爆炸 造成 火花 美國 趴時 外辦 樂園 還是 建議 活動\n",
      "br 判決 屍體 邱和順 柯洪玉蘭 他們 一個 nbsp 自白 被告 鄭新福 認定 證據 結果 因為 沒有 被判 分屍 什麼 指紋\n",
      "空姐 將展 風景靚點 成為 投給 評標 爭奇鬥妍 夏裝 佛靠 衣裝 旅遊 帥哥 人靠 金裝 腦汁 最欣賞 絞盡 空少 一票 盛夏\n",
      "希臘 br 歐元區 債權國 債權 籌碼 談判 衝擊 撙節 經濟 違約 發生 一個 ECB IMF 退歐 德國 達成 國內 當然\n",
      "新北市 br 現場 傷者 人數 人員 送醫 點多 桃園 21 家醫院 救護車 重傷 樂園 偵辦 偵訊 透過 粉塵 舉辦 調查\n",
      "br 中文系 中國 中華 文化 課綱 微調 我們 這個 文學 中文 發展 價值 這種 因為 灣社會 無法 他們 嚴時代 轉型\n",
      "訓練 br 戰場 一個 我們 進行 救護 戰爭 可以 新兵 部隊 入伍 階段 士兵 戰鬥 時間 問題 野外 互救 就是\n",
      "br 照護 護理 醫療 問題 災難 災民 慈善 醫院 發展 衛生 災區 準備 醫學 人員 理學 救援 角色 公共 感染\n",
      "br 柳丁 nbsp 推動 結合 行銷 農民 生產 收購 台灣 銷售 市場 進行 價格 產地 雲林 模式 特別 減少 方式\n",
      "br 進步 台灣 誠實 街招 左派 招牌 對策 掛著 他們 搖的 現實 政黨 不過 當然 思想 退步 退一步 老牌 浪漫\n",
      "美國 時速 系統 飛彈 防禦 研發 000 英里 亦不例外 泰晤士 大強 亟思 戰鬥機 將近 擁有 這些 騎士 軍方 競賽 機能\n",
      "div 自信心 女性 一種 這種 食指 表現 br 這類 問題 身邊 征服 做事 男性 令人尊敬 妥妥 給人 很傑 豐滿 基位\n",
      "div 享用 br 四處 財帛 印堂 部位 小富 有缺 不能 特別 豐滿 絞肉 天倉 財路 損害 之數 盡者 正而 骨起\n",
      "巴拉圭 足球 國家 巴西 奪得 決賽 球隊 世界 美洲 開始 2010 1998 出現 連續 打進 他們 賽事 奧運 四屆 2002\n",
      "div 看重 這個 選擇 塔羅牌 什麼 占卜 事業 然後憑 有興趣 規則 一張 中選擇 想著 br 直覺 東西 塔羅 不可 今生\n",
      "尼西 槍手 英國人 15 沙灘 畫面 冷血 照片 40 宣稱 瑞茲古伊 瑞茲古 25 Qayrawani 27 翻攝 確定 現場 名無辜 勝地\n",
      "希臘 歐元區 展延 債務 會議 穩定 戴松布倫 財政部長 因為 願意 確保 歐元 歐洲 風暴 階段 違約 可能 金融 表示 全力\n",
      "莫文蔚 開心 獲得 張惠妹 阿妹 最佳 歌后 金曲 原住民 還沒告訴 感謝 齊聚 迅與 Boxing 中拉 雙雙 他們 皮膚 則低 獲獎\n",
      "希臘 歐元區 經濟 歐洲 歐元 發展 衝擊 歐盟 穩定 帶來 嚴重 一體性 問題 未來 相當 債權 衰退 爬升 雪上加霜 谷底\n",
      "div 心機 安靜 這樣 選擇 選出 環境 結果 比童 現實 還是 規則 牌里 塔羅測試 殘酷 猶豫 情況 一張 想著 切記\n",
      "27 13 患者 台北 慈濟 進行 醫院 治療 全身 生命 靜脈 衛生局 28 多數 消防局 燒傷 輸液 穩定 機制 搶救\n",
      "希臘 歐元區 沙班 30 法國 結束 成員 未來 我們 命運 隨時 續留 想要 公投 並無希臘 必須 當前 明確 團結 27\n",
      "新鮮 蔬菜 瓜果 顏色 表現 水分 表皮 聲音 購買 飽滿 蛋則 不新鮮 發生 食物 流失 半球型 易腐 表面 氣溫 進水裡\n",
      "運動 夏季 心臟 養生 天氣 認為 養心 激動 炎熱 夏初 做做 心神 延年益 特別 臟氣 以養陽 可幫助 體內 拉耳 叩齒\n",
      "苦瓜 紅棗 齒莧 夏天 苦味 蒲公英 功效 出現 常吃 促進 吃些 楊梅 蘇葉 還有 蘇葉湯 殺菌 人體 身體 之食 消暑\n",
      "牛奶 吸收 食物 芝麻 100 營養素 補鈣 效果 毫克 促進 輔助 含鈣量 考慮 同時 還有 這三種 比如 毫升 咀嚼 蛋白\n",
      "考生 環境 呼吸 性鹼 酸中毒 中毒 激動 表現 症狀 緊張 代謝性 二氧化碳 酸性 預防 進行 過多 補充 營養 情緒 治療\n",
      "草莓 100 50 維他 榨汁 適量 調勻 生瘡 30 250 乾咳 飲服 10 氣血 蘋果 麻油 食欲不振 消化不良 口舌 每天\n",
      "台灣 台籍 鄭弘儀 偉大 日本 台灣人 允許 全體 紀念 想當 抗日 福星 爸爸 大屠殺 怎麼 大陸網 因為 當志願兵 只講 1942\n",
      "西瓜 中國 瓜果 紀曉嵐 認為 翡翠 形容 乾隆 活現 提筆 傳入 描寫 河圖 價值 當時 活靈 發現 對聯 文學 小販\n",
      "歷史 國民黨 閱兵 大陸 台灣 安倍 兩岸 當年 70 中華民國 抗日 和解 中日 恩仇 藉由 有關 也展 國共 抗戰 共產黨\n",
      "當晚 飯局 10 李春燕 陪酒 死亡 永州市 房間裡 餐會 2013 幹部 車裡 發生 陸媒 公室 同事 接待 中暑 醉酒 主任\n",
      "西瓜 慈禧 西瓜霜 獨到 當時 宮廷 最愛的 數十個 講究 御膳 清代 吃掉 料理 古人 挑嘴 一套 三拍 瓜瓤 百姓 喉科\n",
      "戰爭 紀念 抗戰 歷史 發生 戰敗國 網友 反省 德國 大戰 父親 大陸 國家 紐則 鄭弘儀 仍然 看待 能面 不同 感情\n",
      "老兵 抗戰 大陸 國民黨 胡葆琳 閱兵 防部 參與 邀請 這些 不過 多位 官方 一定 抗戰勝利 一個 國共 相傳 團結 參加\n",
      "幹部 能上能下 領導 官員 會議 規定 中共 強調 機制 推進 體制 試行 下台 審議 27 貪腐 嚴治黨 三嚴 汪玉凱 新規\n",
      "抗戰 八路 參加過 中華民國 老兵 防部 因為 參加 曾經 大陸 期間 領導 昭明 中共 娃娃兵 歷史 戰爭 態度 國民 貢獻\n",
      "改革 推動 許多 進行 隨著 經濟 大陸 基層 同時 文中 地方 中央 拖延 泛化 各級 2015 針對 出現 不斷 幹部\n",
      "金蟬花 中毒 出現 冬蟲 百株 真菌 一個 現象 醫院 頭暈 大陸 金蟬 絲體 夏草 嘔吐 導致 環境 感染 竹林 泡酒\n",
      "台灣 紀念 抗戰勝利 鄭弘儀 抗戰 犧牲 50 批評 65 萬人 文章 殖民 輿論 中國人 不願 忘祖 統治者 數典 新華社 寧可當\n",
      "蘇東坡 萬元 白居易 我們 部門 成長 薪俸 畢業 服務業 17 公部門 工業 人生 百姓 僱人員 無常 領先 歷史 慚諫紙 來往\n",
      "A股 中國 回歸 美國 企業 奇虎 上市 中資 市場 私有化 報導 網路 這些 暴風 尋求 10 互聯網 科技 公司 退市\n",
      "中國 美國 中國人 QDII2 外國 匯款 投資 中國民眾 不動產 海外 房地產 統計 資金 市場 顯示 購房 買家 協會 美元 成交\n",
      "貸款 銀行 Kabbage 傳統 企業 他們 自動化 機構 瑞拉 業者 美國 問題 放貸 線上 申請 審核 資金 不過 科技 中小\n",
      "太陽光 面板 太陽能 美國 發電量 發電 發電場 運作 電力 熱發 伊梵帕 技術 產生 傳統 蒸氣 結果 梵帕 鏡片 小時 計畫\n",
      "事務 英國 調查 計師 勞工階級 條件 集團 中產階級 師事務 發現 徵才 經驗 招募 進行 機會 畢業生 高貴 顯示 poshness SMCPC\n",
      "首爾 柯文 台北市 朴元淳 大眾 韓國 朴槿惠 運輸 費用 首爾市 政府 優惠 悠遊卡 調漲 不悅 捷運 市民 交通 取消 台北\n",
      "發電 電力 Plant 此技術 進行 地區 植物 根部 發展 一個 偏遠 這項 發電技術 LED 供給 荷蘭 生長 紅樹林 稻田 溼地\n",
      "26 恐怖 尼西 國內 人喪生 麥當勞 經濟部 組織 年減 24 發動 22 23 5.9 訂單 台灣 法國 攻擊 權經營 營店\n",
      "經濟 問題 台灣 成長 消費 民眾 因為 社會 低物價 雖然 四低 沒有 國際 環境 有利於 低稅 兩岸 資本 關鍵 低薪\n",
      "員警 槍械 標準 警械 使用 通緝犯 執法 情況 警政署 本案 國外 用槍 維持 國家 實務 公權力 依據 規定 相較 倒車\n",
      "國民黨 洪秀柱 勢力 總統 選舉 立委 參選 林義雄 英文 宋楚瑜 民進 這個 李登輝 主席 席次 打倒 第三 台灣 開始 沒有\n",
      "台大 學生 社會 升學 登山 募款 己所不欲 機會 同學 老師 考慮 大學 進入 弱勢 同學們 資源 這次 不應 沒有 顯然\n",
      "補票 逃票 旅客 上車 台鐵 火車 金額 車後補票 先上 查票 主動 不買票 萬元 票價 無法 手續費 10 還有 無票 自動\n",
      "論壇 雙城 柯文 共識 大陸 一五 善意 柯市 兩岸 之間 釋出 九二 大陸方 發展 沒有 進行 時刻 傳話 所樂見 問題\n",
      "民宅 消防人 傳出 延燒 木造 火勢 送醫 連棟 當店 火警 中山路 受困 救出 凌晨 灌救 有名 男子 趕緊 處便 破門架梯\n",
      "粉絲 現場 排隊 預購 茉莉 一出 第二本 小洋 開賣 面會 揮汗 場便 27 這次 燦爛 一種 新書見 過這本 周圍 希甜\n",
      "br 民宿 strong 08 大鵬灣 殼島 www 濕地 小時 大橋 莊園 跨海 會館 tw 濱灣 公園 電動 水映 com 300\n",
      "洪慈庸 力量 時代 公室 事務 開始 進行 競選辦 鄉親 傾聽 未來 參選 而戰 關心 公共 立委 夥伴 發聲 輕人舉 吳大學\n",
      "電影 預計 親節 門市 預購 他們 OPEN 消費者 熱潮 即日起 推出 商品 58 熱門品 3C 喜愛的 業者 精補類 售價 營補類\n",
      "42 單位 負責 男子 爆炸案 漏夜 員工 噴灑 創意 樂園 傷害 數百人重 蘆洲 師廖俊明 28 40 依業務過 維護義務 偵辦 盧建佑\n",
      "希臘 提款 ATM 27 億歐元 補鈔 全國 希臘民眾 路透 帕拉斯 公投 呼籲 600 愈排 銀行界 正慢 700 億台幣 瀕臨 權國\n",
      "賴柏豪 李昇峰 玉璽 白珍 王靖雯 林愛蓉 李慧珠 育英 林宗 名氏 薛明娟 信彥 宋芷薇 林霆 林思庭 學宇 古澤霖 江亭蓁 吳得明 廖千輔\n",
      "希臘 加薩 ECB 基斯 德拉 德拉吉 公投 將會 穩定 緊密 及希臘 會晤 持續 決定 拉斯 表示 政府 願意 總統府 瀕臨\n",
      "br 東所 受難者 林家 白色恐怖 當年 台灣 影片 政治犯 被關 監獄 自己 政治 軍法處 葉信 爺爺 他們 社會 奶奶 世代\n",
      "晚間 全案 爆炸案 紛紛 開置 將依竊 豈料 樂園 偵訊 將其 輕重傷 27 40 王姓 發現 皮夾 翻開 物櫃 偵辦 分駐\n",
      "樂園 八仙 醫院 名傷 新北市 受傷 市長 淡水 彩色 侯友 將近 閃燃 Asia 瞬間 問傷 關園 調查 晚間 當時 27\n",
      "醫院 當時 傷患 不斷 快點 現場 彩色 聲響 救護車 滿傷 抵達 Asia 聽到 瞬間 連軍方 因為 統計 床不夠 實在 晚間\n",
      "應變 災害 開設 送醫 市府 消防 中心 爆炸案 暫時 機關 呼籲 新北 吃緊 粉塵 送急診 王鼎鈞 一級 重傷 樂園 局處\n",
      "br 蔣丙煌 醫院 金屬 發生 娛樂 樂園 轉送 傷患 加強 粉塵 放空 八仙 台大 粉末 彩色 爆炸 用途 前往 意外\n",
      "風勢 主辦 Asia Play 活動 粉塵 現場 Color 彩色 太大 色粉 點結束 傷送醫 新北 閃燃 樂園 呂忠吉未 27 每個 這次\n",
      "希臘 歐元區 債權 普拉斯 公投 債務 撙節 協商 清單 討論 財政部長 過去 過程 改革 左派 民意 接受 展延 政府 到期\n",
      "查詢 新北市 醫院 指揮 電話 樂園 受傷 八仙 超過 傷勢 28 疑因 日電 119 02 27 致電 0963257119 縣市 粉塵\n",
      "資料 一個 照片 衣服 禮服 這件 這個 那種 這次 金曲 配件 蔡依林 一樣 顯得 路線 什麼 婚紗 大展 莫文蔚 細節\n",
      "樂園 金屬 發生 彩色 八仙 粉末 28 疑因 粉塵 200 燒傷 研議 加強 蔣丙煌 娛樂 放空 爆炸 用途 引發 超過\n",
      "新北市 台北市 醫院 桃園 林口 淡水 北榮 亞東 新光 聯醫 台北 中興 北國泰 慈濟 不詳 三重市 新泰 名氏 衛部 恩主公\n",
      "粉塵 送醫 暫時 機關 呼籲 吃緊 送急診 王鼎鈞 132 重傷 分現 樂園 急診 燃燒案 如非 醫院 28 雙北 輕傷 因雙北\n",
      "醫院 粉塵 台大 病房 這次 蔣丙煌 規範 相關 放空 患者 醫療 針對開 228 特別 應有 因為 衛福部長 28 該部 研議\n",
      "單親 媽媽 下海 倒楣 扶養 這名 實在 幼兒 二名 台中 第一次 警方 業者 從事網 指停 趁著 交談 網拍 投資 幾經\n",
      "現場 民眾 噴發 噴灑 紅色 音樂 目擊者 粉塵 同時 受傷 舞台 粉末 彩色 新北 閃燃 變成 猶如人間 27 參加 驚傳\n",
      "協助 時間 關切 重傷 毛揆 樂園 署及 運送 台東 鹿野 鄉農村 40 觀光產業 傷患 嘉年華 發稿 多人輕 熱氣球 新北市 粉爆\n",
      "劉玄灝 樂園 晚間 相關 現場 八仙 指示 全案 閃燃 游儒倡 轄區 檢察長 內勤 林朝 失傷害 受傷 蘆洲 27 活動 28\n",
      "br 28 樂園 八仙 毛治國 劉玄顥 負責人 傷患 調查 檢察官 指示 意外 行政院 行程 凌晨 全力 警方 得知 密切 取消\n",
      "警察局 消防局 醫院 新北市 協助 病患 全力 警政署 爆炸案 狀況 樂園 國恩 報請 瞭解 周邊 相關 救護 偵處 家屬 請該\n",
      "醫院 傷患 蔣丙煌 轉送 台北 台大 急診 28 聯合 樂園 榮總 林口 淡水 新光 八仙 住院 前往 北市 王宗曦 叮寧\n",
      "傷者 醫療 樂園 新聞 新北市 協助 發生 八仙 意外 祈盼 總統 並動員 震驚 照顧 百人燒 舉辦 桃園 剛才 晚間 已致\n",
      "財運 羊年 其實 厚非 這幾個 發達 經濟 問的 2015 社會 風水 平時 仔細來 基礎 問題 催旺 八字 必需 借助 下面\n",
      "桃花 因為 遇到 我給 免會 這些 趨之若鶩 麻煩 那個 人來 時候 絕對 所謂 煩心 過程 支幾個 對于 很煩 未婚 女朋友\n",
      "金曲 張學友 二度 先泡 男歌手 摘金 歌王 激烈 神級 呼籲 一個 擊敗 這個 打太極 最後由 慢一點 未來 開心 03 26\n",
      "專輯 蔡依林 獎項 上台 婚姻 心情 相扣 金曲 發聲 氣度 先奪 26 美國 最終 創作 許多 記者 細節 整張 對此\n",
      "金曲 張惠妹 熱情 台受 獲得 入圍 江蕙 專輯 訪時 女歌手 彩虹 失落 坦言 台北 希望 歌后 巨蛋 阿弟仔 一直 度奪獎\n",
      "新北市 相關 醫院 協助 病患 警察局 全力 警政署 警局 爆炸案 續並 狀況 有關 國恩 動用 報請 晚間 瞭解 周邊 消防局\n",
      "br 現場 協助 樂園 八仙 消防局 傷患 市長 晚間 調查 新北市 台北市 消防 桃園 27 傷者 救護車 緊急 粉塵 停業\n",
      "希臘 歐元區 瓦魯費 展延 克斯 戴松布倫 公投 財政部長 決定 可能 債務 發展 記者 穩定 確保 否決 歐元 財長 問及 脫離\n",
      "科威特 科國 國家 報導 石油 清真寺 等級 自殺 OPEC 這輛 KNPC 組織 現正 內部 當局 國營煉 27 羈押 尋找 額外\n",
      "最佳 音樂 有限公司 演唱者 專輯 股份 專輯獎 環球 華納國際 國際 唱片 蔡依林 錄音 人獎 人員 國語 演唱 工作室 得獎 不見\n",
      "樂園 八仙 調查 朱立倫 發生 新北市 意外 嚴格 調度 遺憾 沒有 停業 關園 不過 至於 立即 台北市 消防 救治 全力\n",
      "病患 台北 傷勢 28 嚴重 開刀 救治 減輕 變化 現腔室 及民眾 轉送 湧入 樂園 輸液 現象 嚴重燒 救護車 人有 會出\n",
      "最佳 金曲 專輯 入圍 人獎 國語 本屆 張學友 徐佳瑩 歌唱 可惜 蔡依林 同樣 還贏 剛剛 遺珠 抱回 一舉 當年 作詞\n",
      "新北市 樂園 八仙 關園 新北 抵達 生粉 桃園 晚間 27 20 縣市 日晚 指揮 社會 200 救災 現場 報導 朱立倫\n",
      "專輯 開心 蔡依林 獲得 最佳 金曲 國語 本屆 贏家 項大獎 大獎 星光 大喊 想到 巨蛋 夥伴 工作 莫文蔚 加持 致詞\n",
      "英國 尼西 艾伍 事件 爆炸案 必須 卡麥隆 Ellwood 準備 屠殺 中喪生 亞海灘 27 倫敦 日倫敦 亞攻擊 Tobias 日法 名英國 許多\n",
      "樂園 八仙 傷者 市長 調查 新北市 台北市 醫療 桃園 協助 徹底 災害 親電 調度 各醫院 慰問 停業 關園 機構 朱立倫\n",
      "張惠妹 謝謝 抽到 金曲 紀錄 音樂 典禮 一個 開心 26 27 獎頒獎 什麼 領獎 專輯 發抖 這麼 二姐 台北 上台\n",
      "謝謝 開心 歌王 金曲 封后 專輯 張惠妹 這些 這麼 感言 唱片 希望 所有人 自己 可以 夥伴 男歌手 哈林 跑跳 首句\n",
      "金曲 蔡依林 專輯 最佳 26 專輯獎 開心 他們 贏家 感謝 國語 我贏 台北 巨蛋 最大 很爽 謝謝 預測 27 獎時\n",
      "樂園 新北市 八仙 晚間 傷患 現場 時間 朱立倫 發言人 協助 全力 指示 行政院 救治 爆炸 得知 214 總統 探視 趴引\n",
      "張學友 金曲 謝謝 哈林 興奮 男歌手 歌王 26 27 伍思凱 擁抱 頒獎 領獎 台灣 繼續 我會 二度 一支 台北 台上\n",
      "LOEWE Jonathan 圖案 機器 Anderson 組成 材質 各種 Puzzle 年春夏 牛皮 皮革 令人 鏡面 放進 運用 東洋 革飛行 服裝 男裝\n",
      "內湖 何必 露台 現場 設計 專案 div 樓層 協理 龔志謙 none display ad 周邊 23 28 15 公園 此區 大磊\n",
      "BV 編織 鑰匙 小物 零錢 買個 經典 球粉 萬元 實用 聞名 禮物 包款 皮革 名片 手工 或是 件套 品牌 Veneta\n",
      "蘇益良 大人物 攝影 北文 00 影展 創會 獲贈 方念華 統籌 立體 捐款 手工 展出 慈善 蔡依林 謝金燕 夢想 21 粉絲\n",
      "花園 帝后 特區 規劃 新板 中正路 商圈 ad 29 div 機能 display 28 60 none 四房 週邊 板橋 一樓 優勢\n",
      "桃園 捷運 機場 購物 A19 如火如荼 none 環球 青塘園 通車 div 萬坪 分鐘 特區 未來 display ad 人氣 國泰 10\n",
      "力克斯 時候 Ryder Kelly 確定 小孩 小朋友 自信 乾脆 衣服 穿著 造勢 會問 李詠 我們 兩件 他們 走秀 style 選好\n",
      "粉霜 氣墊 粉餅 BB 網狀氣 Jart 韓國 Dr 雪花 innisfree 戰場 感氣 LANCOME 保養 粉底液 品牌 加入 海綿 暴紅 美妝腳步\n",
      "br 最佳 有限公司 音樂 演唱者 股份 專輯獎 環球 國際 唱片 華納國際 人獎 人員 錄音 工作室 不見 給你看 佛跳牆 台語 國語\n",
      "GIVENCHY Tisci 黑珍珠 2015 Riccardo 壓軸 走秀 高級 系列 秋冬 性感 超模 男裝 2016 設計 預告 流蘇 耶穌 丹寧 引領\n",
      "剪裁 Maison Margiela 春夏 男裝 2016 Galliano 重點 西裝 合身 大衣 詮釋 發表 輕盈 搖滾 乾淨 經典 John 無論 Berluti\n",
      "Gap 徵選 Ryder Makayla 現場 小朋友 代言人 小小 爸爸 力克斯 更勝 還有 全場 風靡 20 裝好 親子 紀念禮 繽紛 童裝\n",
      "王姓 行動 性交易 警方 社維法 前來 當場將 員警 軟體 王女 店外 應召 標榜 經絡 法辦 某飯 查獲 27 麻痺症 6000\n",
      "最佳 專輯 國語 開心 繼續 領獎 金曲 蔡依林 給你看 特別 島嶼 台語 台灣 歌曲 演奏 天光 男歌手 歌王 演唱 原住民\n",
      "醫院 晚間 柯文 台北市 現場 樂園 八仙 北市 全力 醫療 協助 調度 名傷 新北市 台北 防部 EOC 區緊 27 鄧家基\n",
      "樂園 指揮部 八仙 防部 救護車 警備車 國軍三 部抵 60 nbsp 桃園 檢派 醫院 27 治療 日晚 總醫院 灼傷 記者 現場\n",
      "蔡依林 音樂 國語 演唱 最佳 金曲 獎入 舉行 日電 26 27 專輯獎 專輯 不錯 由華納國際 獲得 典禮 張茗 記者 啟事\n",
      "div 26 報導 最佳 歌曲 巨蛋 金曲 一時 登場 獎者 娛樂 這些 樂壇 音樂 27 獎頒獎 都將 專輯 相關 認識\n"
     ]
    }
   ],
   "source": [
    "for ele in corpus:\n",
    "    print ele"
   ]
  },
  {
   "cell_type": "code",
   "execution_count": 28,
   "metadata": {
    "collapsed": false
   },
   "outputs": [],
   "source": [
    "from sklearn.feature_extraction.text import CountVectorizer\n",
    "vectorizer = CountVectorizer() \n",
    "X = vectorizer.fit_transform(corpus)\n",
    "word = vectorizer.get_feature_names() \n"
   ]
  },
  {
   "cell_type": "code",
   "execution_count": 29,
   "metadata": {
    "collapsed": false
   },
   "outputs": [
    {
     "name": "stdout",
     "output_type": "stream",
     "text": [
      "(10, 10)\n"
     ]
    }
   ],
   "source": [
    "from sklearn.metrics.pairwise import linear_kernel\n",
    "n_cosine_similarities = linear_kernel(tfidf[0:10], tfidf[0:10])\n",
    "#print cosine_similarities\n",
    "print n_cosine_similarities.shape"
   ]
  },
  {
   "cell_type": "code",
   "execution_count": 30,
   "metadata": {
    "collapsed": false
   },
   "outputs": [
    {
     "name": "stdout",
     "output_type": "stream",
     "text": [
      "[[  0  81  80 ..., 126 124 146]\n",
      " [  0  89  88 ..., 126 116 145]\n",
      " [ 73  65  64 ..., 120 113 144]\n",
      " ..., \n",
      " [ 73 101  99 ..., 120 135 140]\n",
      " [  0  91  92 ..., 131 138 139]\n",
      " [  0 102 101 ..., 130 139 138]]\n"
     ]
    },
    {
     "ename": "TypeError",
     "evalue": "only integer arrays with one element can be converted to an index",
     "output_type": "error",
     "traceback": [
      "\u001b[1;31m---------------------------------------------------------------------------\u001b[0m",
      "\u001b[1;31mTypeError\u001b[0m                                 Traceback (most recent call last)",
      "\u001b[1;32m<ipython-input-30-2f9b78484fff>\u001b[0m in \u001b[0;36m<module>\u001b[1;34m()\u001b[0m\n\u001b[0;32m      2\u001b[0m \u001b[1;32mprint\u001b[0m \u001b[0mrelated_docs_indices\u001b[0m\u001b[1;33m\u001b[0m\u001b[0m\n\u001b[0;32m      3\u001b[0m \u001b[1;32mfor\u001b[0m \u001b[0mindex\u001b[0m \u001b[1;32min\u001b[0m \u001b[0mrelated_docs_indices\u001b[0m\u001b[1;33m:\u001b[0m\u001b[1;33m\u001b[0m\u001b[0m\n\u001b[1;32m----> 4\u001b[1;33m     \u001b[1;32mprint\u001b[0m \u001b[0mary\u001b[0m\u001b[1;33m[\u001b[0m\u001b[0mindex\u001b[0m\u001b[1;33m]\u001b[0m\u001b[1;33m\u001b[0m\u001b[0m\n\u001b[0m",
      "\u001b[1;31mTypeError\u001b[0m: only integer arrays with one element can be converted to an index"
     ]
    }
   ],
   "source": [
    "related_docs_indices = cosine_similarities.argsort()[:-10:-1]\n",
    "print related_docs_indices\n",
    "for index in related_docs_indices:\n",
    "    print ary[index]"
   ]
  },
  {
   "cell_type": "code",
   "execution_count": 31,
   "metadata": {
    "collapsed": true
   },
   "outputs": [],
   "source": [
    "from sklearn.feature_extraction.text import TfidfTransformer\n",
    "transformer = TfidfTransformer()\n",
    "tfidf = transformer.fit_transform(X)\n",
    "weight = tfidf.toarray() "
   ]
  },
  {
   "cell_type": "code",
   "execution_count": 32,
   "metadata": {
    "collapsed": false
   },
   "outputs": [
    {
     "name": "stdout",
     "output_type": "stream",
     "text": [
      "(147, 147)\n"
     ]
    }
   ],
   "source": [
    "from sklearn.metrics.pairwise import linear_kernel\n",
    "cosine_similarities = linear_kernel(tfidf, tfidf)\n",
    "print cosine_similarities.shape"
   ]
  },
  {
   "cell_type": "code",
   "execution_count": 33,
   "metadata": {
    "collapsed": false
   },
   "outputs": [
    {
     "name": "stdout",
     "output_type": "stream",
     "text": [
      "(147, 1881)\n"
     ]
    }
   ],
   "source": [
    "print tfidf.shape"
   ]
  },
  {
   "cell_type": "code",
   "execution_count": 35,
   "metadata": {
    "collapsed": false
   },
   "outputs": [
    {
     "data": {
      "text/plain": [
       "array([[  0,  81,  80, ..., 126, 124, 146],\n",
       "       [  0,  89,  88, ..., 126, 116, 145],\n",
       "       [ 73,  65,  64, ..., 120, 113, 144],\n",
       "       ..., \n",
       "       [ 73, 101,  99, ..., 120, 135, 140],\n",
       "       [  0,  91,  92, ..., 131, 138, 139],\n",
       "       [  0, 102, 101, ..., 130, 139, 138]])"
      ]
     },
     "execution_count": 35,
     "metadata": {},
     "output_type": "execute_result"
    }
   ],
   "source": [
    "related_docs_indices = cosine_similarities.argsort()[:-10:-1]\n",
    "related_docs_indices\n"
   ]
  },
  {
   "cell_type": "code",
   "execution_count": 36,
   "metadata": {
    "collapsed": false
   },
   "outputs": [
    {
     "name": "stdout",
     "output_type": "stream",
     "text": [
      "(10, 10)\n"
     ]
    }
   ],
   "source": [
    "from sklearn.metrics.pairwise import linear_kernel\n",
    "n_cosine_similarities = linear_kernel(tfidf[0:10], tfidf[0:10])\n",
    "#print cosine_similarities\n",
    "print n_cosine_similarities.shape"
   ]
  },
  {
   "cell_type": "markdown",
   "metadata": {},
   "source": [
    "## 使用 HeatMap 視覺化相似程度"
   ]
  },
  {
   "cell_type": "code",
   "execution_count": 9,
   "metadata": {
    "collapsed": false
   },
   "outputs": [
    {
     "data": {
      "text/plain": [
       "<matplotlib.axes._subplots.AxesSubplot at 0x1345f870>"
      ]
     },
     "execution_count": 9,
     "metadata": {},
     "output_type": "execute_result"
    },
    {
     "data": {
      "image/png": "[encoded data removed]",
      "text/plain": [
       "<matplotlib.figure.Figure at 0x1345f550>"
      ]
     },
     "metadata": {},
     "output_type": "display_data"
    }
   ],
   "source": [
    "%matplotlib inline\n",
    "from matplotlib import pyplot as plt\n",
    "import seaborn as sns\n",
    "# pip install seaborn\n",
    "sns.heatmap(n_cosine_similarities, annot=True, center=0, cmap='coolwarm')"
   ]
  },
  {
   "cell_type": "code",
   "execution_count": 37,
   "metadata": {
    "collapsed": false
   },
   "outputs": [
    {
     "name": "stdout",
     "output_type": "stream",
     "text": [
      "[[ 1.          0.09167541  0.01601732 ...,  0.0653352   0.          0.        ]\n",
      " [ 0.09167541  1.          0.01601694 ...,  0.10915177  0.0173006\n",
      "   0.01726419]\n",
      " [ 0.01601732  0.01601694  1.         ...,  0.          0.          0.        ]\n",
      " ..., \n",
      " [ 0.0653352   0.10915177  0.         ...,  1.          0.06651145\n",
      "   0.01688704]\n",
      " [ 0.          0.0173006   0.         ...,  0.06651145  1.          0.17886177]\n",
      " [ 0.          0.01726419  0.         ...,  0.01688704  0.17886177  1.        ]]\n"
     ]
    }
   ],
   "source": [
    "from sklearn.metrics.pairwise import linear_kernel\n",
    "n_cosine_similarities = linear_kernel(tfidf, tfidf).flatten()\n",
    "print cosine_similarities"
   ]
  },
  {
   "cell_type": "code",
   "execution_count": 40,
   "metadata": {
    "collapsed": false
   },
   "outputs": [
    {
     "name": "stdout",
     "output_type": "stream",
     "text": [
      "八仙塵爆  五相關人依公共危險重傷害法辦\n",
      "八仙樂園意外 病患持續增加中\n",
      "希臘國內三分一自動櫃員機現金短缺\n",
      "台鐵新基隆車站29日正式啟用\n",
      "6月28日各報頭版要聞\n",
      "基改不算真食物  法國人知情就不買\n",
      "八仙樂園舞台大火 逾400人輕重傷\n",
      "女子世界盃足球賽  日擊敗澳洲晉4強\n",
      "《農民曆小幫手》國曆六月二十八日\n",
      "江蕙得「特別貢獻獎」 感恩金曲肯定她\n",
      "大台北今高溫上探37度\n",
      "八仙樂園意外 毛揆取消視察臺東行程\n",
      "歐元區財長拒希臘延長救助計劃\n",
      "羅志祥哭了 蔡依林讚表現很好\n",
      "蔡依林淚奪金曲 錦榮傳訊恭喜\n",
      "風評：陷入獵巫遊戲的中資認定\n",
      "八仙樂園貼出暫停營業海報\n",
      "挪威「行動大雕」出沒 隨機射路人\n",
      "還是熱！西半部高溫達37度\n",
      "德國即將關閉使用最久核子反應爐\n",
      "陳奕迅、張惠妹稱王封后  蔡依林抱回最大獎\n",
      "八仙樂園爆炸案 專家認玉米粉危險性高應管制使用\n",
      "張娟芬專文：抽絲剝繭邱和順案\n",
      "2015空姐夏裝大盤點\n",
      "呂紹煒專欄：違約與退出 希臘與歐洲才能重生(上)\n",
      "八仙樂園粉塵燃爆 400人傷 負責人被移送\n",
      "觀點投書：讀中文系的人，應該反對課綱微調\n",
      "觀點投書：何謂新兵訓練\n",
      "觀點投書：災難中的護理人\n",
      "呂政璋觀點：點土成金新思維~以台灣柳丁為例\n",
      "觀點投書：招搖的進步\n",
      "中俄美競造5音速機彈\n",
      "手相看什麼樣的女人性格強勢\n",
      "面相看哪些人財運綿長不盡\n",
      "【美洲盃八強】巴西 VS. 巴拉圭 線上直播！\n",
      "塔羅占卜你今生最看重的是什麼\n",
      "蘇塞大屠殺 凶手畫面曝光\n",
      "希臘違約在即  歐盟全力穩定經濟\n",
      "陳奕迅、莫文蔚伴侶均不知阿娜答金曲獲獎\n",
      "希臘脫歐變可能 歐洲衝擊大\n",
      "塔羅占卜你是個有心機的人嗎？\n",
      "八仙案  新店慈濟4傷者危急\n",
      "希債協議  法國願盡最後斡旋努力\n",
      "挑選新鮮食物 大有學問\n",
      "調心養心 初夏多吃蔬果\n",
      "夏天吃什麼好 紅棗、苦瓜攏總來\n",
      "補鈣能手大比拚 牛奶吸收效果好\n",
      "暑假應考季 小心體內酸鹼失衡\n",
      "水果中的皇后 草莓多食好處多\n",
      "旺報觀點－鄭弘儀！別讓台灣人背黑鍋！\n",
      "古人愛西瓜 清明上河圖可佐證\n",
      "旺報觀點－紀念抗戰 台日中獲和解轉機\n",
      "陸官淪陪酒郎 2年10起醉死案\n",
      "慈禧愛西瓜盅 一天可吃數十個\n",
      "紀念抗戰 學者：反省、避免戰爭\n",
      "多位台老兵 受邀赴陸閱兵\n",
      "陸祭出新規 能上能下整肅官場\n",
      "首例 馬頒紀念章給新四軍老兵\n",
      "陸改革遇5瓶頸 難以落實基層\n",
      "金蟬花替代蟲草 浙民服用中毒\n",
      "鄭弘儀反紀念抗戰 陸批數典忘祖\n",
      "《經濟教室》白居易、蘇東坡看加薪\n",
      "大陸》A股紅火 中資想回家\n",
      "大陸》華人赴美置產不手軟\n",
      "北美》線上貸款業搶飯碗\n",
      "北美》加州光熱發電受挫\n",
      "歐洲》高貴的徵才條件\n",
      "東北亞》大眾運輸費變貴了\n",
      "歐洲》荷蘭的稻田發電\n",
      "一周大事－6月21日至27日\n",
      "社論－真道理性真愛台灣系列 7 打一場讓社會公平的\n",
      "有話要說－別害警察不敢用槍\n",
      "中間選民為洪秀柱按讚\n",
      "學生心態M化 台大有責任\n",
      "莫忘來時路／6月28日－先上車後補票成歷史\n",
      "短評－柯P 去上海吧\n",
      "花蓮民宅火警 1男嗆昏送醫\n",
      "新生代性感女神降臨　男粉絲擠爆簽書會\n",
      "屏東樂遊東港 住民宿探蚵殼島\n",
      "競選總部入厝　洪慈庸期許台中煥然一新\n",
      "超商父親節早鳥預購開跑　聶永真設計商品再次收藏\n",
      "八仙樂園爆炸案 負責人等5人移送\n",
      "希臘1／3提款機錢被提光\n",
      "八里爆炸意外衛生局凌晨公布314名傷患名單 分送27\n",
      "確保銀行穩定 希臘續與ECB緊密合作\n",
      "「我不說誰說？」世新廣電畢製《東所》受難者觀影\n",
      "八仙樂園爆炸 劣賊趁亂打劫\n",
      "侯友宜探視傷者：追究責任\n",
      "八仙樂園火警  國軍加入救援\n",
      "八仙樂園爆炸案災害應變中心　1時30分一級開設\n",
      "八仙派對彩粉釀大禍  衛福部：研議加強管理\n",
      "彩色派對主辦人：風勢太大，引燃粉塵\n",
      "希臘態度強硬 歐元區耐心漸失\n",
      "八仙樂園大火  傷者查詢電話\n",
      "金曲紅毯眾星出招　個人意見獨特見解\n",
      "派對彩粉首次釀禍  蔣丙煌：研議管理\n",
      "八仙樂園火警受傷名單一覽表\n",
      "00：35統計　八仙大火重傷97人、輕傷132人\n",
      "衛福部長：北北基醫護人員全力動員\n",
      "單親媽媽第一次下海就被逮　直呼太倒楣了！\n",
      "八仙樂園粉塵瞬燃　還原失事現場影片曝光\n",
      "八仙意外毛揆取消台東熱氣球活動\n",
      "八仙樂園爆炸案 士檢派3檢察官現場指揮\n",
      "八仙樂園爆炸案 3檢察官展開調查\n",
      "八仙爆炸案   陳國恩：全力支援\n",
      "八仙大火傷患爆量  衛福調度醫院\n",
      "八仙樂園意外 洪秀柱：為傷者祈福\n",
      "提升財運的家居風水\n",
      "如何化解感情上的爛桃花\n",
      "金曲26／陳奕迅二度擊敗張學友　濕身奪歌王\n",
      "金曲26／蔡依林擒３獎大勝　淚崩再挺婚姻平權\n",
      "金曲26／張惠妹奪歌后卻失落　要世界感受彩虹力量\n",
      "陳國恩指示警方全力動員 協助救護交通順暢\n",
      "八仙樂園爆炸228人輕重傷 朱立倫：無限期停業\n",
      "希臘盼展延債務 歐元區拒絕\n",
      "清真寺爆炸凶嫌所乘車 車主遭科國羈押\n",
      "金曲26／蔡依林淚奪最佳專輯＋完整得獎名單\n",
      "八仙樂園爆炸意外 朱立倫：立即停園接受調查\n",
      "北榮33名八里傷患  2/3傷重\n",
      "僅次Jolin！徐佳瑩入圍6獎全槓被封遺珠\n",
      "八仙樂園塵爆215傷　朱立倫下令即刻停業\n",
      "金曲最風光！蔡依林紅毯全勝又獲3獎成大贏家\n",
      "突尼西亞恐攻 已知15英人遇害\n",
      "八仙樂園爆炸 朱立倫4點指示\n",
      "張惠妹3度封后  想破江蕙紀錄\n",
      "金曲26／陳奕迅稱王謝台灣　張惠妹封后秒噴淚\n",
      "蔡依林呸大贏家  金曲最佳專輯獎\n",
      "【八仙意外】馬英九、毛治國第一時間得知　指示全\n",
      "陳奕迅二度打敗歌神  金曲歌王好嗨\n",
      "LOEWE瘋玩春夏 迷上日本漫畫\n",
      "捷運內湖站2分鐘 輕質2房最熱銷\n",
      "BV萬元小皮件 小資族快下手\n",
      "大人物攝影展開展吸人潮 方念華 時尚入境\n",
      "新板＋府中雙商圈 每坪60萬起\n",
      "北台灣最宜居新都心！\n",
      "Kelly Talk：艾力克斯讓兒挑衣 訓練衣Q\n",
      "氣墊粉霜又有新品 酷夏玩美肌\n",
      "金曲獎完整得獎名單！阿妹封后 陳奕迅稱王\n",
      "男裝周加映高級訂製服 GIVENCHY 黑珍珠使壞\n",
      "Margiela大衣掛帥 Berluti熱鬧色計\n",
      "Gap徵小小代言人 艾力克斯親子秀時尚\n",
      "行動不便為生活當馬伕 首天上班就被逮\n",
      "第26屆金曲獎 陳奕迅奪歌王、阿妹封歌后\n",
      "【八仙意外】讓專業的來！柯文哲指示啟動EOC\n",
      "八仙水上樂園爆炸逾百人傷　三軍總醫院收治傷患\n",
      "金曲最佳國語專輯：呸\n",
      "《金曲26》2015金曲獎得獎名單 線上直播懶人包\n"
     ]
    }
   ],
   "source": [
    "for ele in ary:\n",
    "    print ele"
   ]
  },
  {
   "cell_type": "code",
   "execution_count": 41,
   "metadata": {
    "collapsed": false
   },
   "outputs": [
    {
     "name": "stdout",
     "output_type": "stream",
     "text": [
      "[[  0  81  80 ..., 126 124 146]\n",
      " [  0  89  88 ..., 126 116 145]\n",
      " [ 73  65  64 ..., 120 113 144]\n",
      " ..., \n",
      " [ 73 101  99 ..., 120 135 140]\n",
      " [  0  91  92 ..., 131 138 139]\n",
      " [  0 102 101 ..., 130 139 138]]\n",
      "[  0  81  80  79  78  76  75  74  72  71  70  83  68  66  65  64  63  61\n",
      "  60  59  58  57  54  67  84  85  88 140 139 138 136 135 132 131 129 127\n",
      " 123 118 117 114 107 106 105 103 101  99  97  96  92  89  53  52  73  50\n",
      "  28  27  26  25  24  23  22  21  29  51  17  12  10   8   5   4   3   2\n",
      "  18  30  19  44  34  39  49  43  37  45  46  48  47   7 141  56  77 122\n",
      "  82  36  42  86  41  91   6 144  93  16   1  11  87 143 113   9  94  69\n",
      "  33 133  40  32  35 134 130  31 108  55  15  98 112 104  38 109  95 100\n",
      " 115  90 102 120 137 128 119 110  62 125 111 116  14 121  20 142  13 145\n",
      " 126 124 146]\n",
      "[  0  89  88  85  84  83  81  80  79  78  76  75  74  72  71  70  68  67\n",
      "  66  65  64  63  62  61  60  59  90  58  92  96 140 139 138 136 135 134\n",
      " 133 131 130 129 127 123 118 117 112 108 107 106 105 104 103 101  99  98\n",
      "  97  95  57  73  55  33   4  31  30  29  28   5  27  26  34  25  23  22\n",
      "  21   8  19  18  17  10  12  24  35  32  15  45  47  44  43  48  49   2\n",
      "  46  50  40  39  52  53  54   3  37  51   7 141 115  56  77 122  82  36\n",
      "  42  86  41  91   6 102  16   1  11 120  87 143 113   9 132  69 114  94\n",
      " 125 109 100 144 128  93 111  38  13 119 137 110 146 121 124 142  14  20\n",
      " 126 116 145]\n",
      "[ 73  65  64  63  62  61  60 119  58  66 121  53  52  51  50  49  48  99\n",
      "  46  54  45  67  69  92 107 108 109 111  85  84  83  68  80  78  76  75\n",
      "  74 116  72  71  70  79  44 125  19  20  43  18  17 137  15  14  12 138\n",
      "  10   9   8 139   5   3   2 142 136  23  94 135  40  39  38  37 129  35\n",
      "  24  33  32  34 132  31  30  26 131  27   7 141 115  56  81 122  82 101\n",
      "  89  21  42  13 128 146 124 126 140  59 130  28  98 112  86 134  77  36\n",
      "  97 103  95 100 117 104  47  57  55 110 114  29  22 118 133  91  96  11\n",
      "   4 105   0 127 145  90 106 123 102  93  87  88  41   1   6  25  16 143\n",
      " 120 113 144]\n",
      "[ 73  65  64  63  62  61  60 121  58  66 125  53  52  51  50  49  48  47\n",
      "  92  54  45 119  69  99 107 108 109 110  85  84  83  68  80  78 114  76\n",
      "  74 116  72  71  70  79  44  46  20  43  19  18  17 135  15 136 137  22\n",
      "  12  10   9   8 139   5   3   2 142 138  23  94 134 129  40  39  38 131\n",
      " 132  35  24  33  32  34  30  29 133  27  26  31   7 141 115  56  81 122\n",
      "  82  89  21  42 146 145 140  59 130 111  14  77  36  37  97  95 100 118\n",
      "  13 128  57  55 124 126  75  91  86  28  41  98  25  90 101 103  88   6\n",
      "  16   4   1   0  11  93  67  96 102 104 120 105 112 144 106 127 117  87\n",
      " 123 113 143]\n",
      "[  0  99  97  96  95  93  92  91  90  89  88  87  86  84 100  83  81  80\n",
      "  79  78  77  76  75  74  71  68  67  66  65  82  64 101 103 144 143 141\n",
      " 140 139 138 136 135 134 133 131 130 129 102 127 122 120 118 117 115 114\n",
      " 113 112 108 107 106 105 104 123  63  73  61  35  34  32  31  28  62  26\n",
      "  25  24  23  22  21  36  19  16  12  11  10   8   7   6   5   4   3   2\n",
      "   1  17  37  27  52  53  56  57  50  48  55  59  47  46  45  58  54  43\n",
      "  42  39  41  40 132  60  49  72  30  85  69  51  70  15  44  33  18  98\n",
      " 111  94  13   9  29 110 119 146  38 124 109 125 116 121 137 126 145  14\n",
      " 128  20 142]\n",
      "[  0  98  97  96  95  94  92  90  89  88  85  84  83  81  80  79  78  76\n",
      "  75  74  72  70  69  68  67  66  65  64 101 104 105 106 142 140 139 138\n",
      " 137 136 135 134 133 132 131 130 129  63 127 123 121 119 118 117 116 114\n",
      " 112 111 110 109 108 107 125  62  73  60  34  33  32  61  30  29  28  27\n",
      "  26  25  24  23  22  21  20  19  18  15  14  12  10   9   8   5   4   3\n",
      "   2  35  37  31  38  52  53  54  55  51  50  49  48  47  45  44  43  46\n",
      "  57  58  59  39  40   7 115  56  77 122  82  36  42  13  41 128  91 100\n",
      "   6 144 102  93 146 145  16   1 124  11 126 120  87 143 113  99  17  71\n",
      " 103  86 141]\n",
      "[ 73 101  99  98  97  96  95  94  93  92  90  89  87  86  85  84  83  82\n",
      "  81  80  79  78  76  75 145  72  71  70  69  68 103 104 105 106 142 141\n",
      " 139 138 137 136 134 133 132 131 129 128 126 125  67 124 122 121 119 118\n",
      " 117 116 115 114 112 111 110 109 108 107 123  66 146  64  33  32  65  30\n",
      "  29  28  27  26  24  23  22  21  20  19  34  18  16  15  14  13  12  11\n",
      "  10   9   8   7   5   3   2   1  17  35  31  52  55  51  50  56  48  47\n",
      "  57  58  59  53  60  44  62  43  42  41  40  39  38  37  63  61  54  77\n",
      "  36 130  91 100  88   4   6 144 102   0 127  25 143 113  45  46  74  49\n",
      " 120 135 140]\n",
      "[  0  91  92  93  94  95  96  90  97  99 100 101 102 103 104  98 105  89\n",
      "  87 145  74  75  76  77  78  88  79  81  82  83  84  85  86  80  72 106\n",
      " 108 127 128 130 132 133 134 126 135 137 140 141 142 143 144 136 107 125\n",
      " 123 109 110 111 112 113 114 124 115 117 118 119 120 121 122 116  71  73\n",
      "  69  19  20  21  22  23  24  18  25  27  28  29  30  31  70  26  33  17\n",
      "  15   1   2   3   4   5   6  16   7   9  10  11  12  13  14   8  34  32\n",
      "  36  35  56  57  58  59  60  54  61  63  64  65  66  67  68  62  53  55\n",
      "  51  37  38  39  40  41  42  52  44  43  46  47  48  49  50  45 146 129\n",
      " 131 138 139]\n",
      "[  0 102 101 100  99  98  97  96  95  94  93  92  91  90  89  88  87  86\n",
      "  72 145  74  75  76  77 103  78  80  81  82  83  84  85  79 104 105 106\n",
      " 126 127 128 131 132 133 125 134 137 140 141 142 143 144 136  71 124 122\n",
      " 108 109 110 111 112 113 123 114 116 117 118 119 120 121 115  70  73  68\n",
      "  31  30  29  28  27  26  25  24  23  22  21  20  19  18  17  16  15   1\n",
      "   2   3   4   5   6  69   7   9  10  11  12  13  14   8  33  32  35  53\n",
      "  34  55  56  57  59  52  60  62  63  64  65  66  67  61  51  54  49  36\n",
      "  37  38  39  40  41  50  42 146  44  45  46  47  48  43 129 107  58 135\n",
      " 130 139 138]\n"
     ]
    }
   ],
   "source": [
    "related_docs_indices = cosine_similarities.argsort()[:-10:-1]\n",
    "print related_docs_indices\n",
    "for index in related_docs_indices:\n",
    "    print index"
   ]
  },
  {
   "cell_type": "code",
   "execution_count": 438,
   "metadata": {
    "collapsed": false
   },
   "outputs": [
    {
     "name": "stdout",
     "output_type": "stream",
     "text": [
      "[ 1.  0.  0. ...,  0.  0.  1.]\n"
     ]
    }
   ],
   "source": [
    "from sklearn.metrics.pairwise import linear_kernel\n",
    "n_cosine_similarities = linear_kernel(tfidf, tfidf)\n",
    "print cosine_similarities"
   ]
  },
  {
   "cell_type": "markdown",
   "metadata": {},
   "source": [
    "## 使用PCA 降維資料"
   ]
  },
  {
   "cell_type": "code",
   "execution_count": 42,
   "metadata": {
    "collapsed": false
   },
   "outputs": [
    {
     "name": "stderr",
     "output_type": "stream",
     "text": [
      "C:\\Python27\\lib\\site-packages\\numpy\\core\\_methods.py:59: RuntimeWarning: Mean of empty slice.\n",
      "  warnings.warn(\"Mean of empty slice.\", RuntimeWarning)\n"
     ]
    },
    {
     "ename": "TypeError",
     "evalue": "object of type 'PCA' has no len()",
     "output_type": "error",
     "traceback": [
      "\u001b[1;31m---------------------------------------------------------------------------\u001b[0m",
      "\u001b[1;31mTypeError\u001b[0m                                 Traceback (most recent call last)",
      "\u001b[1;32m<ipython-input-42-e4a531dea3c1>\u001b[0m in \u001b[0;36m<module>\u001b[1;34m()\u001b[0m\n\u001b[0;32m      7\u001b[0m \u001b[0mpca\u001b[0m \u001b[1;33m=\u001b[0m \u001b[0mPCA\u001b[0m\u001b[1;33m(\u001b[0m\u001b[0mn_components\u001b[0m\u001b[1;33m=\u001b[0m\u001b[1;36m2\u001b[0m\u001b[1;33m)\u001b[0m\u001b[1;33m\u001b[0m\u001b[0m\n\u001b[0;32m      8\u001b[0m \u001b[0ma\u001b[0m \u001b[1;33m=\u001b[0m \u001b[0mpca\u001b[0m\u001b[1;33m.\u001b[0m\u001b[0mfit\u001b[0m\u001b[1;33m(\u001b[0m\u001b[0mn_cosine_similarities\u001b[0m\u001b[1;33m)\u001b[0m\u001b[1;33m\u001b[0m\u001b[0m\n\u001b[1;32m----> 9\u001b[1;33m \u001b[1;32mprint\u001b[0m \u001b[0mlen\u001b[0m\u001b[1;33m(\u001b[0m\u001b[0ma\u001b[0m\u001b[1;33m)\u001b[0m\u001b[1;33m\u001b[0m\u001b[0m\n\u001b[0m",
      "\u001b[1;31mTypeError\u001b[0m: object of type 'PCA' has no len()"
     ]
    }
   ],
   "source": [
    "#from sklearn import cluster\n",
    "#c = cluster.KMeans(n_cosine_similarities,3)\n",
    "#print c.n_clusters\n",
    "\n",
    "import numpy as np\n",
    "from sklearn.decomposition import PCA\n",
    "pca = PCA(n_components=2)\n",
    "a = pca.fit(n_cosine_similarities)\n",
    "print len(a)"
   ]
  },
  {
   "cell_type": "code",
   "execution_count": 43,
   "metadata": {
    "collapsed": false
   },
   "outputs": [
    {
     "name": "stdout",
     "output_type": "stream",
     "text": [
      "(147, 2)\n"
     ]
    }
   ],
   "source": [
    "from sklearn import cluster\n",
    "pca = PCA(n_components=2)\n",
    "pca_data = pca.fit_transform(cosine_similarities)\n",
    "\n",
    "print pca_data.shape"
   ]
  },
  {
   "cell_type": "code",
   "execution_count": 44,
   "metadata": {
    "collapsed": false
   },
   "outputs": [
    {
     "name": "stdout",
     "output_type": "stream",
     "text": [
      "(147, 147)\n"
     ]
    }
   ],
   "source": [
    "print cosine_similarities.shape"
   ]
  },
  {
   "cell_type": "code",
   "execution_count": 45,
   "metadata": {
    "collapsed": false
   },
   "outputs": [
    {
     "name": "stdout",
     "output_type": "stream",
     "text": [
      "(147, 1881)\n"
     ]
    }
   ],
   "source": [
    "print weight.shape"
   ]
  },
  {
   "cell_type": "code",
   "execution_count": 50,
   "metadata": {
    "collapsed": false
   },
   "outputs": [],
   "source": [
    "param = [{'model':cluster.KMeans(n_clusters=10),\n",
    "          'title':'KMeans'}]\n",
    "c = param[0]['model']\n",
    "k_data = c.fit_predict(weight)\n"
   ]
  },
  {
   "cell_type": "markdown",
   "metadata": {},
   "source": [
    "## 檢視資料與Sum of Square"
   ]
  },
  {
   "cell_type": "code",
   "execution_count": 51,
   "metadata": {
    "collapsed": false
   },
   "outputs": [
    {
     "name": "stdout",
     "output_type": "stream",
     "text": [
      "(147,)\n",
      "130.21794048\n"
     ]
    }
   ],
   "source": [
    "print k_data.shape\n",
    "print c.inertia_"
   ]
  },
  {
   "cell_type": "code",
   "execution_count": 56,
   "metadata": {
    "collapsed": false
   },
   "outputs": [
    {
     "name": "stdout",
     "output_type": "stream",
     "text": [
      "台鐵新基隆車站29日正式啟用\n",
      "八仙樂園舞台大火 逾400人輕重傷\n",
      "女子世界盃足球賽  日擊敗澳洲晉4強\n",
      "大台北今高溫上探37度\n",
      "八仙樂園意外 毛揆取消視察臺東行程\n",
      "八仙樂園貼出暫停營業海報\n",
      "還是熱！西半部高溫達37度\n",
      "八仙樂園粉塵燃爆 400人傷 負責人被移送\n",
      "歐洲》高貴的徵才條件\n",
      "東北亞》大眾運輸費變貴了\n",
      "八仙樂園爆炸 劣賊趁亂打劫\n",
      "侯友宜探視傷者：追究責任\n",
      "八仙樂園火警  國軍加入救援\n",
      "八仙樂園爆炸案災害應變中心　1時30分一級開設\n",
      "八仙樂園火警受傷名單一覽表\n",
      "八仙意外毛揆取消台東熱氣球活動\n",
      "八仙樂園爆炸案 士檢派3檢察官現場指揮\n",
      "八仙樂園爆炸案 3檢察官展開調查\n",
      "八仙爆炸案   陳國恩：全力支援\n",
      "八仙樂園意外 洪秀柱：為傷者祈福\n",
      "陳國恩指示警方全力動員 協助救護交通順暢\n",
      "八仙樂園爆炸228人輕重傷 朱立倫：無限期停業\n",
      "八仙樂園爆炸意外 朱立倫：立即停園接受調查\n",
      "北榮33名八里傷患  2/3傷重\n",
      "八仙樂園塵爆215傷　朱立倫下令即刻停業\n",
      "突尼西亞恐攻 已知15英人遇害\n",
      "八仙樂園爆炸 朱立倫4點指示\n",
      "【八仙意外】馬英九、毛治國第一時間得知　指示全\n",
      "Gap徵小小代言人 艾力克斯親子秀時尚\n",
      "行動不便為生活當馬伕 首天上班就被逮\n",
      "【八仙意外】讓專業的來！柯文哲指示啟動EOC\n",
      "八仙水上樂園爆炸逾百人傷　三軍總醫院收治傷患\n"
     ]
    }
   ],
   "source": [
    "for id, i in enumerate(k_data):\n",
    "    if i == 4:\n",
    "        print ary[id]\n",
    "\n",
    "#print ary[0]\n",
    "#print ary[1]\n",
    "#print ary[3]"
   ]
  },
  {
   "cell_type": "markdown",
   "metadata": {},
   "source": [
    "## 視覺化呈現分群結果"
   ]
  },
  {
   "cell_type": "code",
   "execution_count": 58,
   "metadata": {
    "collapsed": false
   },
   "outputs": [
    {
     "name": "stdout",
     "output_type": "stream",
     "text": [
      "[[ -4.82892054e-01  -1.20848312e-01]\n",
      " [ -3.31142404e-01  -1.19192847e-01]\n",
      " [  1.34610908e-01   1.86601595e-01]\n",
      " [  1.02922389e-01   1.42994038e-01]\n",
      " [ -5.06425207e-01  -9.92628015e-02]\n",
      " [  1.26330216e-01   1.61720131e-01]\n",
      " [ -3.89858868e-01  -7.33056414e-02]\n",
      " [  8.14725884e-02   1.00776437e-01]\n",
      " [  1.15130699e-01   1.42930063e-01]\n",
      " [  1.68517584e-01  -3.88867681e-02]\n",
      " [  1.03240992e-01   1.66763598e-01]\n",
      " [ -4.88734424e-01  -1.01991800e-01]\n",
      " [  1.70736604e-01   2.55362674e-01]\n",
      " [  2.08037230e-01  -3.13014231e-01]\n",
      " [  4.34740660e-01  -7.16871002e-01]\n",
      " [  1.49657977e-01   1.62001716e-01]\n",
      " [ -5.81561390e-01  -1.58725031e-01]\n",
      " [  1.04598017e-01   1.47557706e-01]\n",
      " [  1.07013227e-01   1.46104427e-01]\n",
      " [  1.14682794e-01   1.36403297e-01]\n",
      " [  4.46854478e-01  -7.19960993e-01]\n",
      " [ -1.77496879e-01   4.12482065e-02]\n",
      " [  1.17953887e-01   1.07804844e-01]\n",
      " [  1.15130699e-01   1.42930063e-01]\n",
      " [  1.17749129e-01   2.26429938e-01]\n",
      " [ -5.86662563e-01  -1.55249189e-01]\n",
      " [  1.31038638e-01   1.56424403e-01]\n",
      " [  1.03570780e-01   1.49642358e-01]\n",
      " [  3.58029321e-03   9.15344536e-02]\n",
      " [  1.20369717e-01   1.28274521e-01]\n",
      " [  1.20621544e-01   1.27867881e-01]\n",
      " [  1.13886632e-01   1.28505120e-01]\n",
      " [  1.10789071e-01   1.50721358e-01]\n",
      " [  1.10468876e-01   1.18132336e-01]\n",
      " [  1.34910849e-01   1.49936763e-01]\n",
      " [  1.26738566e-01   1.19965647e-01]\n",
      " [  6.02547786e-03   6.88270128e-02]\n",
      " [  1.13290347e-01   2.76884620e-01]\n",
      " [  3.22877972e-01  -3.32136874e-01]\n",
      " [  1.51751302e-01   2.62289590e-01]\n",
      " [  1.30767683e-01   1.63196156e-01]\n",
      " [ -1.26645263e-01  -1.26129848e-02]\n",
      " [  1.19657827e-01   1.79543135e-01]\n",
      " [  8.71583439e-02   1.48179215e-01]\n",
      " [  1.28109520e-01   1.43580812e-01]\n",
      " [  1.20479066e-01   1.57447065e-01]\n",
      " [  1.16047860e-01   1.57022284e-01]\n",
      " [  1.06611775e-01   1.57534278e-01]\n",
      " [  1.16793500e-01   1.56721598e-01]\n",
      " [  1.31519460e-01   1.48704020e-01]\n",
      " [  1.03344812e-01   1.59600880e-01]\n",
      " [  1.47624683e-01   1.68213089e-01]\n",
      " [  8.90740242e-02   1.49629117e-01]\n",
      " [  9.74864867e-02   1.41846885e-01]\n",
      " [  1.04746738e-01   1.87526345e-01]\n",
      " [  1.21952694e-01   1.55648750e-01]\n",
      " [  8.35462223e-02   1.11855053e-01]\n",
      " [  1.04885750e-01   1.76382238e-01]\n",
      " [  1.22293795e-01   1.89342738e-01]\n",
      " [  6.23414249e-02   1.37212316e-01]\n",
      " [  1.34308984e-01   1.55762424e-01]\n",
      " [  1.26358784e-01   1.66176327e-01]\n",
      " [  1.41743700e-01   1.50491690e-01]\n",
      " [  1.13363157e-01   1.67719462e-01]\n",
      " [  1.28319154e-01   1.70037921e-01]\n",
      " [  1.27298005e-01   1.59122242e-01]\n",
      " [  5.42160637e-02   1.43252905e-01]\n",
      " [  3.52000114e-02   6.81012876e-02]\n",
      " [  1.38678828e-01   1.68542979e-01]\n",
      " [  1.62699605e-01   6.89961110e-02]\n",
      " [  1.23031439e-01   1.39561423e-01]\n",
      " [  1.02678431e-01   1.47903550e-01]\n",
      " [  1.02740675e-01   1.32450518e-01]\n",
      " [  6.18726236e-02   1.34194161e-01]\n",
      " [  1.24537109e-01   1.63812357e-01]\n",
      " [  1.11449200e-01   1.88410112e-01]\n",
      " [  8.36658138e-02   1.35267584e-01]\n",
      " [  9.86090972e-04   6.64840216e-02]\n",
      " [  9.81574660e-02   1.36163565e-01]\n",
      " [  1.45258276e-01   1.31248021e-01]\n",
      " [  1.30359815e-01   1.41190497e-01]\n",
      " [ -1.02204025e-01   6.68005518e-02]\n",
      " [  9.20740555e-02   1.36143219e-01]\n",
      " [  1.10373566e-01   1.40643710e-01]\n",
      " [  1.30059049e-01   2.19547558e-01]\n",
      " [  1.29875799e-01   9.27620161e-02]\n",
      " [ -1.70872026e-01   1.11614522e-02]\n",
      " [ -7.61071717e-01  -2.28565545e-01]\n",
      " [ -3.72381234e-01  -3.73995019e-02]\n",
      " [ -2.16430414e-01   2.38613653e-02]\n",
      " [ -6.65550838e-01  -1.58057503e-01]\n",
      " [ -3.57659329e-01  -7.18416082e-02]\n",
      " [  1.60844315e-01   2.68748389e-01]\n",
      " [ -5.17683766e-01  -1.63789767e-01]\n",
      " [  2.12680393e-01  -1.10580519e-01]\n",
      " [ -5.66793577e-01  -1.23365988e-01]\n",
      " [ -2.07590635e-01  -4.03923198e-02]\n",
      " [ -2.32803727e-01   1.76024847e-02]\n",
      " [ -2.27629557e-01  -1.27637027e-02]\n",
      " [  1.03441596e-01   1.48470183e-01]\n",
      " [ -2.62472157e-01  -1.05282154e-01]\n",
      " [ -2.82995072e-01   1.69759381e-03]\n",
      " [ -4.83755732e-01  -1.30354601e-01]\n",
      " [ -4.54257564e-01  -6.05603655e-02]\n",
      " [ -4.35778493e-01  -5.60970704e-02]\n",
      " [ -4.17648277e-01  -1.12572381e-01]\n",
      " [ -5.90392556e-01  -1.15486546e-01]\n",
      " [  1.22104589e-01   1.72516180e-01]\n",
      " [  1.25494599e-01   1.38306169e-01]\n",
      " [  2.97032591e-01  -2.47557062e-01]\n",
      " [  2.86891022e-01  -2.64954863e-01]\n",
      " [  2.77953809e-01  -3.16394221e-01]\n",
      " [ -4.14176955e-01  -4.94349692e-02]\n",
      " [ -1.03798522e+00  -3.28391470e-01]\n",
      " [  1.57896153e-01   2.68418407e-01]\n",
      " [  7.87160598e-02   9.29550591e-02]\n",
      " [  4.20289560e-01  -7.01533111e-01]\n",
      " [ -6.73301249e-01  -1.35593801e-01]\n",
      " [ -1.78775960e-01  -1.51007027e-02]\n",
      " [  3.57098202e-01  -4.39245033e-01]\n",
      " [ -6.67274570e-01  -2.01093630e-01]\n",
      " [  4.25681282e-01  -6.07986171e-01]\n",
      " [  6.61584851e-02   9.99760903e-02]\n",
      " [ -7.41481118e-01  -1.82286972e-01]\n",
      " [  3.64038980e-01  -6.62909718e-01]\n",
      " [  3.77584075e-01  -4.55219815e-01]\n",
      " [  4.34179265e-01  -8.28678097e-01]\n",
      " [ -6.94261047e-01  -1.47177990e-01]\n",
      " [  2.85402209e-01  -4.31813746e-01]\n",
      " [  1.17913458e-01   1.48383097e-01]\n",
      " [ -7.44827198e-03   1.04705124e-01]\n",
      " [  1.21373135e-01   1.52313990e-01]\n",
      " [  1.37858894e-01   5.19276336e-02]\n",
      " [  6.44488193e-02   1.29080252e-01]\n",
      " [  8.04643335e-02   1.02011435e-01]\n",
      " [  1.36104471e-01   1.47019055e-01]\n",
      " [  1.16823600e-01   1.47536337e-01]\n",
      " [  3.36775693e-01  -5.46536314e-01]\n",
      " [  1.20369931e-01   1.56791960e-01]\n",
      " [  1.18920188e-01   1.50423784e-01]\n",
      " [  4.22348645e-02   1.24389523e-01]\n",
      " [  6.82436734e-02   9.90779172e-02]\n",
      " [  5.16531299e-01  -8.02515112e-01]\n",
      " [ -7.48069174e-01  -2.65246192e-01]\n",
      " [ -4.17670151e-01  -1.17670033e-01]\n",
      " [  3.99494275e-01  -7.72290728e-01]\n",
      " [  2.53742141e-01  -5.25182666e-01]]\n"
     ]
    }
   ],
   "source": [
    "print pca_data"
   ]
  },
  {
   "cell_type": "code",
   "execution_count": 59,
   "metadata": {
    "collapsed": false
   },
   "outputs": [
    {
     "ename": "IndexError",
     "evalue": "string index out of range",
     "output_type": "error",
     "traceback": [
      "\u001b[1;31m---------------------------------------------------------------------------\u001b[0m",
      "\u001b[1;31mIndexError\u001b[0m                                Traceback (most recent call last)",
      "\u001b[1;32m<ipython-input-59-e8961a1ced05>\u001b[0m in \u001b[0;36m<module>\u001b[1;34m()\u001b[0m\n\u001b[0;32m      1\u001b[0m \u001b[0mfig\u001b[0m\u001b[1;33m,\u001b[0m \u001b[0maxes\u001b[0m \u001b[1;33m=\u001b[0m \u001b[0mplt\u001b[0m\u001b[1;33m.\u001b[0m\u001b[0msubplots\u001b[0m\u001b[1;33m(\u001b[0m\u001b[0mncols\u001b[0m\u001b[1;33m=\u001b[0m\u001b[1;36m1\u001b[0m\u001b[1;33m,\u001b[0m \u001b[0mnrows\u001b[0m\u001b[1;33m=\u001b[0m\u001b[1;36m1\u001b[0m\u001b[1;33m,\u001b[0m\u001b[0mfigsize\u001b[0m\u001b[1;33m=\u001b[0m\u001b[1;33m(\u001b[0m\u001b[1;36m10\u001b[0m\u001b[1;33m,\u001b[0m\u001b[1;36m5\u001b[0m\u001b[1;33m)\u001b[0m\u001b[1;33m)\u001b[0m\u001b[1;33m\u001b[0m\u001b[0m\n\u001b[1;32m----> 2\u001b[1;33m \u001b[0maxes\u001b[0m\u001b[1;33m.\u001b[0m\u001b[0mscatter\u001b[0m\u001b[1;33m(\u001b[0m\u001b[0mpca_data\u001b[0m\u001b[1;33m[\u001b[0m\u001b[1;33m:\u001b[0m\u001b[1;33m,\u001b[0m\u001b[1;36m0\u001b[0m\u001b[1;33m]\u001b[0m\u001b[1;33m,\u001b[0m \u001b[0mpca_data\u001b[0m\u001b[1;33m[\u001b[0m\u001b[1;33m:\u001b[0m\u001b[1;33m,\u001b[0m\u001b[1;36m1\u001b[0m\u001b[1;33m]\u001b[0m\u001b[1;33m,\u001b[0m \u001b[0mc\u001b[0m\u001b[1;33m=\u001b[0m\u001b[1;33m[\u001b[0m\u001b[1;34m'rgbyc'\u001b[0m\u001b[1;33m[\u001b[0m\u001b[0mi\u001b[0m\u001b[1;33m]\u001b[0m \u001b[1;32mfor\u001b[0m \u001b[0mi\u001b[0m \u001b[1;32min\u001b[0m \u001b[0mk_data\u001b[0m \u001b[1;33m]\u001b[0m\u001b[1;33m,\u001b[0m \u001b[0ms\u001b[0m\u001b[1;33m=\u001b[0m\u001b[1;36m200\u001b[0m\u001b[1;33m)\u001b[0m\u001b[1;33m\u001b[0m\u001b[0m\n\u001b[0m\u001b[0;32m      3\u001b[0m \u001b[0maxes\u001b[0m\u001b[1;33m.\u001b[0m\u001b[0mset_title\u001b[0m\u001b[1;33m(\u001b[0m\u001b[0mparam\u001b[0m\u001b[1;33m[\u001b[0m\u001b[1;36m0\u001b[0m\u001b[1;33m]\u001b[0m\u001b[1;33m[\u001b[0m\u001b[1;34m'title'\u001b[0m\u001b[1;33m]\u001b[0m\u001b[1;33m)\u001b[0m\u001b[1;33m\u001b[0m\u001b[0m\n",
      "\u001b[1;31mIndexError\u001b[0m: string index out of range"
     ]
    },
    {
     "data": {
      "image/png": "[encoded data removed]",
      "text/plain": [
       "<matplotlib.figure.Figure at 0x13d20710>"
      ]
     },
     "metadata": {},
     "output_type": "display_data"
    }
   ],
   "source": [
    "fig, axes = plt.subplots(ncols=1, nrows=1,figsize=(10,5))\n",
    "axes.scatter(pca_data[:,0], pca_data[:,1], c=['rgbyc'[i] for i in k_data ], s=200)\n",
    "axes.set_title(param[0]['title'])"
   ]
  },
  {
   "cell_type": "code",
   "execution_count": 331,
   "metadata": {
    "collapsed": false
   },
   "outputs": [
    {
     "name": "stdout",
     "output_type": "stream",
     "text": [
      "[u'disk', u'format', u'hard', u'how', u'my', u'problems', u'to']\n",
      "[[1 1]\n",
      " [1 1]\n",
      " [1 1]\n",
      " [1 0]\n",
      " [1 0]\n",
      " [0 1]\n",
      " [1 0]]\n"
     ]
    }
   ],
   "source": [
    "from sklearn.feature_extraction.text import CountVectorizer\n",
    "vectorizer = CountVectorizer(min_df=1)\n",
    "content = [\"How to format my hard disk\", \" Hard disk format problems \"]\n",
    "X = vectorizer.fit_transform(content)\n",
    "print vectorizer.get_feature_names()\n",
    "print(X.toarray().transpose())\n"
   ]
  },
  {
   "cell_type": "code",
   "execution_count": 338,
   "metadata": {
    "collapsed": false
   },
   "outputs": [
    {
     "name": "stdout",
     "output_type": "stream",
     "text": [
      "#samples: 5, #features: 25\n",
      "[u'about', u'actually', u'capabilities', u'contains', u'data', u'databases', u'images', u'imaging', u'interesting', u'is', u'it', u'learning', u'machine', u'most', u'much', u'not', u'permanently', u'post', u'provide', u'safe', u'storage', u'store', u'stuff', u'this', u'toy']\n"
     ]
    }
   ],
   "source": [
    "import os\n",
    "\n",
    "posts = [open(os.path.join('toy/', f)).read() for f in os.listdir('toy')]\n",
    "\n",
    "from sklearn.feature_extraction.text import CountVectorizer\n",
    "vectorizer = CountVectorizer(min_df=1)\n",
    "\n",
    "X_train = vectorizer.fit_transform(posts)\n",
    "num_samples, num_features = X_train.shape\n",
    "\n",
    "print(\"#samples: %d, #features: %d\" % (num_samples,num_features)) \n",
    "print(vectorizer.get_feature_names())\n"
   ]
  },
  {
   "cell_type": "code",
   "execution_count": 339,
   "metadata": {
    "collapsed": false
   },
   "outputs": [
    {
     "name": "stdout",
     "output_type": "stream",
     "text": [
      "  (0, 5)\t1\n",
      "  (0, 7)\t1\n",
      "[[0 0 0 0 0 1 0 1 0 0 0 0 0 0 0 0 0 0 0 0 0 0 0 0 0]]\n"
     ]
    }
   ],
   "source": [
    "new_post = \"imaging databases\"\n",
    "new_post_vec = vectorizer.transform([new_post])\n",
    "print new_post_vec\n",
    "print(new_post_vec.toarray())\n"
   ]
  },
  {
   "cell_type": "code",
   "execution_count": 342,
   "metadata": {
    "collapsed": true
   },
   "outputs": [],
   "source": [
    "import scipy as sp\n",
    "def dist_raw(v1, v2):\n",
    "    delta = v1-v2\n",
    "    return sp.linalg.norm(delta.toarray())\n"
   ]
  },
  {
   "cell_type": "code",
   "execution_count": 343,
   "metadata": {
    "collapsed": false
   },
   "outputs": [
    {
     "name": "stdout",
     "output_type": "stream",
     "text": [
      "=== Post 0 with dist=4.00: This is a toy post about machine learning. Actually, it contains not much interesting stuff.\n",
      "=== Post 1 with dist=1.73: Imaging databases provide storage capabilities.\n",
      "=== Post 2 with dist=2.00: Most imaging databases safe images permanently.\n",
      "=== Post 3 with dist=1.41: Imaging databases store data.\n",
      "=== Post 4 with dist=5.10: Imaging databases store data. Imaging databases store data. Imaging databases store data.\n",
      "Best post is 3 with dist=1.41\n"
     ]
    }
   ],
   "source": [
    "import sys\n",
    "best_doc = None\n",
    "best_dist = sys.maxint\n",
    "best_i = None\n",
    "for i in range(0, num_samples):\n",
    "    post = posts[i]\n",
    "    if post==new_post:\n",
    "        continue\n",
    "    post_vec = X_train.getrow(i)\n",
    "    d = dist_raw(post_vec, new_post_vec)\n",
    "    print \"=== Post %i with dist=%.2f: %s\"%(i, d, post)\n",
    "    if d<best_dist:\n",
    "        best_dist = d\n",
    "        best_i = i\n",
    "print(\"Best post is %i with dist=%.2f\"%(best_i, best_dist))\n"
   ]
  },
  {
   "cell_type": "code",
   "execution_count": 344,
   "metadata": {
    "collapsed": true
   },
   "outputs": [],
   "source": [
    "def dist_norm(v1, v2):\n",
    "    v1_normalized = v1/sp.linalg.norm(v1.toarray())\n",
    "    v2_normalized = v2/sp.linalg.norm(v2.toarray())\n",
    "    delta = v1_normalized - v2_normalized\n",
    "    return sp.linalg.norm(delta.toarray())\n"
   ]
  },
  {
   "cell_type": "code",
   "execution_count": 345,
   "metadata": {
    "collapsed": false
   },
   "outputs": [
    {
     "data": {
      "text/plain": [
       "['a',\n",
       " 'about',\n",
       " 'above',\n",
       " 'across',\n",
       " 'after',\n",
       " 'afterwards',\n",
       " 'again',\n",
       " 'against',\n",
       " 'all',\n",
       " 'almost']"
      ]
     },
     "execution_count": 345,
     "metadata": {},
     "output_type": "execute_result"
    }
   ],
   "source": [
    "vectorizer = CountVectorizer(min_df=1, stop_words='english')\n",
    "sorted(vectorizer.get_stop_words())[0:10]\n"
   ]
  },
  {
   "cell_type": "code",
   "execution_count": 346,
   "metadata": {
    "collapsed": false
   },
   "outputs": [
    {
     "data": {
      "text/plain": [
       "u'imagin'"
      ]
     },
     "execution_count": 346,
     "metadata": {},
     "output_type": "execute_result"
    }
   ],
   "source": [
    "import nltk.stem\n",
    "s= nltk.stem.SnowballStemmer('english')\n",
    "s.stem(\"graphics\")\n",
    "\n",
    "s.stem(\"imaging\")\n",
    "s.stem(\"image\")\n",
    "s.stem(\"imagination\")\n",
    "s.stem(\"imagine\")\n",
    "\n"
   ]
  },
  {
   "cell_type": "code",
   "execution_count": 347,
   "metadata": {
    "collapsed": true
   },
   "outputs": [],
   "source": [
    "import nltk.stem\n",
    "english_stemmer = nltk.stem.SnowballStemmer('english')\n",
    "class StemmedCountVectorizer(CountVectorizer):\n",
    "    def build_analyzer(self):\n",
    "        analyzer = super(StemmedCountVectorizer, self).build_analyzer()\n",
    "        return lambda doc: (english_stemmer.stem(w) for w in analyzer(doc))\n",
    "vectorizer = StemmedCountVectorizer(min_df=1, stop_words='english')\n"
   ]
  }
 ],
 "metadata": {
  "kernelspec": {
   "display_name": "Python 2",
   "language": "python",
   "name": "python2"
  },
  "language_info": {
   "codemirror_mode": {
    "name": "ipython",
    "version": 2
   },
   "file_extension": ".py",
   "mimetype": "text/x-python",
   "name": "python",
   "nbconvert_exporter": "python",
   "pygments_lexer": "ipython2",
   "version": "2.7.10"
  }
 },
 "nbformat": 4,
 "nbformat_minor": 0
}
