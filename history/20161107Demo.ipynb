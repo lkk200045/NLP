{
 "cells": [
  {
   "cell_type": "markdown",
   "metadata": {},
   "source": [
    "## Python Basic"
   ]
  },
  {
   "cell_type": "code",
   "execution_count": 1,
   "metadata": {
    "collapsed": false
   },
   "outputs": [
    {
     "data": {
      "text/plain": [
       "5"
      ]
     },
     "execution_count": 1,
     "metadata": {},
     "output_type": "execute_result"
    }
   ],
   "source": [
    "a = 3\n",
    "b = 2\n",
    "a + b"
   ]
  },
  {
   "cell_type": "code",
   "execution_count": 3,
   "metadata": {
    "collapsed": false
   },
   "outputs": [
    {
     "data": {
      "text/plain": [
       "6"
      ]
     },
     "execution_count": 3,
     "metadata": {},
     "output_type": "execute_result"
    }
   ],
   "source": [
    "a * 2"
   ]
  },
  {
   "cell_type": "markdown",
   "metadata": {
    "collapsed": true
   },
   "source": [
    "## 蘋果新聞爬蟲"
   ]
  },
  {
   "cell_type": "code",
   "execution_count": 10,
   "metadata": {
    "collapsed": false
   },
   "outputs": [
    {
     "name": "stdout",
     "output_type": "stream",
     "text": [
      "<class 'requests.models.Response'>\n"
     ]
    }
   ],
   "source": [
    "import requests\n",
    "res = requests.get('http://www.appledaily.com.tw/realtimenews/section/new/')\n",
    "print(type(res))"
   ]
  },
  {
   "cell_type": "markdown",
   "metadata": {},
   "source": [
    "## BeautifulSoup 操作"
   ]
  },
  {
   "cell_type": "code",
   "execution_count": 12,
   "metadata": {
    "collapsed": false
   },
   "outputs": [
    {
     "name": "stdout",
     "output_type": "stream",
     "text": [
      "<class 'bs4.BeautifulSoup'>\n",
      "\n",
      "\n",
      "\n",
      "Hello World\n",
      "This is link1\n",
      "This is link2\n",
      "\n",
      "\n",
      "\n"
     ]
    }
   ],
   "source": [
    "from bs4 import BeautifulSoup\n",
    "html_sample = '''\n",
    "<html> \n",
    " <body> \n",
    " <h1 id=\"title\">Hello World</h1> \n",
    " <a href=\"#\" class=\"link\">This is link1</a> \n",
    " <a href=\"# link2\" class=\"link\">This is link2</a> \n",
    " </body> \n",
    "</html>\n",
    "'''\n",
    "\n",
    "soup = BeautifulSoup(html_sample, 'html.parser')\n",
    "print(type(soup))\n",
    "print(soup.text)"
   ]
  },
  {
   "cell_type": "markdown",
   "metadata": {},
   "source": [
    "## 從標籤選取"
   ]
  },
  {
   "cell_type": "code",
   "execution_count": 16,
   "metadata": {
    "collapsed": false
   },
   "outputs": [
    {
     "name": "stdout",
     "output_type": "stream",
     "text": [
      "[<a class=\"link\" href=\"#\">This is link1</a>, <a class=\"link\" href=\"# link2\">This is link2</a>]\n",
      "<class 'list'>\n"
     ]
    }
   ],
   "source": [
    "print(soup.select('a'))\n",
    "print(type(soup.select('a')))"
   ]
  },
  {
   "cell_type": "code",
   "execution_count": 19,
   "metadata": {
    "collapsed": false
   },
   "outputs": [
    {
     "name": "stdout",
     "output_type": "stream",
     "text": [
      "<a class=\"link\" href=\"#\">This is link1</a>\n",
      "<class 'bs4.element.Tag'>\n"
     ]
    }
   ],
   "source": [
    "print(soup.select('a')[0])\n",
    "print(type(soup.select('a')[0]))"
   ]
  },
  {
   "cell_type": "code",
   "execution_count": 20,
   "metadata": {
    "collapsed": false
   },
   "outputs": [
    {
     "name": "stdout",
     "output_type": "stream",
     "text": [
      "This is link1\n",
      "<class 'str'>\n"
     ]
    }
   ],
   "source": [
    "print(soup.select('a')[0].text)\n",
    "print(type(soup.select('a')[0].text))"
   ]
  },
  {
   "cell_type": "code",
   "execution_count": 22,
   "metadata": {
    "collapsed": false
   },
   "outputs": [
    {
     "name": "stdout",
     "output_type": "stream",
     "text": [
      "[<h1 id=\"title\">Hello World</h1>]\n",
      "<class 'list'>\n"
     ]
    }
   ],
   "source": [
    "print(soup.select('h1'))\n",
    "print(type(soup.select('h1')))"
   ]
  },
  {
   "cell_type": "code",
   "execution_count": 24,
   "metadata": {
    "collapsed": false
   },
   "outputs": [
    {
     "name": "stdout",
     "output_type": "stream",
     "text": [
      "<h1 id=\"title\">Hello World</h1>\n",
      "<class 'bs4.element.Tag'>\n"
     ]
    }
   ],
   "source": [
    "print(soup.select('h1')[0])\n",
    "print(type(soup.select('h1')[0]))"
   ]
  },
  {
   "cell_type": "code",
   "execution_count": 25,
   "metadata": {
    "collapsed": false
   },
   "outputs": [
    {
     "name": "stdout",
     "output_type": "stream",
     "text": [
      "Hello World\n",
      "<class 'str'>\n"
     ]
    }
   ],
   "source": [
    "print(soup.select('h1')[0].text)\n",
    "print(type(soup.select('h1')[0].text))"
   ]
  },
  {
   "cell_type": "markdown",
   "metadata": {},
   "source": [
    "## 從css 樣式選取"
   ]
  },
  {
   "cell_type": "code",
   "execution_count": 27,
   "metadata": {
    "collapsed": false
   },
   "outputs": [
    {
     "data": {
      "text/plain": [
       "[<h1 id=\"title\">Hello World</h1>]"
      ]
     },
     "execution_count": 27,
     "metadata": {},
     "output_type": "execute_result"
    }
   ],
   "source": [
    "# id => #\n",
    "soup.select('#title')"
   ]
  },
  {
   "cell_type": "code",
   "execution_count": 29,
   "metadata": {
    "collapsed": false
   },
   "outputs": [
    {
     "data": {
      "text/plain": [
       "[<a class=\"link\" href=\"#\">This is link1</a>,\n",
       " <a class=\"link\" href=\"# link2\">This is link2</a>]"
      ]
     },
     "execution_count": 29,
     "metadata": {},
     "output_type": "execute_result"
    }
   ],
   "source": [
    "# class => .\n",
    "soup.select('.link')"
   ]
  },
  {
   "cell_type": "code",
   "execution_count": 32,
   "metadata": {
    "collapsed": false
   },
   "outputs": [
    {
     "name": "stdout",
     "output_type": "stream",
     "text": [
      "#\n",
      "# link2\n"
     ]
    }
   ],
   "source": [
    "for link in soup.select('.link'):\n",
    "    #print(link)\n",
    "    #print(link.text)\n",
    "    print(link['href'])"
   ]
  },
  {
   "cell_type": "markdown",
   "metadata": {},
   "source": [
    "## 撰寫完整網路爬蟲"
   ]
  },
  {
   "cell_type": "code",
   "execution_count": 37,
   "metadata": {
    "collapsed": false
   },
   "outputs": [],
   "source": [
    "import requests\n",
    "res = requests.get('http://www.appledaily.com.tw/realtimenews/section/new/')\n",
    "#print(res.text)"
   ]
  },
  {
   "cell_type": "code",
   "execution_count": 56,
   "metadata": {
    "collapsed": false
   },
   "outputs": [],
   "source": [
    "from bs4 import BeautifulSoup\n",
    "soup = BeautifulSoup(res.text , 'html.parser')\n",
    "\n",
    "domain = 'http://www.appledaily.com.tw'\n",
    "for news in soup.select('.rtddt a'):\n",
    "    #print(news)\n",
    "    #print(news.select('h1')[0].text)\n",
    "    #print(news.select('h2')[0].text)\n",
    "    #print(news.select('time')[0].text)\n",
    "    #print(domain + news['href'])\n",
    "    title    = news.select('h1')[0].text\n",
    "    category = news.select('h2')[0].text\n",
    "    dt       = news.select('time')[0].text\n",
    "    link     = domain + news['href']\n",
    "    \n",
    "    #print(dt, category, title, link)\n",
    "    #print('=====================================')"
   ]
  },
  {
   "cell_type": "markdown",
   "metadata": {},
   "source": [
    "## 抽取新聞內容"
   ]
  },
  {
   "cell_type": "code",
   "execution_count": 62,
   "metadata": {
    "collapsed": false
   },
   "outputs": [
    {
     "name": "stdout",
     "output_type": "stream",
     "text": [
      "韓國執政黨新世界黨前黨魁金武星今天（7日）在國會召開記者會，敦促總統朴槿惠立即退出新世界黨，並取消提名金秉準為總理，請國會推薦總理人選，成立中立內閣。他批評國民賦予總統的公權，被崔順實一家獨攬私用，牟取不正當利益。韓聯社報導，金武星說總統理應維護憲法權威，卻損害了憲法權威，青瓦台及黨內霸權勢力的專權跋扈踐踏了政治改革成果，破壞政黨民主。金武星還說，彈劾總統符合憲法精神，但政局劇烈動盪可能造成國家與人民的不幸。他要求作為領銜黨員的總統秉持「先黨後私」的精神和挽救黨的責任感，放棄黨籍，並儘快建立中立內閣，重建國民信任，穩定政局。 （國際中心／綜合外電報導）\n"
     ]
    }
   ],
   "source": [
    "import requests\n",
    "from bs4 import BeautifulSoup\n",
    "res = requests.get('http://www.appledaily.com.tw/realtimenews/article/international/20161107/983718/%E5%8D%97%E9%9F%93%E5%9F%B7%E6%94%BF%E9%BB%A8%E5%89%8D%E9%BB%A8%E9%AD%81%20%E8%A6%81%E6%B1%82%E6%9C%B4%E6%A7%BF%E6%83%A0%E9%80%80%E9%BB%A8')\n",
    "soup = BeautifulSoup(res.text, 'html.parser')\n",
    "print(soup.select('#summary')[0].text)"
   ]
  },
  {
   "cell_type": "code",
   "execution_count": 63,
   "metadata": {
    "collapsed": true
   },
   "outputs": [],
   "source": [
    "def getDetail(url):\n",
    "    res = requests.get(url)\n",
    "    soup = BeautifulSoup(res.text, 'html.parser')\n",
    "    return soup.select('#summary')[0].text"
   ]
  },
  {
   "cell_type": "code",
   "execution_count": 64,
   "metadata": {
    "collapsed": false
   },
   "outputs": [
    {
     "name": "stdout",
     "output_type": "stream",
     "text": [
      "韓國執政黨新世界黨前黨魁金武星今天（7日）在國會召開記者會，敦促總統朴槿惠立即退出新世界黨，並取消提名金秉準為總理，請國會推薦總理人選，成立中立內閣。他批評國民賦予總統的公權，被崔順實一家獨攬私用，牟取不正當利益。韓聯社報導，金武星說總統理應維護憲法權威，卻損害了憲法權威，青瓦台及黨內霸權勢力的專權跋扈踐踏了政治改革成果，破壞政黨民主。金武星還說，彈劾總統符合憲法精神，但政局劇烈動盪可能造成國家與人民的不幸。他要求作為領銜黨員的總統秉持「先黨後私」的精神和挽救黨的責任感，放棄黨籍，並儘快建立中立內閣，重建國民信任，穩定政局。 （國際中心／綜合外電報導）\n"
     ]
    }
   ],
   "source": [
    "print(getDetail('http://www.appledaily.com.tw/realtimenews/article/international/20161107/983718/%E5%8D%97%E9%9F%93%E5%9F%B7%E6%94%BF%E9%BB%A8%E5%89%8D%E9%BB%A8%E9%AD%81%20%E8%A6%81%E6%B1%82%E6%9C%B4%E6%A7%BF%E6%83%A0%E9%80%80%E9%BB%A8'))"
   ]
  },
  {
   "cell_type": "markdown",
   "metadata": {},
   "source": [
    "## 整理新聞內容"
   ]
  },
  {
   "cell_type": "code",
   "execution_count": 68,
   "metadata": {
    "collapsed": true
   },
   "outputs": [],
   "source": [
    "import requests\n",
    "res = requests.get('http://www.appledaily.com.tw/realtimenews/section/new/')\n",
    "#print(res.text)"
   ]
  },
  {
   "cell_type": "code",
   "execution_count": 69,
   "metadata": {
    "collapsed": true
   },
   "outputs": [],
   "source": [
    "from bs4 import BeautifulSoup\n",
    "soup = BeautifulSoup(res.text , 'html.parser')\n",
    "\n",
    "newsary = []\n",
    "\n",
    "domain  = 'http://www.appledaily.com.tw'\n",
    "for news in soup.select('.rtddt a'):\n",
    "    title    = news.select('h1')[0].text\n",
    "    category = news.select('h2')[0].text\n",
    "    dt       = news.select('time')[0].text\n",
    "    link     = domain + news['href']\n",
    "    content  = getDetail(link)\n",
    "    dic      = {'title' : title, 'category' : category, \n",
    "                'link': link, 'dt':dt, 'content':content}\n",
    "    newsary.append(dic)\n",
    "\n",
    "    "
   ]
  },
  {
   "cell_type": "code",
   "execution_count": 71,
   "metadata": {
    "collapsed": false
   },
   "outputs": [],
   "source": [
    "#newsary"
   ]
  },
  {
   "cell_type": "markdown",
   "metadata": {},
   "source": [
    "## 根據分頁抓取新聞"
   ]
  },
  {
   "cell_type": "code",
   "execution_count": 73,
   "metadata": {
    "collapsed": false
   },
   "outputs": [
    {
     "name": "stdout",
     "output_type": "stream",
     "text": [
      "http://www.appledaily.com.tw/realtimenews/section/new/1\n",
      "http://www.appledaily.com.tw/realtimenews/section/new/2\n",
      "http://www.appledaily.com.tw/realtimenews/section/new/3\n",
      "http://www.appledaily.com.tw/realtimenews/section/new/4\n",
      "http://www.appledaily.com.tw/realtimenews/section/new/5\n",
      "http://www.appledaily.com.tw/realtimenews/section/new/6\n",
      "http://www.appledaily.com.tw/realtimenews/section/new/7\n",
      "http://www.appledaily.com.tw/realtimenews/section/new/8\n",
      "http://www.appledaily.com.tw/realtimenews/section/new/9\n"
     ]
    }
   ],
   "source": [
    "urlformat = 'http://www.appledaily.com.tw/realtimenews/section/new/{}'\n",
    "for page in range(1,10):\n",
    "    #print(page)\n",
    "    print(urlformat.format(page))"
   ]
  },
  {
   "cell_type": "markdown",
   "metadata": {},
   "source": [
    "## 建立分頁資料抓取函式"
   ]
  },
  {
   "cell_type": "code",
   "execution_count": 74,
   "metadata": {
    "collapsed": true
   },
   "outputs": [],
   "source": [
    "import requests\n",
    "from bs4 import BeautifulSoup\n",
    "\n",
    "def getAppleNews(url):\n",
    "    res = requests.get(url)\n",
    "    soup = BeautifulSoup(res.text , 'html.parser')\n",
    "\n",
    "    newsary = []\n",
    "    domain  = 'http://www.appledaily.com.tw'\n",
    "    for news in soup.select('.rtddt a'):\n",
    "        title    = news.select('h1')[0].text\n",
    "        category = news.select('h2')[0].text\n",
    "        dt       = news.select('time')[0].text\n",
    "        link     = domain + news['href']\n",
    "        content  = getDetail(link)\n",
    "        dic      = {'title' : title, 'category' : category, \n",
    "                    'link': link, 'dt':dt, 'content':content}\n",
    "        newsary.append(dic)\n",
    "    return newsary"
   ]
  },
  {
   "cell_type": "code",
   "execution_count": 76,
   "metadata": {
    "collapsed": false
   },
   "outputs": [],
   "source": [
    "#getAppleNews('http://www.appledaily.com.tw/realtimenews/section/new/1')"
   ]
  },
  {
   "cell_type": "code",
   "execution_count": 79,
   "metadata": {
    "collapsed": false
   },
   "outputs": [
    {
     "data": {
      "text/plain": [
       "[1, 2, 3, 2, 4]"
      ]
     },
     "execution_count": 79,
     "metadata": {},
     "output_type": "execute_result"
    }
   ],
   "source": [
    "a = [1,2,3]\n",
    "b = [2,4]\n",
    "a.extend(b)\n",
    "a"
   ]
  },
  {
   "cell_type": "markdown",
   "metadata": {},
   "source": [
    "## 利用迴圈抓取分頁資料"
   ]
  },
  {
   "cell_type": "code",
   "execution_count": 80,
   "metadata": {
    "collapsed": true
   },
   "outputs": [],
   "source": [
    "urlformat = 'http://www.appledaily.com.tw/realtimenews/section/new/{}'\n",
    "totalnews = []\n",
    "for page in range(1,10):\n",
    "    ary = getAppleNews(urlformat.format(page))\n",
    "    totalnews.extend(ary)"
   ]
  },
  {
   "cell_type": "markdown",
   "metadata": {},
   "source": [
    "## 將資料整理成Pandas DataFrame"
   ]
  },
  {
   "cell_type": "code",
   "execution_count": 83,
   "metadata": {
    "collapsed": false
   },
   "outputs": [
    {
     "data": {
      "text/html": [
       "<div>\n",
       "<table border=\"1\" class=\"dataframe\">\n",
       "  <thead>\n",
       "    <tr style=\"text-align: right;\">\n",
       "      <th></th>\n",
       "      <th>category</th>\n",
       "      <th>content</th>\n",
       "      <th>dt</th>\n",
       "      <th>link</th>\n",
       "      <th>title</th>\n",
       "    </tr>\n",
       "  </thead>\n",
       "  <tbody>\n",
       "    <tr>\n",
       "      <th>0</th>\n",
       "      <td>生活</td>\n",
       "      <td>中部年度最大賞花盛事「新社花海節」日前登場，吸引不少遊客，傳因有人踩進花圃，當場被中國客糾正...</td>\n",
       "      <td>15:13</td>\n",
       "      <td>http://www.appledaily.com.tw/realtimenews/arti...</td>\n",
       "      <td>她踩花被罵「不要臉」　網友這次挺中國大叔(0)</td>\n",
       "    </tr>\n",
       "    <tr>\n",
       "      <th>1</th>\n",
       "      <td>社會</td>\n",
       "      <td>前總統馬英九卸任後，明天下午將首度以被告身分到台北地院出庭，北院為了這起立委柯建銘自訴馬英九...</td>\n",
       "      <td>15:12</td>\n",
       "      <td>http://www.appledaily.com.tw/realtimenews/arti...</td>\n",
       "      <td>「被告」馬英九明首度出庭　民眾搶光旁聽席(0)</td>\n",
       "    </tr>\n",
       "    <tr>\n",
       "      <th>2</th>\n",
       "      <td>財經</td>\n",
       "      <td>文曄（3036）今舉行法說會，第3季合併營收413.25億元，季增37%，年增44%，優於上...</td>\n",
       "      <td>15:12</td>\n",
       "      <td>http://www.appledaily.com.tw/realtimenews/arti...</td>\n",
       "      <td>文曄Q3獲利創新高　本季將再創高峰(0)</td>\n",
       "    </tr>\n",
       "    <tr>\n",
       "      <th>3</th>\n",
       "      <td>社會</td>\n",
       "      <td>台中一名莫姓婦人（67歲）4日上午到銀行準備提領130萬元，駐警起疑詢問，原來她遭詐騙集團盯...</td>\n",
       "      <td>15:11</td>\n",
       "      <td>http://www.appledaily.com.tw/realtimenews/arti...</td>\n",
       "      <td>賓士西裝男使壞　賣靈骨塔詐177萬(0)</td>\n",
       "    </tr>\n",
       "    <tr>\n",
       "      <th>4</th>\n",
       "      <td>地產</td>\n",
       "      <td>想看世界各地的知名石頭建物，例如羅馬競技場、中國萬里長城、英國巨石陣、埃及金字塔、巴西耶穌像...</td>\n",
       "      <td>15:10</td>\n",
       "      <td>http://www.appledaily.com.tw/realtimenews/arti...</td>\n",
       "      <td>萬里長城和巨石陣都有　世界知名石頭建物來...(0)</td>\n",
       "    </tr>\n",
       "  </tbody>\n",
       "</table>\n",
       "</div>"
      ],
      "text/plain": [
       "  category                                            content     dt  \\\n",
       "0       生活  中部年度最大賞花盛事「新社花海節」日前登場，吸引不少遊客，傳因有人踩進花圃，當場被中國客糾正...  15:13   \n",
       "1       社會  前總統馬英九卸任後，明天下午將首度以被告身分到台北地院出庭，北院為了這起立委柯建銘自訴馬英九...  15:12   \n",
       "2       財經  文曄（3036）今舉行法說會，第3季合併營收413.25億元，季增37%，年增44%，優於上...  15:12   \n",
       "3       社會  台中一名莫姓婦人（67歲）4日上午到銀行準備提領130萬元，駐警起疑詢問，原來她遭詐騙集團盯...  15:11   \n",
       "4       地產  想看世界各地的知名石頭建物，例如羅馬競技場、中國萬里長城、英國巨石陣、埃及金字塔、巴西耶穌像...  15:10   \n",
       "\n",
       "                                                link  \\\n",
       "0  http://www.appledaily.com.tw/realtimenews/arti...   \n",
       "1  http://www.appledaily.com.tw/realtimenews/arti...   \n",
       "2  http://www.appledaily.com.tw/realtimenews/arti...   \n",
       "3  http://www.appledaily.com.tw/realtimenews/arti...   \n",
       "4  http://www.appledaily.com.tw/realtimenews/arti...   \n",
       "\n",
       "                        title  \n",
       "0     她踩花被罵「不要臉」　網友這次挺中國大叔(0)  \n",
       "1     「被告」馬英九明首度出庭　民眾搶光旁聽席(0)  \n",
       "2        文曄Q3獲利創新高　本季將再創高峰(0)  \n",
       "3        賓士西裝男使壞　賣靈骨塔詐177萬(0)  \n",
       "4  萬里長城和巨石陣都有　世界知名石頭建物來...(0)  "
      ]
     },
     "execution_count": 83,
     "metadata": {},
     "output_type": "execute_result"
    }
   ],
   "source": [
    "import pandas\n",
    "newspd = pandas.DataFrame(totalnews)\n",
    "newspd.head()"
   ]
  },
  {
   "cell_type": "markdown",
   "metadata": {},
   "source": [
    "## 將資料儲存至檔案或資料庫"
   ]
  },
  {
   "cell_type": "code",
   "execution_count": 84,
   "metadata": {
    "collapsed": true
   },
   "outputs": [],
   "source": [
    "newspd.to_excel('news.xlsx')"
   ]
  },
  {
   "cell_type": "code",
   "execution_count": 86,
   "metadata": {
    "collapsed": false
   },
   "outputs": [],
   "source": [
    "import sqlite3 \n",
    "with sqlite3.connect('news.sqlite') as db:\n",
    "    newspd.to_sql('news2', con = db)"
   ]
  },
  {
   "cell_type": "markdown",
   "metadata": {},
   "source": [
    "## 英文斷詞"
   ]
  },
  {
   "cell_type": "code",
   "execution_count": 87,
   "metadata": {
    "collapsed": false
   },
   "outputs": [
    {
     "data": {
      "text/plain": [
       "['this', 'is', 'a', 'book']"
      ]
     },
     "execution_count": 87,
     "metadata": {},
     "output_type": "execute_result"
    }
   ],
   "source": [
    "a = 'this is a book'\n",
    "a.split()"
   ]
  },
  {
   "cell_type": "markdown",
   "metadata": {},
   "source": [
    "## 中文斷詞"
   ]
  },
  {
   "cell_type": "code",
   "execution_count": 88,
   "metadata": {
    "collapsed": false
   },
   "outputs": [
    {
     "name": "stderr",
     "output_type": "stream",
     "text": [
      "Building prefix dict from the default dictionary ...\n",
      "Loading model from cache C:\\Users\\User\\AppData\\Local\\Temp\\jieba.cache\n",
      "Loading model cost 1.872 seconds.\n",
      "Prefix dict has been built succesfully.\n"
     ]
    },
    {
     "name": "stdout",
     "output_type": "stream",
     "text": [
      "立法院\n",
      "衛環委員會\n",
      "今\n",
      "邀集\n",
      "衛福部\n",
      "，\n",
      "就\n",
      "日本\n",
      "輸入\n",
      "食品安全\n",
      "問題\n",
      "進行\n",
      "專案\n",
      "報告\n",
      "，\n",
      "核災\n",
      "食品\n",
      "將\n",
      "解禁\n",
      "，\n",
      "僅福島\n",
      "縣\n",
      "不能\n",
      "進口\n",
      "來\n",
      "台\n",
      "。\n",
      "國民黨\n",
      "立法院\n",
      "黨團\n",
      "今天\n",
      "舉行\n",
      "記者\n",
      "會\n",
      "，\n",
      "黨團書\n",
      "記長\n",
      "江啟\n",
      "臣\n",
      "質疑\n",
      "，\n",
      "必要\n",
      "這麼\n",
      "急著\n",
      "解禁\n",
      "嗎\n",
      "？\n",
      "沒有\n",
      "吃\n",
      "這些\n",
      "食品\n",
      "就\n",
      "活不了\n",
      "嗎\n",
      "？\n"
     ]
    }
   ],
   "source": [
    "import jieba\n",
    "for ele in jieba.cut('立法院衛環委員會今邀集衛福部，就日本輸入食品安全問題進行專案報告，核災食品將解禁，僅福島縣不能進口來台。國民黨立法院黨團今天舉行記者會，黨團書記長江啟臣質疑，必要這麼急著解禁嗎？沒有吃這些食品就活不了嗎？'):\n",
    "    print(ele)"
   ]
  }
 ],
 "metadata": {
  "kernelspec": {
   "display_name": "Python [Root]",
   "language": "python",
   "name": "Python [Root]"
  },
  "language_info": {
   "codemirror_mode": {
    "name": "ipython",
    "version": 3
   },
   "file_extension": ".py",
   "mimetype": "text/x-python",
   "name": "python",
   "nbconvert_exporter": "python",
   "pygments_lexer": "ipython3",
   "version": "3.5.2"
  }
 },
 "nbformat": 4,
 "nbformat_minor": 0
}
